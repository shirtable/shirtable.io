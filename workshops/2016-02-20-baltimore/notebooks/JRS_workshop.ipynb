{
 "cells": [
  {
   "cell_type": "markdown",
   "metadata": {},
   "source": [
    "# Notebook of Joshua Smith\n",
    "What follows is the code I wrote during the [Shirtable 2016-02-20_baltimore workshop](http://shirtable.io/2016-02-20-baltimore). The code is licensed under the [MIT license](https://opensource.org/licenses/MIT) and the words are licensed [CC BY-NC-SA 4.0](https://creativecommons.org/licenses/by-nc-sa/4.0/)."
   ]
  },
  {
   "cell_type": "code",
   "execution_count": 2,
   "metadata": {
    "collapsed": false
   },
   "outputs": [
    {
     "name": "stdout",
     "output_type": "stream",
     "text": [
      "Hello world!\n",
      "Hello world?\n"
     ]
    }
   ],
   "source": [
    "print \"Hello world!\"\n",
    "print \"Hello world?\""
   ]
  },
  {
   "cell_type": "code",
   "execution_count": 7,
   "metadata": {
    "collapsed": false
   },
   "outputs": [
    {
     "name": "stdout",
     "output_type": "stream",
     "text": [
      "6\n"
     ]
    }
   ],
   "source": [
    "print 4 + 2"
   ]
  },
  {
   "cell_type": "code",
   "execution_count": 4,
   "metadata": {
    "collapsed": false
   },
   "outputs": [
    {
     "name": "stdout",
     "output_type": "stream",
     "text": [
      "8\n"
     ]
    }
   ],
   "source": [
    "print 4 * 2"
   ]
  },
  {
   "cell_type": "code",
   "execution_count": 5,
   "metadata": {
    "collapsed": false
   },
   "outputs": [
    {
     "name": "stdout",
     "output_type": "stream",
     "text": [
      "2\n"
     ]
    }
   ],
   "source": [
    "print 4 / 2"
   ]
  },
  {
   "cell_type": "code",
   "execution_count": 9,
   "metadata": {
    "collapsed": false
   },
   "outputs": [
    {
     "name": "stdout",
     "output_type": "stream",
     "text": [
      "24\n"
     ]
    }
   ],
   "source": [
    "print (4 + 2) * 4"
   ]
  },
  {
   "cell_type": "code",
   "execution_count": 11,
   "metadata": {
    "collapsed": false
   },
   "outputs": [
    {
     "name": "stdout",
     "output_type": "stream",
     "text": [
      "YEAR,GENDER,NAME,COUNT\r\n",
      "2009,MALE,DANIEL,3423\r\n",
      "2009,MALE,ANTHONY,3106\r\n",
      "2009,MALE,ANGEL,3058\r\n",
      "2009,MALE,JACOB,2978\r\n",
      "2009,MALE,ALEXANDER,2905\r\n",
      "2009,MALE,ETHAN,2687\r\n",
      "2009,MALE,DAVID,2648\r\n",
      "2009,MALE,ANDREW,2605\r\n",
      "2009,MALE,MATTHEW,2435\r\n"
     ]
    }
   ],
   "source": [
    "!head Most_Popular_Baby_Names__2009-2013.csv"
   ]
  },
  {
   "cell_type": "code",
   "execution_count": 12,
   "metadata": {
    "collapsed": false
   },
   "outputs": [
    {
     "name": "stdout",
     "output_type": "stream",
     "text": [
      "Daniel\n"
     ]
    }
   ],
   "source": [
    "first_baby_name = \"Daniel\"\n",
    "print first_baby_name"
   ]
  },
  {
   "cell_type": "code",
   "execution_count": 13,
   "metadata": {
    "collapsed": false
   },
   "outputs": [
    {
     "name": "stdout",
     "output_type": "stream",
     "text": [
      "9587\n"
     ]
    }
   ],
   "source": [
    "# Number of male babies with three most popular names\n",
    "first_baby_number = 3423\n",
    "second_baby_number = 3106\n",
    "third_baby_number = 3058\n",
    "\n",
    "top_three_names = first_baby_number + second_baby_number + third_baby_number\n",
    "print top_three_names"
   ]
  },
  {
   "cell_type": "code",
   "execution_count": 14,
   "metadata": {
    "collapsed": false
   },
   "outputs": [
    {
     "name": "stdout",
     "output_type": "stream",
     "text": [
      "8\n"
     ]
    }
   ],
   "source": [
    "length = 4\n",
    "width = 2\n",
    "area = length * width\n",
    "print area"
   ]
  },
  {
   "cell_type": "code",
   "execution_count": 15,
   "metadata": {
    "collapsed": false
   },
   "outputs": [
    {
     "name": "stdout",
     "output_type": "stream",
     "text": [
      "6\n"
     ]
    }
   ],
   "source": [
    "# change the value of the `length` variable\n",
    "length = 6\n",
    "print length"
   ]
  },
  {
   "cell_type": "code",
   "execution_count": 16,
   "metadata": {
    "collapsed": false
   },
   "outputs": [
    {
     "name": "stdout",
     "output_type": "stream",
     "text": [
      "8\n"
     ]
    }
   ],
   "source": [
    "print area"
   ]
  },
  {
   "cell_type": "markdown",
   "metadata": {},
   "source": [
    "# Do not use these words to name variables\n",
    "\n",
    "    False      class      finally    is         return\n",
    "    None       continue   for        lambda     try\n",
    "    True       def        from       nonlocal   while\n",
    "    and        del        global     not        with\n",
    "    as         elif       if         or         yield\n",
    "    assert     else       import     pass\n",
    "    break      except     in         raise\n"
   ]
  },
  {
   "cell_type": "code",
   "execution_count": 20,
   "metadata": {
    "collapsed": false
   },
   "outputs": [
    {
     "name": "stdout",
     "output_type": "stream",
     "text": [
      "it works!\n"
     ]
    }
   ],
   "source": [
    "try_this = \"it works!\"\n",
    "print try_this"
   ]
  },
  {
   "cell_type": "code",
   "execution_count": 22,
   "metadata": {
    "collapsed": true
   },
   "outputs": [],
   "source": [
    "two_chainz = \"no problem\""
   ]
  },
  {
   "cell_type": "code",
   "execution_count": 23,
   "metadata": {
    "collapsed": true
   },
   "outputs": [],
   "source": [
    "_fine_but = \"leading underscores are legal, but they have special meaning\""
   ]
  },
  {
   "cell_type": "code",
   "execution_count": 24,
   "metadata": {
    "collapsed": false
   },
   "outputs": [
    {
     "ename": "SyntaxError",
     "evalue": "invalid syntax (<ipython-input-24-018f5b93fbec>, line 1)",
     "output_type": "error",
     "traceback": [
      "\u001b[0;36m  File \u001b[0;32m\"<ipython-input-24-018f5b93fbec>\"\u001b[0;36m, line \u001b[0;32m1\u001b[0m\n\u001b[0;31m    2_chainz = \"not ok\"\u001b[0m\n\u001b[0m           ^\u001b[0m\n\u001b[0;31mSyntaxError\u001b[0m\u001b[0;31m:\u001b[0m invalid syntax\n"
     ]
    }
   ],
   "source": [
    "2_chainz = \"not ok\""
   ]
  },
  {
   "cell_type": "code",
   "execution_count": 28,
   "metadata": {
    "collapsed": false
   },
   "outputs": [
    {
     "ename": "SyntaxError",
     "evalue": "can't assign to operator (<ipython-input-28-daf6db172d4c>, line 1)",
     "output_type": "error",
     "traceback": [
      "\u001b[0;36m  File \u001b[0;32m\"<ipython-input-28-daf6db172d4c>\"\u001b[0;36m, line \u001b[0;32m1\u001b[0m\n\u001b[0;31m    wont-work = \"nope\"\u001b[0m\n\u001b[0;31mSyntaxError\u001b[0m\u001b[0;31m:\u001b[0m can't assign to operator\n"
     ]
    }
   ],
   "source": [
    "wont-work = \"nope\""
   ]
  },
  {
   "cell_type": "code",
   "execution_count": 29,
   "metadata": {
    "collapsed": true
   },
   "outputs": [],
   "source": [
    "# this is a comment\n",
    "a = \"apple\" # can also occur after assignment on a line"
   ]
  },
  {
   "cell_type": "markdown",
   "metadata": {},
   "source": [
    "# Strings numbers and type"
   ]
  },
  {
   "cell_type": "code",
   "execution_count": 32,
   "metadata": {
    "collapsed": false
   },
   "outputs": [
    {
     "name": "stdout",
     "output_type": "stream",
     "text": [
      "2 Chainz\n",
      "2 Chainz 2 2 Chainz\n"
     ]
    }
   ],
   "source": [
    "beginning = \"2\"\n",
    "end = \"Chainz\"\n",
    "print beginning, end\n",
    "print beginning, end, beginning, beginning, end"
   ]
  },
  {
   "cell_type": "code",
   "execution_count": 31,
   "metadata": {
    "collapsed": false
   },
   "outputs": [
    {
     "name": "stdout",
     "output_type": "stream",
     "text": [
      "2Chainz\n"
     ]
    }
   ],
   "source": [
    "rapper = beginning + end\n",
    "print rapper"
   ]
  },
  {
   "cell_type": "code",
   "execution_count": 33,
   "metadata": {
    "collapsed": false
   },
   "outputs": [
    {
     "name": "stdout",
     "output_type": "stream",
     "text": [
      "2 Chainz\n"
     ]
    }
   ],
   "source": [
    "rapper = beginning + \" \" + end\n",
    "print rapper"
   ]
  },
  {
   "cell_type": "code",
   "execution_count": 34,
   "metadata": {
    "collapsed": false
   },
   "outputs": [
    {
     "name": "stdout",
     "output_type": "stream",
     "text": [
      "2 CHAINZ\n"
     ]
    }
   ],
   "source": [
    "# Print all uppercase:\n",
    "print rapper.upper()"
   ]
  },
  {
   "cell_type": "code",
   "execution_count": 35,
   "metadata": {
    "collapsed": false
   },
   "outputs": [
    {
     "name": "stdout",
     "output_type": "stream",
     "text": [
      "2 chainz\n"
     ]
    }
   ],
   "source": [
    "print rapper.lower()"
   ]
  },
  {
   "cell_type": "code",
   "execution_count": 36,
   "metadata": {
    "collapsed": false
   },
   "outputs": [
    {
     "name": "stdout",
     "output_type": "stream",
     "text": [
      "8\n"
     ]
    }
   ],
   "source": [
    "print len(rapper)"
   ]
  },
  {
   "cell_type": "code",
   "execution_count": 37,
   "metadata": {
    "collapsed": false
   },
   "outputs": [
    {
     "data": {
      "text/plain": [
       "int"
      ]
     },
     "execution_count": 37,
     "metadata": {},
     "output_type": "execute_result"
    }
   ],
   "source": [
    "i = 12\n",
    "f_1 = 12.27\n",
    "f_2 = 12.\n",
    "\n",
    "type(i)"
   ]
  },
  {
   "cell_type": "code",
   "execution_count": 38,
   "metadata": {
    "collapsed": false
   },
   "outputs": [
    {
     "data": {
      "text/plain": [
       "float"
      ]
     },
     "execution_count": 38,
     "metadata": {},
     "output_type": "execute_result"
    }
   ],
   "source": [
    "type(f_1)"
   ]
  },
  {
   "cell_type": "code",
   "execution_count": 39,
   "metadata": {
    "collapsed": false
   },
   "outputs": [
    {
     "data": {
      "text/plain": [
       "float"
      ]
     },
     "execution_count": 39,
     "metadata": {},
     "output_type": "execute_result"
    }
   ],
   "source": [
    "type(f_2)"
   ]
  },
  {
   "cell_type": "code",
   "execution_count": 40,
   "metadata": {
    "collapsed": false
   },
   "outputs": [
    {
     "name": "stdout",
     "output_type": "stream",
     "text": [
      "2Chainz\n"
     ]
    }
   ],
   "source": [
    "beginning = \"2\"\n",
    "dos = 2\n",
    "end = \"Chainz\"\n",
    "\n",
    "# this should work\n",
    "rapper = beginning + end\n",
    "print rapper"
   ]
  },
  {
   "cell_type": "code",
   "execution_count": 41,
   "metadata": {
    "collapsed": false
   },
   "outputs": [
    {
     "ename": "TypeError",
     "evalue": "unsupported operand type(s) for +: 'int' and 'str'",
     "output_type": "error",
     "traceback": [
      "\u001b[0;31m---------------------------------------------------------------------------\u001b[0m",
      "\u001b[0;31mTypeError\u001b[0m                                 Traceback (most recent call last)",
      "\u001b[0;32m<ipython-input-41-9c3ac16e49d6>\u001b[0m in \u001b[0;36m<module>\u001b[0;34m()\u001b[0m\n\u001b[1;32m      1\u001b[0m \u001b[0;31m# try with the int\u001b[0m\u001b[0;34m\u001b[0m\u001b[0;34m\u001b[0m\u001b[0m\n\u001b[0;32m----> 2\u001b[0;31m \u001b[0mrapper\u001b[0m \u001b[0;34m=\u001b[0m \u001b[0mdos\u001b[0m \u001b[0;34m+\u001b[0m \u001b[0mend\u001b[0m\u001b[0;34m\u001b[0m\u001b[0m\n\u001b[0m",
      "\u001b[0;31mTypeError\u001b[0m: unsupported operand type(s) for +: 'int' and 'str'"
     ]
    }
   ],
   "source": [
    "# try with the int\n",
    "rapper = dos + end"
   ]
  },
  {
   "cell_type": "code",
   "execution_count": 42,
   "metadata": {
    "collapsed": false
   },
   "outputs": [
    {
     "data": {
      "text/plain": [
       "int"
      ]
     },
     "execution_count": 42,
     "metadata": {},
     "output_type": "execute_result"
    }
   ],
   "source": [
    "type(dos)"
   ]
  },
  {
   "cell_type": "code",
   "execution_count": 43,
   "metadata": {
    "collapsed": false
   },
   "outputs": [
    {
     "data": {
      "text/plain": [
       "str"
      ]
     },
     "execution_count": 43,
     "metadata": {},
     "output_type": "execute_result"
    }
   ],
   "source": [
    "str_dos = str(dos)\n",
    "type(str_dos)"
   ]
  },
  {
   "cell_type": "code",
   "execution_count": 44,
   "metadata": {
    "collapsed": false
   },
   "outputs": [
    {
     "name": "stdout",
     "output_type": "stream",
     "text": [
      "2\n"
     ]
    }
   ],
   "source": [
    "print str_dos"
   ]
  },
  {
   "cell_type": "code",
   "execution_count": 45,
   "metadata": {
    "collapsed": false
   },
   "outputs": [
    {
     "name": "stdout",
     "output_type": "stream",
     "text": [
      "2Chainz\n"
     ]
    }
   ],
   "source": [
    "rapper = str_dos + end\n",
    "print rapper"
   ]
  },
  {
   "cell_type": "code",
   "execution_count": null,
   "metadata": {
    "collapsed": true
   },
   "outputs": [],
   "source": []
  },
  {
   "cell_type": "code",
   "execution_count": 46,
   "metadata": {
    "collapsed": false
   },
   "outputs": [
    {
     "data": {
      "text/plain": [
       "'23'"
      ]
     },
     "execution_count": 46,
     "metadata": {},
     "output_type": "execute_result"
    }
   ],
   "source": [
    "\"2\" + \"3\""
   ]
  },
  {
   "cell_type": "code",
   "execution_count": 47,
   "metadata": {
    "collapsed": false
   },
   "outputs": [
    {
     "ename": "TypeError",
     "evalue": "unsupported operand type(s) for +: 'int' and 'str'",
     "output_type": "error",
     "traceback": [
      "\u001b[0;31m---------------------------------------------------------------------------\u001b[0m",
      "\u001b[0;31mTypeError\u001b[0m                                 Traceback (most recent call last)",
      "\u001b[0;32m<ipython-input-47-2068cae7beb7>\u001b[0m in \u001b[0;36m<module>\u001b[0;34m()\u001b[0m\n\u001b[0;32m----> 1\u001b[0;31m \u001b[0;36m2\u001b[0m \u001b[0;34m+\u001b[0m \u001b[0;34m\"3\"\u001b[0m\u001b[0;34m\u001b[0m\u001b[0m\n\u001b[0m",
      "\u001b[0;31mTypeError\u001b[0m: unsupported operand type(s) for +: 'int' and 'str'"
     ]
    }
   ],
   "source": [
    "2 + \"3\""
   ]
  },
  {
   "cell_type": "code",
   "execution_count": 48,
   "metadata": {
    "collapsed": false
   },
   "outputs": [
    {
     "data": {
      "text/plain": [
       "float"
      ]
     },
     "execution_count": 48,
     "metadata": {},
     "output_type": "execute_result"
    }
   ],
   "source": [
    "pi = 3.14\n",
    "str_pi = str(pi)\n",
    "type(pi)"
   ]
  },
  {
   "cell_type": "code",
   "execution_count": 49,
   "metadata": {
    "collapsed": false
   },
   "outputs": [
    {
     "data": {
      "text/plain": [
       "str"
      ]
     },
     "execution_count": 49,
     "metadata": {},
     "output_type": "execute_result"
    }
   ],
   "source": [
    "type(str_pi)"
   ]
  },
  {
   "cell_type": "code",
   "execution_count": 50,
   "metadata": {
    "collapsed": false
   },
   "outputs": [
    {
     "name": "stdout",
     "output_type": "stream",
     "text": [
      "2\n"
     ]
    }
   ],
   "source": [
    "print beginning"
   ]
  },
  {
   "cell_type": "code",
   "execution_count": 51,
   "metadata": {
    "collapsed": false
   },
   "outputs": [
    {
     "data": {
      "text/plain": [
       "str"
      ]
     },
     "execution_count": 51,
     "metadata": {},
     "output_type": "execute_result"
    }
   ],
   "source": [
    "type(beginning)"
   ]
  },
  {
   "cell_type": "code",
   "execution_count": 52,
   "metadata": {
    "collapsed": false
   },
   "outputs": [
    {
     "data": {
      "text/plain": [
       "int"
      ]
     },
     "execution_count": 52,
     "metadata": {},
     "output_type": "execute_result"
    }
   ],
   "source": [
    "int_beginning = int(beginning)\n",
    "type(int_beginning)"
   ]
  },
  {
   "cell_type": "code",
   "execution_count": 53,
   "metadata": {
    "collapsed": true
   },
   "outputs": [],
   "source": [
    "fl_beginning = float(beginning)"
   ]
  },
  {
   "cell_type": "code",
   "execution_count": 54,
   "metadata": {
    "collapsed": false
   },
   "outputs": [
    {
     "data": {
      "text/plain": [
       "float"
      ]
     },
     "execution_count": 54,
     "metadata": {},
     "output_type": "execute_result"
    }
   ],
   "source": [
    "type(fl_beginning)"
   ]
  },
  {
   "cell_type": "code",
   "execution_count": 55,
   "metadata": {
    "collapsed": false
   },
   "outputs": [
    {
     "data": {
      "text/plain": [
       "float"
      ]
     },
     "execution_count": 55,
     "metadata": {},
     "output_type": "execute_result"
    }
   ],
   "source": [
    "str_human_body_temp = \"98.6\"\n",
    "\n",
    "fl_hbt = float(str_human_body_temp)\n",
    "type(fl_hbt)"
   ]
  },
  {
   "cell_type": "code",
   "execution_count": 56,
   "metadata": {
    "collapsed": false
   },
   "outputs": [
    {
     "ename": "ValueError",
     "evalue": "invalid literal for int() with base 10: '98.6'",
     "output_type": "error",
     "traceback": [
      "\u001b[0;31m---------------------------------------------------------------------------\u001b[0m",
      "\u001b[0;31mValueError\u001b[0m                                Traceback (most recent call last)",
      "\u001b[0;32m<ipython-input-56-7265c58a1b41>\u001b[0m in \u001b[0;36m<module>\u001b[0;34m()\u001b[0m\n\u001b[0;32m----> 1\u001b[0;31m \u001b[0mint_hbt\u001b[0m \u001b[0;34m=\u001b[0m \u001b[0mint\u001b[0m\u001b[0;34m(\u001b[0m\u001b[0mstr_human_body_temp\u001b[0m\u001b[0;34m)\u001b[0m\u001b[0;34m\u001b[0m\u001b[0m\n\u001b[0m",
      "\u001b[0;31mValueError\u001b[0m: invalid literal for int() with base 10: '98.6'"
     ]
    }
   ],
   "source": [
    "int_hbt = int(str_human_body_temp)"
   ]
  },
  {
   "cell_type": "code",
   "execution_count": 57,
   "metadata": {
    "collapsed": false
   },
   "outputs": [
    {
     "name": "stdout",
     "output_type": "stream",
     "text": [
      "Joshua Ryan Smith\n"
     ]
    }
   ],
   "source": [
    "jrs = \"Joshua Ryan Smith\"\n",
    "print jrs"
   ]
  },
  {
   "cell_type": "code",
   "execution_count": 58,
   "metadata": {
    "collapsed": false
   },
   "outputs": [
    {
     "name": "stdout",
     "output_type": "stream",
     "text": [
      "JOSHUA RYAN SMITH\n"
     ]
    }
   ],
   "source": [
    "print jrs.upper()"
   ]
  },
  {
   "cell_type": "code",
   "execution_count": 59,
   "metadata": {
    "collapsed": false
   },
   "outputs": [
    {
     "name": "stdout",
     "output_type": "stream",
     "text": [
      "joshua ryan smith\n"
     ]
    }
   ],
   "source": [
    "print jrs.lower()"
   ]
  },
  {
   "cell_type": "code",
   "execution_count": 60,
   "metadata": {
    "collapsed": false
   },
   "outputs": [
    {
     "data": {
      "text/plain": [
       "['__add__',\n",
       " '__class__',\n",
       " '__contains__',\n",
       " '__delattr__',\n",
       " '__doc__',\n",
       " '__eq__',\n",
       " '__format__',\n",
       " '__ge__',\n",
       " '__getattribute__',\n",
       " '__getitem__',\n",
       " '__getnewargs__',\n",
       " '__getslice__',\n",
       " '__gt__',\n",
       " '__hash__',\n",
       " '__init__',\n",
       " '__le__',\n",
       " '__len__',\n",
       " '__lt__',\n",
       " '__mod__',\n",
       " '__mul__',\n",
       " '__ne__',\n",
       " '__new__',\n",
       " '__reduce__',\n",
       " '__reduce_ex__',\n",
       " '__repr__',\n",
       " '__rmod__',\n",
       " '__rmul__',\n",
       " '__setattr__',\n",
       " '__sizeof__',\n",
       " '__str__',\n",
       " '__subclasshook__',\n",
       " '_formatter_field_name_split',\n",
       " '_formatter_parser',\n",
       " 'capitalize',\n",
       " 'center',\n",
       " 'count',\n",
       " 'decode',\n",
       " 'encode',\n",
       " 'endswith',\n",
       " 'expandtabs',\n",
       " 'find',\n",
       " 'format',\n",
       " 'index',\n",
       " 'isalnum',\n",
       " 'isalpha',\n",
       " 'isdigit',\n",
       " 'islower',\n",
       " 'isspace',\n",
       " 'istitle',\n",
       " 'isupper',\n",
       " 'join',\n",
       " 'ljust',\n",
       " 'lower',\n",
       " 'lstrip',\n",
       " 'partition',\n",
       " 'replace',\n",
       " 'rfind',\n",
       " 'rindex',\n",
       " 'rjust',\n",
       " 'rpartition',\n",
       " 'rsplit',\n",
       " 'rstrip',\n",
       " 'split',\n",
       " 'splitlines',\n",
       " 'startswith',\n",
       " 'strip',\n",
       " 'swapcase',\n",
       " 'title',\n",
       " 'translate',\n",
       " 'upper',\n",
       " 'zfill']"
      ]
     },
     "execution_count": 60,
     "metadata": {},
     "output_type": "execute_result"
    }
   ],
   "source": [
    "dir(jrs)"
   ]
  },
  {
   "cell_type": "code",
   "execution_count": 62,
   "metadata": {
    "collapsed": false
   },
   "outputs": [
    {
     "name": "stdout",
     "output_type": "stream",
     "text": [
      "Variable              Type     Data/Info\n",
      "----------------------------------------\n",
      "a                     str      apple\n",
      "area                  int      8\n",
      "beginning             str      2\n",
      "dos                   int      2\n",
      "end                   str      Chainz\n",
      "f_1                   float    12.27\n",
      "f_2                   float    12.0\n",
      "first_baby_name       str      Daniel\n",
      "first_baby_number     int      3423\n",
      "fl_beginning          float    2.0\n",
      "fl_hbt                float    98.6\n",
      "i                     int      12\n",
      "int_beginning         int      2\n",
      "jrs                   str      Joshua Ryan Smith\n",
      "length                int      6\n",
      "pi                    float    3.14\n",
      "rapper                str      2Chainz\n",
      "second_baby_number    int      3106\n",
      "str_dos               str      2\n",
      "str_human_body_temp   str      98.6\n",
      "str_pi                str      3.14\n",
      "third_baby_number     int      3058\n",
      "top_three_names       int      9587\n",
      "try_this              str      it works!\n",
      "two_chainz            str      no problem\n",
      "width                 int      2\n"
     ]
    }
   ],
   "source": [
    "%whos"
   ]
  },
  {
   "cell_type": "code",
   "execution_count": 63,
   "metadata": {
    "collapsed": false
   },
   "outputs": [
    {
     "data": {
      "text/plain": [
       "True"
      ]
     },
     "execution_count": 63,
     "metadata": {},
     "output_type": "execute_result"
    }
   ],
   "source": [
    "str_dos.isdigit()"
   ]
  },
  {
   "cell_type": "code",
   "execution_count": 64,
   "metadata": {
    "collapsed": false
   },
   "outputs": [
    {
     "data": {
      "text/plain": [
       "False"
      ]
     },
     "execution_count": 64,
     "metadata": {},
     "output_type": "execute_result"
    }
   ],
   "source": [
    "str_dos.isalpha()"
   ]
  },
  {
   "cell_type": "code",
   "execution_count": 65,
   "metadata": {
    "collapsed": true
   },
   "outputs": [],
   "source": [
    "b0 = {\"year\": 2009,\n",
    "    \"gender\": \"male\",\n",
    "    \"name\": \"DANIEL\",\n",
    "    \"count\": 3423,}\n",
    "\n",
    "b1 = {\"year\": 2009,\n",
    "    \"gender\": \"male\",\n",
    "    \"name\": \"ANTHONY\",\n",
    "    \"count\": 3106,}\n",
    "\n",
    "b2 = {\"year\": 2009,\n",
    "    \"gender\": \"male\",\n",
    "    \"name\": \"ANGEL\",\n",
    "    \"count\": 3058,}\n",
    "\n",
    "b3 = {\"year\": 2009,\n",
    "    \"gender\": \"male\",\n",
    "    \"name\": \"JACOB\",\n",
    "    \"count\": 2978,}\n",
    "\n",
    "b4 = {\"year\": 2009,\n",
    "    \"gender\": \"male\",\n",
    "    \"name\": \"ALEXANDER\",\n",
    "    \"count\": 2905,}\n",
    "\n",
    "babies = [b0, b1, b2, b3, b4]"
   ]
  },
  {
   "cell_type": "markdown",
   "metadata": {},
   "source": [
    "# Looping and iteration"
   ]
  },
  {
   "cell_type": "code",
   "execution_count": 66,
   "metadata": {
    "collapsed": true
   },
   "outputs": [],
   "source": [
    "baby_names = [\"DANIEL\", \"ANTHONY\", \"ANGEL\", \"JACOB\", \"ALEXANDER\"]"
   ]
  },
  {
   "cell_type": "code",
   "execution_count": 69,
   "metadata": {
    "collapsed": false
   },
   "outputs": [
    {
     "name": "stdout",
     "output_type": "stream",
     "text": [
      "DANIEL\n",
      "=====\n",
      "ANTHONY\n",
      "=====\n",
      "ANGEL\n",
      "=====\n",
      "JACOB\n",
      "=====\n",
      "ALEXANDER\n",
      "=====\n"
     ]
    }
   ],
   "source": [
    "for name in baby_names:\n",
    "    print name\n",
    "    print \"=====\""
   ]
  },
  {
   "cell_type": "code",
   "execution_count": 70,
   "metadata": {
    "collapsed": false
   },
   "outputs": [
    {
     "name": "stdout",
     "output_type": "stream",
     "text": [
      "YEAR,GENDER,NAME,COUNT\r\n",
      "2009,MALE,DANIEL,3423\r\n",
      "2009,MALE,ANTHONY,3106\r\n",
      "2009,MALE,ANGEL,3058\r\n",
      "2009,MALE,JACOB,2978\r\n",
      "2009,MALE,ALEXANDER,2905\r\n"
     ]
    }
   ],
   "source": [
    "!head -n 6 Most_Popular_Baby_Names__2009-2013.csv"
   ]
  },
  {
   "cell_type": "code",
   "execution_count": 73,
   "metadata": {
    "collapsed": false
   },
   "outputs": [
    {
     "name": "stdout",
     "output_type": "stream",
     "text": [
      "before sum 0\n",
      "after sum 3423\n",
      "bottom of loop body\n",
      "before sum 3423\n",
      "after sum 6529\n",
      "bottom of loop body\n",
      "before sum 6529\n",
      "after sum 9587\n",
      "bottom of loop body\n",
      "before sum 9587\n",
      "after sum 12565\n",
      "bottom of loop body\n",
      "before sum 12565\n",
      "after sum 15470\n",
      "bottom of loop body\n",
      "15470\n"
     ]
    }
   ],
   "source": [
    "baby_numbers = [3423, 3106, 3058, 2978, 2905]\n",
    "\n",
    "total_baby_numbers = 0\n",
    "\n",
    "for baby_number in baby_numbers:\n",
    "    print \"before sum\", total_baby_numbers\n",
    "    total_baby_numbers = total_baby_numbers + baby_number\n",
    "    print \"after sum\", str(total_baby_numbers)\n",
    "    print \"bottom of loop body\"\n",
    "    \n",
    "print total_baby_numbers"
   ]
  },
  {
   "cell_type": "code",
   "execution_count": 75,
   "metadata": {
    "collapsed": false
   },
   "outputs": [
    {
     "name": "stdout",
     "output_type": "stream",
     "text": [
      "count 3423\n",
      "gender MALE\n",
      "name DANIEL\n",
      "year 2009\n"
     ]
    }
   ],
   "source": [
    "baby_entry = {\"year\": 2009, \n",
    "              \"gender\": \"MALE\", \n",
    "              \"name\": \"DANIEL\", \n",
    "              \"count\": 3423}\n",
    "\n",
    "for item in baby_entry:\n",
    "    print item, baby_entry[item]"
   ]
  },
  {
   "cell_type": "code",
   "execution_count": 77,
   "metadata": {
    "collapsed": false
   },
   "outputs": [
    {
     "name": "stdout",
     "output_type": "stream",
     "text": [
      "['count', 'gender', 'name', 'year']\n"
     ]
    }
   ],
   "source": [
    "baby_entry_keys = baby_entry.keys()\n",
    "print baby_entry_keys"
   ]
  },
  {
   "cell_type": "code",
   "execution_count": 79,
   "metadata": {
    "collapsed": false
   },
   "outputs": [
    {
     "name": "stdout",
     "output_type": "stream",
     "text": [
      "15470\n"
     ]
    }
   ],
   "source": [
    "total_baby_numbers = 0\n",
    "\n",
    "for baby in babies:\n",
    "    total_baby_numbers += baby[\"count\"]\n",
    "    \n",
    "print total_baby_numbers"
   ]
  },
  {
   "cell_type": "code",
   "execution_count": 82,
   "metadata": {
    "collapsed": false
   },
   "outputs": [
    {
     "name": "stdout",
     "output_type": "stream",
     "text": [
      "t\n",
      "h\n",
      "i\n",
      "s\n",
      " \n",
      "i\n",
      "s\n",
      " \n",
      "a\n",
      " \n",
      "s\n",
      "t\n",
      "r\n",
      "i\n",
      "n\n",
      "g\n"
     ]
    }
   ],
   "source": [
    "for letter in \"this is a string\":\n",
    "    print letter"
   ]
  },
  {
   "cell_type": "code",
   "execution_count": 83,
   "metadata": {
    "collapsed": true
   },
   "outputs": [],
   "source": [
    "with open(\"Most_Popular_Baby_Names__2009-2013.csv\", \"r\") as f:\n",
    "    baby_data = f.readlines()"
   ]
  },
  {
   "cell_type": "code",
   "execution_count": 84,
   "metadata": {
    "collapsed": false
   },
   "outputs": [
    {
     "data": {
      "text/plain": [
       "list"
      ]
     },
     "execution_count": 84,
     "metadata": {},
     "output_type": "execute_result"
    }
   ],
   "source": [
    "type(baby_data)"
   ]
  },
  {
   "cell_type": "code",
   "execution_count": 85,
   "metadata": {
    "collapsed": false
   },
   "outputs": [
    {
     "name": "stdout",
     "output_type": "stream",
     "text": [
      "295193\n"
     ]
    }
   ],
   "source": [
    "print len(baby_data)"
   ]
  },
  {
   "cell_type": "code",
   "execution_count": 86,
   "metadata": {
    "collapsed": false
   },
   "outputs": [
    {
     "name": "stdout",
     "output_type": "stream",
     "text": [
      "['YEAR,GENDER,NAME,COUNT\\n', '2009,MALE,DANIEL,3423\\n', '2009,MALE,ANTHONY,3106\\n', '2009,MALE,ANGEL,3058\\n', '2009,MALE,JACOB,2978\\n', '2009,MALE,ALEXANDER,2905\\n', '2009,MALE,ETHAN,2687\\n', '2009,MALE,DAVID,2648\\n', '2009,MALE,ANDREW,2605\\n', '2009,MALE,MATTHEW,2435\\n']\n"
     ]
    }
   ],
   "source": [
    "print baby_data[0:10]"
   ]
  },
  {
   "cell_type": "code",
   "execution_count": 89,
   "metadata": {
    "collapsed": false
   },
   "outputs": [
    {
     "name": "stdout",
     "output_type": "stream",
     "text": [
      "['YEAR,GENDER,NAME,COUNT', '2009,MALE,DANIEL,3423', '2009,MALE,ANTHONY,3106', '2009,MALE,ANGEL,3058', '2009,MALE,JACOB,2978', '2009,MALE,ALEXANDER,2905', '2009,MALE,ETHAN,2687', '2009,MALE,DAVID,2648', '2009,MALE,ANDREW,2605', '2009,MALE,MATTHEW,2435']\n"
     ]
    }
   ],
   "source": [
    "baby_data = []\n",
    "\n",
    "with open(\"Most_Popular_Baby_Names__2009-2013.csv\", \"r\") as f:\n",
    "    for line in f:\n",
    "        baby_data.append(line.strip())\n",
    "        \n",
    "print baby_data[:10]"
   ]
  },
  {
   "cell_type": "code",
   "execution_count": 90,
   "metadata": {
    "collapsed": true
   },
   "outputs": [],
   "source": [
    "with open(\"Most_Popular_Baby_Names__2009-2013.csv\", \"r\") as f:\n",
    "    baby_str = f.read()"
   ]
  },
  {
   "cell_type": "code",
   "execution_count": 93,
   "metadata": {
    "collapsed": false
   },
   "outputs": [
    {
     "data": {
      "text/plain": [
       "'YEAR,GENDER,NAME,COUNT\\n2009,MALE,DANIEL,3423\\n2009,MALE,ANTHONY,3106\\n2009,MALE,ANGEL,3058\\n2009,MALE,JACOB,2978\\n2009,MALE,ALEXANDER,2905\\n2009,MALE,ETHAN,2687\\n2009,MALE,DAVID,2648\\n2009,MALE,ANDREW,2605\\n2009,MALE,MATTHEW,2435\\n2009,MALE,JOSHUA,2435\\n2009,MALE,CHRISTOPHER,2416\\n2009,MALE,MICHAEL,2352\\n2009,MALE,NATHAN,2351\\n2009,MALE,JAYDEN,2271\\n2009,MALE,JOSE,2190\\n2009,MALE,JOSEPH,2105\\n2009,MALE,ADRIAN,2105\\n2009,MALE,JONATHAN,2080\\n2009,MALE,NOAH,2067\\n2009,MALE,ISAAC,1873\\n2009,MALE,AIDEN,1819\\n2009,MALE,CHRISTIAN,1780\\n2009,MALE,JULIAN,1774\\n2009,MALE,DIEGO,1767\\n2009,MALE,BRANDON,1733\\n2009,MALE,GABRIEL,1660\\n2009,MALE,KEVIN,1645\\n2009,MALE,RYAN,1644\\n2009,MALE,JESUS,1620\\n2009,MALE,JUAN,1615\\n2009,MALE,DYLAN,1603\\n2009,MALE,AARON,1539\\n2009,MALE,LUIS,1529\\n2009,MALE,BENJAMIN,1486\\n2009,MALE,WILLIAM,1475\\n2009,MALE,ISAIAH,1468\\n2009,MALE,SAMUEL,1403\\n2009,MALE,ELIJAH,1390\\n2009,MALE,LOGAN,1386\\n2009,MALE,CARLOS,1326\\n2009,MALE,JAMES,1302\\n2009,MALE,SEBASTIAN,1278\\n2009,MALE,NICHOLAS,1263\\n2009,MALE,EVAN,1213\\n2009,MAL'"
      ]
     },
     "execution_count": 93,
     "metadata": {},
     "output_type": "execute_result"
    }
   ],
   "source": [
    "baby_str[:1000]"
   ]
  },
  {
   "cell_type": "code",
   "execution_count": 94,
   "metadata": {
    "collapsed": true
   },
   "outputs": [],
   "source": [
    "baby_data = baby_str.split(\"\\n\")"
   ]
  },
  {
   "cell_type": "code",
   "execution_count": 95,
   "metadata": {
    "collapsed": false
   },
   "outputs": [
    {
     "data": {
      "text/plain": [
       "list"
      ]
     },
     "execution_count": 95,
     "metadata": {},
     "output_type": "execute_result"
    }
   ],
   "source": [
    "type(baby_data)"
   ]
  },
  {
   "cell_type": "code",
   "execution_count": 96,
   "metadata": {
    "collapsed": false
   },
   "outputs": [
    {
     "data": {
      "text/plain": [
       "['YEAR,GENDER,NAME,COUNT',\n",
       " '2009,MALE,DANIEL,3423',\n",
       " '2009,MALE,ANTHONY,3106',\n",
       " '2009,MALE,ANGEL,3058',\n",
       " '2009,MALE,JACOB,2978',\n",
       " '2009,MALE,ALEXANDER,2905',\n",
       " '2009,MALE,ETHAN,2687',\n",
       " '2009,MALE,DAVID,2648',\n",
       " '2009,MALE,ANDREW,2605',\n",
       " '2009,MALE,MATTHEW,2435']"
      ]
     },
     "execution_count": 96,
     "metadata": {},
     "output_type": "execute_result"
    }
   ],
   "source": [
    "baby_data[:10]"
   ]
  },
  {
   "cell_type": "code",
   "execution_count": 97,
   "metadata": {
    "collapsed": true
   },
   "outputs": [],
   "source": [
    "with open(\"2011_baby_data.csv\", \"w\") as f:\n",
    "    f.write(baby_data[0])"
   ]
  },
  {
   "cell_type": "code",
   "execution_count": 99,
   "metadata": {
    "collapsed": true
   },
   "outputs": [],
   "source": [
    "start_line = 120460\n",
    "end_line = 179044\n",
    "\n",
    "with open(\"2011_baby_data.csv\", \"w\") as f:\n",
    "    for line in baby_data[start_line:end_line]:\n",
    "        f.write(line + \"\\n\")"
   ]
  },
  {
   "cell_type": "code",
   "execution_count": 101,
   "metadata": {
    "collapsed": true
   },
   "outputs": [],
   "source": [
    "data_2011 = \"\\n\".join(baby_data[start_line:end_line])\n",
    "\n",
    "with open(\"2011_baby_data.csv\", \"w\") as f:\n",
    "    f.write(data_2011)"
   ]
  },
  {
   "cell_type": "code",
   "execution_count": null,
   "metadata": {
    "collapsed": true
   },
   "outputs": [],
   "source": []
  }
 ],
 "metadata": {
  "kernelspec": {
   "display_name": "Python 2",
   "language": "python",
   "name": "python2"
  },
  "language_info": {
   "codemirror_mode": {
    "name": "ipython",
    "version": 2
   },
   "file_extension": ".py",
   "mimetype": "text/x-python",
   "name": "python",
   "nbconvert_exporter": "python",
   "pygments_lexer": "ipython2",
   "version": "2.7.11"
  }
 },
 "nbformat": 4,
 "nbformat_minor": 0
}
