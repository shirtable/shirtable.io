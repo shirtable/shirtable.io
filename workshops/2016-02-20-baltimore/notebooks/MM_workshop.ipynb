{
 "cells": [
  {
   "cell_type": "code",
   "execution_count": 1,
   "metadata": {
    "collapsed": false
   },
   "outputs": [
    {
     "name": "stdout",
     "output_type": "stream",
     "text": [
      "Hello world!\n"
     ]
    }
   ],
   "source": [
    "print \"Hello world!\""
   ]
  },
  {
   "cell_type": "code",
   "execution_count": 2,
   "metadata": {
    "collapsed": false
   },
   "outputs": [
    {
     "name": "stdout",
     "output_type": "stream",
     "text": [
      "6\n"
     ]
    }
   ],
   "source": [
    "print 4 + 2"
   ]
  },
  {
   "cell_type": "code",
   "execution_count": 3,
   "metadata": {
    "collapsed": false
   },
   "outputs": [
    {
     "name": "stdout",
     "output_type": "stream",
     "text": [
      "8\n"
     ]
    }
   ],
   "source": [
    "print 4*2"
   ]
  },
  {
   "cell_type": "code",
   "execution_count": 4,
   "metadata": {
    "collapsed": false
   },
   "outputs": [
    {
     "name": "stdout",
     "output_type": "stream",
     "text": [
      "2\n"
     ]
    }
   ],
   "source": [
    "print 4 / 2"
   ]
  },
  {
   "cell_type": "code",
   "execution_count": 6,
   "metadata": {
    "collapsed": false
   },
   "outputs": [
    {
     "name": "stdout",
     "output_type": "stream",
     "text": [
      "12\n"
     ]
    }
   ],
   "source": [
    "print 4 + 2 * 4"
   ]
  },
  {
   "cell_type": "code",
   "execution_count": 7,
   "metadata": {
    "collapsed": false
   },
   "outputs": [
    {
     "name": "stdout",
     "output_type": "stream",
     "text": [
      "YEAR,GENDER,NAME,COUNT\r\n",
      "2009,MALE,DANIEL,3423\r\n",
      "2009,MALE,ANTHONY,3106\r\n",
      "2009,MALE,ANGEL,3058\r\n",
      "2009,MALE,JACOB,2978\r\n",
      "2009,MALE,ALEXANDER,2905\r\n",
      "2009,MALE,ETHAN,2687\r\n",
      "2009,MALE,DAVID,2648\r\n",
      "2009,MALE,ANDREW,2605\r\n",
      "2009,MALE,MATTHEW,2435\r\n"
     ]
    }
   ],
   "source": [
    "!head Most_Popular_Baby_Names__2009-2013.csv"
   ]
  },
  {
   "cell_type": "code",
   "execution_count": 9,
   "metadata": {
    "collapsed": false
   },
   "outputs": [
    {
     "name": "stdout",
     "output_type": "stream",
     "text": [
      "Daniel\n"
     ]
    }
   ],
   "source": [
    "first_baby_name = \"Daniel\"\n",
    "print first_baby_name"
   ]
  },
  {
   "cell_type": "code",
   "execution_count": 11,
   "metadata": {
    "collapsed": false
   },
   "outputs": [
    {
     "name": "stdout",
     "output_type": "stream",
     "text": [
      "9587\n"
     ]
    }
   ],
   "source": [
    "# number of male babies with three most popular names\n",
    "first_baby_number = 3423\n",
    "second_baby_number = 3106\n",
    "third_baby_number = 3058\n",
    "\n",
    "top_three_names = first_baby_number + second_baby_number + third_baby_number\n",
    "print top_three_names"
   ]
  },
  {
   "cell_type": "code",
   "execution_count": 18,
   "metadata": {
    "collapsed": false
   },
   "outputs": [
    {
     "name": "stdout",
     "output_type": "stream",
     "text": [
      "8\n"
     ]
    }
   ],
   "source": [
    "length = 4\n",
    "width = 2\n",
    "area = length * width\n",
    "print area"
   ]
  },
  {
   "cell_type": "code",
   "execution_count": 19,
   "metadata": {
    "collapsed": false
   },
   "outputs": [
    {
     "name": "stdout",
     "output_type": "stream",
     "text": [
      "6\n"
     ]
    }
   ],
   "source": [
    "# change the value of `length`\n",
    "length = 6\n",
    "print length"
   ]
  },
  {
   "cell_type": "code",
   "execution_count": 20,
   "metadata": {
    "collapsed": false
   },
   "outputs": [
    {
     "name": "stdout",
     "output_type": "stream",
     "text": [
      "8\n"
     ]
    }
   ],
   "source": [
    "# but area doesn't change\n",
    "print area"
   ]
  },
  {
   "cell_type": "code",
   "execution_count": 21,
   "metadata": {
    "collapsed": false
   },
   "outputs": [
    {
     "name": "stdout",
     "output_type": "stream",
     "text": [
      "12\n"
     ]
    }
   ],
   "source": [
    "# but we can re-assign it to get the correct answer\n",
    "area = length * width\n",
    "print area"
   ]
  },
  {
   "cell_type": "markdown",
   "metadata": {},
   "source": [
    "# Variable names\n",
    "\n",
    "Can include letters, numbers, and the underscore (`_`) character.\n",
    "\n",
    "A variable name cannot start with a number.\n",
    "\n",
    "A variable name cannot include special characters other than an underscore."
   ]
  },
  {
   "cell_type": "code",
   "execution_count": 15,
   "metadata": {
    "collapsed": false
   },
   "outputs": [],
   "source": [
    "two_chainz = \"no problem\"\n",
    "_fine_but = \"leading underscores are legal but have special meaning\""
   ]
  },
  {
   "cell_type": "code",
   "execution_count": 16,
   "metadata": {
    "collapsed": false
   },
   "outputs": [
    {
     "ename": "SyntaxError",
     "evalue": "invalid syntax (<ipython-input-16-018f5b93fbec>, line 1)",
     "output_type": "error",
     "traceback": [
      "\u001b[0;36m  File \u001b[0;32m\"<ipython-input-16-018f5b93fbec>\"\u001b[0;36m, line \u001b[0;32m1\u001b[0m\n\u001b[0;31m    2_chainz = \"not ok\"\u001b[0m\n\u001b[0m           ^\u001b[0m\n\u001b[0;31mSyntaxError\u001b[0m\u001b[0;31m:\u001b[0m invalid syntax\n"
     ]
    }
   ],
   "source": [
    "2_chainz = \"not ok\""
   ]
  },
  {
   "cell_type": "code",
   "execution_count": 17,
   "metadata": {
    "collapsed": false
   },
   "outputs": [
    {
     "ename": "SyntaxError",
     "evalue": "can't assign to operator (<ipython-input-17-daf6db172d4c>, line 1)",
     "output_type": "error",
     "traceback": [
      "\u001b[0;36m  File \u001b[0;32m\"<ipython-input-17-daf6db172d4c>\"\u001b[0;36m, line \u001b[0;32m1\u001b[0m\n\u001b[0;31m    wont-work = \"nope\"\u001b[0m\n\u001b[0;31mSyntaxError\u001b[0m\u001b[0;31m:\u001b[0m can't assign to operator\n"
     ]
    }
   ],
   "source": [
    "wont-work = \"nope\""
   ]
  },
  {
   "cell_type": "code",
   "execution_count": 22,
   "metadata": {
    "collapsed": true
   },
   "outputs": [],
   "source": [
    "# this ia a comment\n",
    "a = \"apple\" # comments can also occur at the end of a line of code"
   ]
  },
  {
   "cell_type": "markdown",
   "metadata": {},
   "source": [
    "# Strings, numbers, and type"
   ]
  },
  {
   "cell_type": "code",
   "execution_count": 23,
   "metadata": {
    "collapsed": false
   },
   "outputs": [
    {
     "name": "stdout",
     "output_type": "stream",
     "text": [
      "2 Chainz\n"
     ]
    }
   ],
   "source": [
    "beginning = \"2\"\n",
    "end = \"Chainz\"\n",
    "print beginning, end"
   ]
  },
  {
   "cell_type": "code",
   "execution_count": 25,
   "metadata": {
    "collapsed": false
   },
   "outputs": [
    {
     "name": "stdout",
     "output_type": "stream",
     "text": [
      "2Chainz\n"
     ]
    }
   ],
   "source": [
    "rapper = beginning + end\n",
    "print rapper"
   ]
  },
  {
   "cell_type": "code",
   "execution_count": 27,
   "metadata": {
    "collapsed": false
   },
   "outputs": [
    {
     "name": "stdout",
     "output_type": "stream",
     "text": [
      "2 Chainz\n"
     ]
    }
   ],
   "source": [
    "rapper = beginning + \" \" + end\n",
    "print rapper"
   ]
  },
  {
   "cell_type": "code",
   "execution_count": 28,
   "metadata": {
    "collapsed": false
   },
   "outputs": [
    {
     "name": "stdout",
     "output_type": "stream",
     "text": [
      "2 CHAINZ\n"
     ]
    }
   ],
   "source": [
    "# Print all uppercase:\n",
    "print rapper.upper()"
   ]
  },
  {
   "cell_type": "code",
   "execution_count": 30,
   "metadata": {
    "collapsed": false
   },
   "outputs": [
    {
     "name": "stdout",
     "output_type": "stream",
     "text": [
      "2 chainz\n"
     ]
    }
   ],
   "source": [
    "print rapper.lower()"
   ]
  },
  {
   "cell_type": "code",
   "execution_count": 31,
   "metadata": {
    "collapsed": false
   },
   "outputs": [
    {
     "name": "stdout",
     "output_type": "stream",
     "text": [
      "8\n"
     ]
    }
   ],
   "source": [
    "print len(rapper)"
   ]
  },
  {
   "cell_type": "code",
   "execution_count": 32,
   "metadata": {
    "collapsed": false
   },
   "outputs": [
    {
     "data": {
      "text/plain": [
       "int"
      ]
     },
     "execution_count": 32,
     "metadata": {},
     "output_type": "execute_result"
    }
   ],
   "source": [
    "i = 12\n",
    "type(i)"
   ]
  },
  {
   "cell_type": "code",
   "execution_count": 36,
   "metadata": {
    "collapsed": false
   },
   "outputs": [
    {
     "data": {
      "text/plain": [
       "float"
      ]
     },
     "execution_count": 36,
     "metadata": {},
     "output_type": "execute_result"
    }
   ],
   "source": [
    "f_1 = 12.27\n",
    "type(f_1)"
   ]
  },
  {
   "cell_type": "code",
   "execution_count": 35,
   "metadata": {
    "collapsed": false
   },
   "outputs": [
    {
     "data": {
      "text/plain": [
       "float"
      ]
     },
     "execution_count": 35,
     "metadata": {},
     "output_type": "execute_result"
    }
   ],
   "source": [
    "f_2 = 12.\n",
    "type(f_2)"
   ]
  },
  {
   "cell_type": "code",
   "execution_count": 37,
   "metadata": {
    "collapsed": false
   },
   "outputs": [
    {
     "name": "stdout",
     "output_type": "stream",
     "text": [
      "2Chainz\n"
     ]
    }
   ],
   "source": [
    "beginning = \"2\"\n",
    "end = \"Chainz\"\n",
    "\n",
    "# this should work\n",
    "rapper = beginning + end\n",
    "print rapper"
   ]
  },
  {
   "cell_type": "code",
   "execution_count": 38,
   "metadata": {
    "collapsed": false
   },
   "outputs": [
    {
     "ename": "TypeError",
     "evalue": "unsupported operand type(s) for +: 'int' and 'str'",
     "output_type": "error",
     "traceback": [
      "\u001b[0;31m---------------------------------------------------------------------------\u001b[0m",
      "\u001b[0;31mTypeError\u001b[0m                                 Traceback (most recent call last)",
      "\u001b[0;32m<ipython-input-38-1e58e5735a87>\u001b[0m in \u001b[0;36m<module>\u001b[0;34m()\u001b[0m\n\u001b[1;32m      2\u001b[0m \u001b[0;34m\u001b[0m\u001b[0m\n\u001b[1;32m      3\u001b[0m \u001b[0;31m# what if we do this with an int?\u001b[0m\u001b[0;34m\u001b[0m\u001b[0;34m\u001b[0m\u001b[0m\n\u001b[0;32m----> 4\u001b[0;31m \u001b[0mrapper\u001b[0m \u001b[0;34m=\u001b[0m \u001b[0mdos\u001b[0m \u001b[0;34m+\u001b[0m \u001b[0mend\u001b[0m\u001b[0;34m\u001b[0m\u001b[0m\n\u001b[0m",
      "\u001b[0;31mTypeError\u001b[0m: unsupported operand type(s) for +: 'int' and 'str'"
     ]
    }
   ],
   "source": [
    "dos = 2\n",
    "\n",
    "# what if we do this with an int?\n",
    "rapper = dos + end"
   ]
  },
  {
   "cell_type": "markdown",
   "metadata": {},
   "source": [
    "Python knows how to add integers and Python knows how to concatenate strings. Both of these use the `+` operator.\n",
    "\n",
    "However, it's ambiguous what you mean when you say \"`+` a number and a string\".\n",
    "\n",
    "Since Python doesn't know what you want, it throws an error."
   ]
  },
  {
   "cell_type": "code",
   "execution_count": 40,
   "metadata": {
    "collapsed": false
   },
   "outputs": [
    {
     "name": "stdout",
     "output_type": "stream",
     "text": [
      "2Chainz\n"
     ]
    }
   ],
   "source": [
    "# we can turn an int into a string if we want to use it like a string\n",
    "str_dos = str(dos)\n",
    "rapper = str_dos + end\n",
    "print rapper"
   ]
  },
  {
   "cell_type": "code",
   "execution_count": 41,
   "metadata": {
    "collapsed": false
   },
   "outputs": [
    {
     "data": {
      "text/plain": [
       "float"
      ]
     },
     "execution_count": 41,
     "metadata": {},
     "output_type": "execute_result"
    }
   ],
   "source": [
    "pi = 3.14\n",
    "type(pi)"
   ]
  },
  {
   "cell_type": "code",
   "execution_count": 43,
   "metadata": {
    "collapsed": false
   },
   "outputs": [
    {
     "data": {
      "text/plain": [
       "str"
      ]
     },
     "execution_count": 43,
     "metadata": {},
     "output_type": "execute_result"
    }
   ],
   "source": [
    "str_pi = str(pi)\n",
    "type(str_pi)"
   ]
  },
  {
   "cell_type": "code",
   "execution_count": 48,
   "metadata": {
    "collapsed": false
   },
   "outputs": [
    {
     "name": "stdout",
     "output_type": "stream",
     "text": [
      "2\n"
     ]
    }
   ],
   "source": [
    "# can we go the other way?\n",
    "print beginning"
   ]
  },
  {
   "cell_type": "code",
   "execution_count": 47,
   "metadata": {
    "collapsed": false
   },
   "outputs": [
    {
     "data": {
      "text/plain": [
       "str"
      ]
     },
     "execution_count": 47,
     "metadata": {},
     "output_type": "execute_result"
    }
   ],
   "source": [
    "type(beginning)"
   ]
  },
  {
   "cell_type": "code",
   "execution_count": 50,
   "metadata": {
    "collapsed": false
   },
   "outputs": [
    {
     "data": {
      "text/plain": [
       "float"
      ]
     },
     "execution_count": 50,
     "metadata": {},
     "output_type": "execute_result"
    }
   ],
   "source": [
    "fl_beginning = float(beginning)\n",
    "type(fl_beginning)"
   ]
  },
  {
   "cell_type": "code",
   "execution_count": 51,
   "metadata": {
    "collapsed": false
   },
   "outputs": [
    {
     "name": "stdout",
     "output_type": "stream",
     "text": [
      "2.0\n"
     ]
    }
   ],
   "source": [
    "print fl_beginning"
   ]
  },
  {
   "cell_type": "code",
   "execution_count": 52,
   "metadata": {
    "collapsed": false
   },
   "outputs": [
    {
     "data": {
      "text/plain": [
       "float"
      ]
     },
     "execution_count": 52,
     "metadata": {},
     "output_type": "execute_result"
    }
   ],
   "source": [
    "str_human_body_temp = \"98.6\"\n",
    "fl_hbt = float(str_human_body_temp)\n",
    "type(fl_hbt)"
   ]
  },
  {
   "cell_type": "code",
   "execution_count": 53,
   "metadata": {
    "collapsed": false
   },
   "outputs": [
    {
     "name": "stdout",
     "output_type": "stream",
     "text": [
      "98.6\n"
     ]
    }
   ],
   "source": [
    "print fl_hbt"
   ]
  },
  {
   "cell_type": "code",
   "execution_count": 55,
   "metadata": {
    "collapsed": false
   },
   "outputs": [
    {
     "ename": "ValueError",
     "evalue": "invalid literal for int() with base 10: '98.6'",
     "output_type": "error",
     "traceback": [
      "\u001b[0;31m---------------------------------------------------------------------------\u001b[0m",
      "\u001b[0;31mValueError\u001b[0m                                Traceback (most recent call last)",
      "\u001b[0;32m<ipython-input-55-db2d0885f4ee>\u001b[0m in \u001b[0;36m<module>\u001b[0;34m()\u001b[0m\n\u001b[1;32m      1\u001b[0m \u001b[0;31m# can we coerce \"98.6\" to an int? nope.\u001b[0m\u001b[0;34m\u001b[0m\u001b[0;34m\u001b[0m\u001b[0m\n\u001b[0;32m----> 2\u001b[0;31m \u001b[0mint_hbt\u001b[0m \u001b[0;34m=\u001b[0m \u001b[0mint\u001b[0m\u001b[0;34m(\u001b[0m\u001b[0mstr_human_body_temp\u001b[0m\u001b[0;34m)\u001b[0m\u001b[0;34m\u001b[0m\u001b[0m\n\u001b[0m",
      "\u001b[0;31mValueError\u001b[0m: invalid literal for int() with base 10: '98.6'"
     ]
    }
   ],
   "source": [
    "# can we coerce \"98.6\" to an int? nope.\n",
    "int_hbt = int(str_human_body_temp)"
   ]
  },
  {
   "cell_type": "markdown",
   "metadata": {},
   "source": [
    "How do operators like \"`+`\" work differently for strings and ints?\n",
    "\n",
    "It's part of their `type`. Basically, each Python value is an object. Objects combine data with functionality.\n",
    "\n",
    "Both the `int` and `str` types implement an `__add__` function, which Python calls when you use a \"`+`\".\n",
    "\n",
    "[More info about operators can be found in the Python documentation](https://docs.python.org/2/library/operator.html).\n",
    "\n",
    "Strings have a lot of functionality!"
   ]
  },
  {
   "cell_type": "code",
   "execution_count": 56,
   "metadata": {
    "collapsed": false
   },
   "outputs": [
    {
     "name": "stdout",
     "output_type": "stream",
     "text": [
      "Joshua Ryan Smith\n"
     ]
    }
   ],
   "source": [
    "jrs = \"Joshua Ryan Smith\"\n",
    "print jrs"
   ]
  },
  {
   "cell_type": "code",
   "execution_count": 57,
   "metadata": {
    "collapsed": false
   },
   "outputs": [
    {
     "name": "stdout",
     "output_type": "stream",
     "text": [
      "JOSHUA RYAN SMITH\n"
     ]
    }
   ],
   "source": [
    "print jrs.upper()"
   ]
  },
  {
   "cell_type": "code",
   "execution_count": 58,
   "metadata": {
    "collapsed": false
   },
   "outputs": [
    {
     "data": {
      "text/plain": [
       "['__add__',\n",
       " '__class__',\n",
       " '__contains__',\n",
       " '__delattr__',\n",
       " '__doc__',\n",
       " '__eq__',\n",
       " '__format__',\n",
       " '__ge__',\n",
       " '__getattribute__',\n",
       " '__getitem__',\n",
       " '__getnewargs__',\n",
       " '__getslice__',\n",
       " '__gt__',\n",
       " '__hash__',\n",
       " '__init__',\n",
       " '__le__',\n",
       " '__len__',\n",
       " '__lt__',\n",
       " '__mod__',\n",
       " '__mul__',\n",
       " '__ne__',\n",
       " '__new__',\n",
       " '__reduce__',\n",
       " '__reduce_ex__',\n",
       " '__repr__',\n",
       " '__rmod__',\n",
       " '__rmul__',\n",
       " '__setattr__',\n",
       " '__sizeof__',\n",
       " '__str__',\n",
       " '__subclasshook__',\n",
       " '_formatter_field_name_split',\n",
       " '_formatter_parser',\n",
       " 'capitalize',\n",
       " 'center',\n",
       " 'count',\n",
       " 'decode',\n",
       " 'encode',\n",
       " 'endswith',\n",
       " 'expandtabs',\n",
       " 'find',\n",
       " 'format',\n",
       " 'index',\n",
       " 'isalnum',\n",
       " 'isalpha',\n",
       " 'isdigit',\n",
       " 'islower',\n",
       " 'isspace',\n",
       " 'istitle',\n",
       " 'isupper',\n",
       " 'join',\n",
       " 'ljust',\n",
       " 'lower',\n",
       " 'lstrip',\n",
       " 'partition',\n",
       " 'replace',\n",
       " 'rfind',\n",
       " 'rindex',\n",
       " 'rjust',\n",
       " 'rpartition',\n",
       " 'rsplit',\n",
       " 'rstrip',\n",
       " 'split',\n",
       " 'splitlines',\n",
       " 'startswith',\n",
       " 'strip',\n",
       " 'swapcase',\n",
       " 'title',\n",
       " 'translate',\n",
       " 'upper',\n",
       " 'zfill']"
      ]
     },
     "execution_count": 58,
     "metadata": {},
     "output_type": "execute_result"
    }
   ],
   "source": [
    "# what all can strings do? a lot!\n",
    "dir(jrs)"
   ]
  },
  {
   "cell_type": "code",
   "execution_count": 60,
   "metadata": {
    "collapsed": false
   },
   "outputs": [
    {
     "name": "stdout",
     "output_type": "stream",
     "text": [
      "Help on built-in function title:\n",
      "\n",
      "title(...)\n",
      "    S.title() -> string\n",
      "    \n",
      "    Return a titlecased version of S, i.e. words start with uppercase\n",
      "    characters, all remaining cased characters have lowercase.\n",
      "\n"
     ]
    }
   ],
   "source": [
    "help(jrs.title)"
   ]
  },
  {
   "cell_type": "code",
   "execution_count": 61,
   "metadata": {
    "collapsed": false
   },
   "outputs": [
    {
     "name": "stdout",
     "output_type": "stream",
     "text": [
      "Help on built-in function dir in module __builtin__:\n",
      "\n",
      "dir(...)\n",
      "    dir([object]) -> list of strings\n",
      "    \n",
      "    If called without an argument, return the names in the current scope.\n",
      "    Else, return an alphabetized list of names comprising (some of) the attributes\n",
      "    of the given object, and of attributes reachable from it.\n",
      "    If the object supplies a method named __dir__, it will be used; otherwise\n",
      "    the default dir() logic is used and returns:\n",
      "      for a module object: the module's attributes.\n",
      "      for a class object:  its attributes, and recursively the attributes\n",
      "        of its bases.\n",
      "      for any other object: its attributes, its class's attributes, and\n",
      "        recursively the attributes of its class's base classes.\n",
      "\n"
     ]
    }
   ],
   "source": [
    "help(dir)"
   ]
  },
  {
   "cell_type": "code",
   "execution_count": 62,
   "metadata": {
    "collapsed": false
   },
   "outputs": [
    {
     "name": "stdout",
     "output_type": "stream",
     "text": [
      "Help on built-in function rpartition:\n",
      "\n",
      "rpartition(...)\n",
      "    S.rpartition(sep) -> (head, sep, tail)\n",
      "    \n",
      "    Search for the separator sep in S, starting at the end of S, and return\n",
      "    the part before it, the separator itself, and the part after it.  If the\n",
      "    separator is not found, return two empty strings and S.\n",
      "\n"
     ]
    }
   ],
   "source": [
    "help(jrs.rpartition)"
   ]
  },
  {
   "cell_type": "code",
   "execution_count": 63,
   "metadata": {
    "collapsed": false
   },
   "outputs": [
    {
     "name": "stdout",
     "output_type": "stream",
     "text": [
      "YEAR,GENDER,NAME,COUNT\r\n",
      "2009,MALE,DANIEL,3423\r\n",
      "2009,MALE,ANTHONY,3106\r\n",
      "2009,MALE,ANGEL,3058\r\n",
      "2009,MALE,JACOB,2978\r\n",
      "2009,MALE,ALEXANDER,2905\r\n",
      "2009,MALE,ETHAN,2687\r\n",
      "2009,MALE,DAVID,2648\r\n",
      "2009,MALE,ANDREW,2605\r\n",
      "2009,MALE,MATTHEW,2435\r\n",
      "2009,MALE,JOSHUA,2435\r\n",
      "2009,MALE,CHRISTOPHER,2416\r\n",
      "2009,MALE,MICHAEL,2352\r\n",
      "2009,MALE,NATHAN,2351\r\n",
      "2009,MALE,JAYDEN,2271\r\n",
      "2009,MALE,JOSE,2190\r\n",
      "2009,MALE,JOSEPH,2105\r\n",
      "2009,MALE,ADRIAN,2105\r\n",
      "2009,MALE,JONATHAN,2080\r\n",
      "2009,MALE,NOAH,2067\r\n"
     ]
    }
   ],
   "source": [
    "!head -n 20 Most_Popular_Baby_Names__2009-2013.csv"
   ]
  },
  {
   "cell_type": "code",
   "execution_count": 64,
   "metadata": {
    "collapsed": false
   },
   "outputs": [
    {
     "name": "stdout",
     "output_type": "stream",
     "text": [
      "['DANIEL', 'ANTHONY', 'ANGEL', 'JACOB', 'ALEXANDR']\n"
     ]
    }
   ],
   "source": [
    "popular_names = [\"DANIEL\", \"ANTHONY\",\"ANGEL\",\"JACOB\",\"ALEXANDR\"]\n",
    "print popular_names"
   ]
  },
  {
   "cell_type": "code",
   "execution_count": 65,
   "metadata": {
    "collapsed": false
   },
   "outputs": [
    {
     "data": {
      "text/plain": [
       "True"
      ]
     },
     "execution_count": 65,
     "metadata": {},
     "output_type": "execute_result"
    }
   ],
   "source": [
    "'DANIEL' == \"DANIEL\""
   ]
  },
  {
   "cell_type": "code",
   "execution_count": 67,
   "metadata": {
    "collapsed": false
   },
   "outputs": [
    {
     "data": {
      "text/plain": [
       "'DANIEL'"
      ]
     },
     "execution_count": 67,
     "metadata": {},
     "output_type": "execute_result"
    }
   ],
   "source": [
    "popular_names[0]"
   ]
  },
  {
   "cell_type": "code",
   "execution_count": 68,
   "metadata": {
    "collapsed": false
   },
   "outputs": [
    {
     "data": {
      "text/plain": [
       "'ANGEL'"
      ]
     },
     "execution_count": 68,
     "metadata": {},
     "output_type": "execute_result"
    }
   ],
   "source": [
    "popular_names[2]"
   ]
  },
  {
   "cell_type": "code",
   "execution_count": 69,
   "metadata": {
    "collapsed": false
   },
   "outputs": [
    {
     "ename": "IndexError",
     "evalue": "list index out of range",
     "output_type": "error",
     "traceback": [
      "\u001b[0;31m---------------------------------------------------------------------------\u001b[0m",
      "\u001b[0;31mIndexError\u001b[0m                                Traceback (most recent call last)",
      "\u001b[0;32m<ipython-input-69-53059cdfe13e>\u001b[0m in \u001b[0;36m<module>\u001b[0;34m()\u001b[0m\n\u001b[0;32m----> 1\u001b[0;31m \u001b[0mpopular_names\u001b[0m\u001b[0;34m[\u001b[0m\u001b[0;36m6\u001b[0m\u001b[0;34m]\u001b[0m\u001b[0;34m\u001b[0m\u001b[0m\n\u001b[0m",
      "\u001b[0;31mIndexError\u001b[0m: list index out of range"
     ]
    }
   ],
   "source": [
    "popular_names[6]"
   ]
  },
  {
   "cell_type": "code",
   "execution_count": 70,
   "metadata": {
    "collapsed": false
   },
   "outputs": [
    {
     "data": {
      "text/plain": [
       "'ALEXANDR'"
      ]
     },
     "execution_count": 70,
     "metadata": {},
     "output_type": "execute_result"
    }
   ],
   "source": [
    "popular_names[-1]"
   ]
  },
  {
   "cell_type": "code",
   "execution_count": 71,
   "metadata": {
    "collapsed": false
   },
   "outputs": [
    {
     "data": {
      "text/plain": [
       "['DANIEL', 'ANTHONY']"
      ]
     },
     "execution_count": 71,
     "metadata": {},
     "output_type": "execute_result"
    }
   ],
   "source": [
    "popular_names[:2]"
   ]
  },
  {
   "cell_type": "code",
   "execution_count": 72,
   "metadata": {
    "collapsed": false
   },
   "outputs": [
    {
     "data": {
      "text/plain": [
       "['DANIEL', 'ANTHONY']"
      ]
     },
     "execution_count": 72,
     "metadata": {},
     "output_type": "execute_result"
    }
   ],
   "source": [
    "popular_names[0:2]"
   ]
  },
  {
   "cell_type": "code",
   "execution_count": 73,
   "metadata": {
    "collapsed": false
   },
   "outputs": [
    {
     "name": "stdout",
     "output_type": "stream",
     "text": [
      "['ANTHONY', 'ANGEL']\n"
     ]
    }
   ],
   "source": [
    "print popular_names[1:3]"
   ]
  },
  {
   "cell_type": "code",
   "execution_count": 75,
   "metadata": {
    "collapsed": false
   },
   "outputs": [
    {
     "name": "stdout",
     "output_type": "stream",
     "text": [
      "[1, 'one']\n"
     ]
    }
   ],
   "source": [
    "a = [1, \"one\"]\n",
    "print a"
   ]
  },
  {
   "cell_type": "code",
   "execution_count": 78,
   "metadata": {
    "collapsed": false
   },
   "outputs": [
    {
     "name": "stdout",
     "output_type": "stream",
     "text": [
      "[[], 'three', [], 7.3]\n"
     ]
    }
   ],
   "source": [
    "empty_list = []\n",
    "list_o_lists = [empty_list, \"three\", empty_list, 7.3]\n",
    "print list_o_lists"
   ]
  },
  {
   "cell_type": "code",
   "execution_count": 79,
   "metadata": {
    "collapsed": false
   },
   "outputs": [
    {
     "name": "stdout",
     "output_type": "stream",
     "text": [
      "ALEXANDR\n"
     ]
    }
   ],
   "source": [
    "print popular_names[-1]"
   ]
  },
  {
   "cell_type": "code",
   "execution_count": 80,
   "metadata": {
    "collapsed": false
   },
   "outputs": [
    {
     "name": "stdout",
     "output_type": "stream",
     "text": [
      "ALEXANDER\n"
     ]
    }
   ],
   "source": [
    "popular_names[-1] = \"ALEXANDER\"\n",
    "print popular_names[-1]"
   ]
  },
  {
   "cell_type": "code",
   "execution_count": 81,
   "metadata": {
    "collapsed": false
   },
   "outputs": [
    {
     "name": "stdout",
     "output_type": "stream",
     "text": [
      "['DANIEL', 'ANTHONY', 'ANGEL', 'JACOB', 'ALEXANDER']\n"
     ]
    }
   ],
   "source": [
    "print popular_names"
   ]
  },
  {
   "cell_type": "code",
   "execution_count": 82,
   "metadata": {
    "collapsed": true
   },
   "outputs": [],
   "source": [
    "less_popular_names = [\"ETHAN\",\"DAVID\",\"ANDREW\",\"MATTHEW\",\"JOSHUA\"]"
   ]
  },
  {
   "cell_type": "code",
   "execution_count": 83,
   "metadata": {
    "collapsed": false
   },
   "outputs": [
    {
     "name": "stdout",
     "output_type": "stream",
     "text": [
      "['ETHAN', 'DAVID', 'ANDREW', 'MATTHEW', 'JOSHUA']\n"
     ]
    }
   ],
   "source": [
    "print less_popular_names"
   ]
  },
  {
   "cell_type": "code",
   "execution_count": 84,
   "metadata": {
    "collapsed": true
   },
   "outputs": [],
   "source": [
    "top_names = popular_names + less_popular_names"
   ]
  },
  {
   "cell_type": "code",
   "execution_count": 85,
   "metadata": {
    "collapsed": false
   },
   "outputs": [
    {
     "name": "stdout",
     "output_type": "stream",
     "text": [
      "['DANIEL', 'ANTHONY', 'ANGEL', 'JACOB', 'ALEXANDER', 'ETHAN', 'DAVID', 'ANDREW', 'MATTHEW', 'JOSHUA']\n"
     ]
    }
   ],
   "source": [
    "print top_names"
   ]
  },
  {
   "cell_type": "code",
   "execution_count": 86,
   "metadata": {
    "collapsed": false
   },
   "outputs": [
    {
     "name": "stdout",
     "output_type": "stream",
     "text": [
      "Help on method-wrapper object:\n",
      "\n",
      "__add__ = class method-wrapper(object)\n",
      " |  Methods defined here:\n",
      " |  \n",
      " |  __call__(...)\n",
      " |      x.__call__(...) <==> x(...)\n",
      " |  \n",
      " |  __cmp__(...)\n",
      " |      x.__cmp__(y) <==> cmp(x,y)\n",
      " |  \n",
      " |  __getattribute__(...)\n",
      " |      x.__getattribute__('name') <==> x.name\n",
      " |  \n",
      " |  __hash__(...)\n",
      " |      x.__hash__() <==> hash(x)\n",
      " |  \n",
      " |  __repr__(...)\n",
      " |      x.__repr__() <==> repr(x)\n",
      " |  \n",
      " |  ----------------------------------------------------------------------\n",
      " |  Data descriptors defined here:\n",
      " |  \n",
      " |  __objclass__\n",
      " |  \n",
      " |  __self__\n",
      "\n"
     ]
    }
   ],
   "source": [
    "help(popular_names.__add__)"
   ]
  },
  {
   "cell_type": "code",
   "execution_count": 87,
   "metadata": {
    "collapsed": false
   },
   "outputs": [
    {
     "data": {
      "text/plain": [
       "list"
      ]
     },
     "execution_count": 87,
     "metadata": {},
     "output_type": "execute_result"
    }
   ],
   "source": [
    "type(popular_names)"
   ]
  },
  {
   "cell_type": "code",
   "execution_count": 88,
   "metadata": {
    "collapsed": false
   },
   "outputs": [
    {
     "data": {
      "text/plain": [
       "['__add__',\n",
       " '__class__',\n",
       " '__contains__',\n",
       " '__delattr__',\n",
       " '__delitem__',\n",
       " '__delslice__',\n",
       " '__doc__',\n",
       " '__eq__',\n",
       " '__format__',\n",
       " '__ge__',\n",
       " '__getattribute__',\n",
       " '__getitem__',\n",
       " '__getslice__',\n",
       " '__gt__',\n",
       " '__hash__',\n",
       " '__iadd__',\n",
       " '__imul__',\n",
       " '__init__',\n",
       " '__iter__',\n",
       " '__le__',\n",
       " '__len__',\n",
       " '__lt__',\n",
       " '__mul__',\n",
       " '__ne__',\n",
       " '__new__',\n",
       " '__reduce__',\n",
       " '__reduce_ex__',\n",
       " '__repr__',\n",
       " '__reversed__',\n",
       " '__rmul__',\n",
       " '__setattr__',\n",
       " '__setitem__',\n",
       " '__setslice__',\n",
       " '__sizeof__',\n",
       " '__str__',\n",
       " '__subclasshook__',\n",
       " 'append',\n",
       " 'count',\n",
       " 'extend',\n",
       " 'index',\n",
       " 'insert',\n",
       " 'pop',\n",
       " 'remove',\n",
       " 'reverse',\n",
       " 'sort']"
      ]
     },
     "execution_count": 88,
     "metadata": {},
     "output_type": "execute_result"
    }
   ],
   "source": [
    "dir(popular_names)"
   ]
  },
  {
   "cell_type": "code",
   "execution_count": 89,
   "metadata": {
    "collapsed": false
   },
   "outputs": [
    {
     "name": "stdout",
     "output_type": "stream",
     "text": [
      "['DANIEL', 'ANTHONY', 'ANGEL', 'JACOB', 'ALEXANDER', 'ETHAN', 'DAVID', 'ANDREW', 'MATTHEW', 'JOSHUA', [], 'three', [], 7.3]\n"
     ]
    }
   ],
   "source": [
    "weird_list = top_names + list_o_lists\n",
    "print weird_list"
   ]
  },
  {
   "cell_type": "code",
   "execution_count": 90,
   "metadata": {
    "collapsed": false
   },
   "outputs": [
    {
     "name": "stdout",
     "output_type": "stream",
     "text": [
      "['DANIEL', 'ANTHONY', 'ANGEL', 'JACOB', 'ALEXANDER'] ['ETHAN', 'DAVID', 'ANDREW', 'MATTHEW', 'JOSHUA']\n"
     ]
    }
   ],
   "source": [
    "print popular_names, less_popular_names"
   ]
  },
  {
   "cell_type": "code",
   "execution_count": 91,
   "metadata": {
    "collapsed": false
   },
   "outputs": [
    {
     "name": "stdout",
     "output_type": "stream",
     "text": [
      "['DANIEL', 'ANTHONY', 'ANGEL', 'JACOB', 'ALEXANDER', 'ETHAN', 'DAVID', 'ANDREW', 'MATTHEW', 'JOSHUA', 'CHRISTOPHER']\n"
     ]
    }
   ],
   "source": [
    "top_names.append(\"CHRISTOPHER\")\n",
    "print top_names"
   ]
  },
  {
   "cell_type": "code",
   "execution_count": 92,
   "metadata": {
    "collapsed": false
   },
   "outputs": [
    {
     "name": "stdout",
     "output_type": "stream",
     "text": [
      "YEAR,GENDER,NAME,COUNT\r\n",
      "2009,MALE,DANIEL,3423\r\n",
      "2009,MALE,ANTHONY,3106\r\n",
      "2009,MALE,ANGEL,3058\r\n",
      "2009,MALE,JACOB,2978\r\n",
      "2009,MALE,ALEXANDER,2905\r\n",
      "2009,MALE,ETHAN,2687\r\n",
      "2009,MALE,DAVID,2648\r\n",
      "2009,MALE,ANDREW,2605\r\n",
      "2009,MALE,MATTHEW,2435\r\n"
     ]
    }
   ],
   "source": [
    "!head -n 10 Most_Popular_Baby_Names__2009-2013.csv"
   ]
  },
  {
   "cell_type": "code",
   "execution_count": 95,
   "metadata": {
    "collapsed": false
   },
   "outputs": [
    {
     "name": "stdout",
     "output_type": "stream",
     "text": [
      "['2009', 'MALE', 'DANIEL', '3423']\n"
     ]
    }
   ],
   "source": [
    "first_line = [\"2009\",\"MALE\",\"DANIEL\",\"3423\"]\n",
    "print first_line"
   ]
  },
  {
   "cell_type": "code",
   "execution_count": 96,
   "metadata": {
    "collapsed": false
   },
   "outputs": [
    {
     "name": "stdout",
     "output_type": "stream",
     "text": [
      "['DANIEL', 'ANTHONY', 'ANGEL', 'JACOB', 'ALEXANDER', 'ETHAN', 'DAVID', 'ANDREW', 'MATTHEW', 'JOSHUA', 'CHRISTOPHER']\n"
     ]
    }
   ],
   "source": [
    "print top_names"
   ]
  },
  {
   "cell_type": "code",
   "execution_count": 98,
   "metadata": {
    "collapsed": false
   },
   "outputs": [
    {
     "name": "stdout",
     "output_type": "stream",
     "text": [
      "[3423, 3106, 3048, 2978, 2905]\n"
     ]
    }
   ],
   "source": [
    "top_counts =[3423, 3106, 3048, 2978, 2905]\n",
    "print top_counts"
   ]
  },
  {
   "cell_type": "code",
   "execution_count": 99,
   "metadata": {
    "collapsed": false
   },
   "outputs": [
    {
     "name": "stdout",
     "output_type": "stream",
     "text": [
      "DANIEL\n"
     ]
    }
   ],
   "source": [
    "print top_names[0]"
   ]
  },
  {
   "cell_type": "code",
   "execution_count": 100,
   "metadata": {
    "collapsed": false
   },
   "outputs": [
    {
     "name": "stdout",
     "output_type": "stream",
     "text": [
      "3423\n"
     ]
    }
   ],
   "source": [
    "print top_counts[0]"
   ]
  },
  {
   "cell_type": "code",
   "execution_count": 101,
   "metadata": {
    "collapsed": true
   },
   "outputs": [],
   "source": [
    "column_names_line = \"YEAR,GENDER,NAME,COUNT\""
   ]
  },
  {
   "cell_type": "code",
   "execution_count": 102,
   "metadata": {
    "collapsed": false
   },
   "outputs": [
    {
     "name": "stdout",
     "output_type": "stream",
     "text": [
      "['YEAR', 'GENDER', 'NAME', 'COUNT']\n"
     ]
    }
   ],
   "source": [
    "column_names = column_names_line.split(\",\")\n",
    "print column_names"
   ]
  },
  {
   "cell_type": "code",
   "execution_count": 104,
   "metadata": {
    "collapsed": false
   },
   "outputs": [
    {
     "data": {
      "text/plain": [
       "'COUNT'"
      ]
     },
     "execution_count": 104,
     "metadata": {},
     "output_type": "execute_result"
    }
   ],
   "source": [
    "column_names[3]"
   ]
  },
  {
   "cell_type": "code",
   "execution_count": 105,
   "metadata": {
    "collapsed": false
   },
   "outputs": [
    {
     "name": "stdout",
     "output_type": "stream",
     "text": [
      "['this', 'string', 'is', 'to', 'be', 'used', 'as', 'an', 'example']\n"
     ]
    }
   ],
   "source": [
    "example_str = \"this string is         to be     used as an example\"\n",
    "example_lst = example_str.split()\n",
    "print example_lst"
   ]
  },
  {
   "cell_type": "code",
   "execution_count": 106,
   "metadata": {
    "collapsed": false
   },
   "outputs": [
    {
     "name": "stdout",
     "output_type": "stream",
     "text": [
      "YEAR,GENDER,NAME,COUNT\n"
     ]
    }
   ],
   "source": [
    "recreated_column_names_lines = \",\".join(column_names)\n",
    "print recreated_column_names_lines"
   ]
  },
  {
   "cell_type": "code",
   "execution_count": 108,
   "metadata": {
    "collapsed": false
   },
   "outputs": [
    {
     "name": "stdout",
     "output_type": "stream",
     "text": [
      "{'count': 3423, 'gender': 'male', 'name': 'DANIEL', 'year': 2009}\n"
     ]
    }
   ],
   "source": [
    "baby = {\n",
    "    \"year\": 2009,\n",
    "    \"name\": \"DANIEL\",\n",
    "    \"gender\":\"male\",\n",
    "    \"count\": 3423\n",
    "}\n",
    "print baby"
   ]
  },
  {
   "cell_type": "code",
   "execution_count": 109,
   "metadata": {
    "collapsed": false
   },
   "outputs": [
    {
     "name": "stdout",
     "output_type": "stream",
     "text": [
      "DANIEL\n"
     ]
    }
   ],
   "source": [
    "print baby[\"name\"]"
   ]
  },
  {
   "cell_type": "code",
   "execution_count": 110,
   "metadata": {
    "collapsed": false
   },
   "outputs": [
    {
     "name": "stdout",
     "output_type": "stream",
     "text": [
      "3423\n"
     ]
    }
   ],
   "source": [
    "print baby[\"count\"]"
   ]
  },
  {
   "cell_type": "code",
   "execution_count": 111,
   "metadata": {
    "collapsed": false
   },
   "outputs": [
    {
     "name": "stdout",
     "output_type": "stream",
     "text": [
      "{'count': 3106, 'gender': 'male', 'name': 'ANTHONY', 'year': 2009}\n"
     ]
    }
   ],
   "source": [
    "baby[\"name\"] = \"ANTHONY\"\n",
    "baby[\"count\"] = 3106\n",
    "print baby"
   ]
  },
  {
   "cell_type": "code",
   "execution_count": 112,
   "metadata": {
    "collapsed": false
   },
   "outputs": [
    {
     "ename": "TypeError",
     "evalue": "unhashable type: 'list'",
     "output_type": "error",
     "traceback": [
      "\u001b[0;31m---------------------------------------------------------------------------\u001b[0m",
      "\u001b[0;31mTypeError\u001b[0m                                 Traceback (most recent call last)",
      "\u001b[0;32m<ipython-input-112-ccf13cd1af43>\u001b[0m in \u001b[0;36m<module>\u001b[0;34m()\u001b[0m\n\u001b[0;32m----> 1\u001b[0;31m \u001b[0mtest_dict\u001b[0m \u001b[0;34m=\u001b[0m \u001b[0;34m{\u001b[0m\u001b[0;34m[\u001b[0m\u001b[0;34m]\u001b[0m\u001b[0;34m:\u001b[0m \u001b[0;34m\"blah\"\u001b[0m\u001b[0;34m,\u001b[0m \u001b[0;34m[\u001b[0m\u001b[0;36m1\u001b[0m\u001b[0;34m]\u001b[0m\u001b[0;34m:\u001b[0m \u001b[0;34m\"foo\"\u001b[0m\u001b[0;34m}\u001b[0m\u001b[0;34m\u001b[0m\u001b[0m\n\u001b[0m",
      "\u001b[0;31mTypeError\u001b[0m: unhashable type: 'list'"
     ]
    }
   ],
   "source": [
    "test_dict = {[]: \"blah\", [1]: \"foo\"}"
   ]
  },
  {
   "cell_type": "code",
   "execution_count": 113,
   "metadata": {
    "collapsed": false
   },
   "outputs": [
    {
     "name": "stdout",
     "output_type": "stream",
     "text": [
      "(1, 2, 3)\n"
     ]
    }
   ],
   "source": [
    "tup = (1, 2, 3)\n",
    "print tup"
   ]
  },
  {
   "cell_type": "code",
   "execution_count": 114,
   "metadata": {
    "collapsed": false
   },
   "outputs": [
    {
     "name": "stdout",
     "output_type": "stream",
     "text": [
      "2\n"
     ]
    }
   ],
   "source": [
    "print tup[1]"
   ]
  },
  {
   "cell_type": "code",
   "execution_count": 115,
   "metadata": {
    "collapsed": false
   },
   "outputs": [
    {
     "ename": "TypeError",
     "evalue": "'tuple' object does not support item assignment",
     "output_type": "error",
     "traceback": [
      "\u001b[0;31m---------------------------------------------------------------------------\u001b[0m",
      "\u001b[0;31mTypeError\u001b[0m                                 Traceback (most recent call last)",
      "\u001b[0;32m<ipython-input-115-6315d82f6516>\u001b[0m in \u001b[0;36m<module>\u001b[0;34m()\u001b[0m\n\u001b[0;32m----> 1\u001b[0;31m \u001b[0mtup\u001b[0m\u001b[0;34m[\u001b[0m\u001b[0;36m1\u001b[0m\u001b[0;34m]\u001b[0m \u001b[0;34m=\u001b[0m \u001b[0;36m5\u001b[0m\u001b[0;34m\u001b[0m\u001b[0m\n\u001b[0m",
      "\u001b[0;31mTypeError\u001b[0m: 'tuple' object does not support item assignment"
     ]
    }
   ],
   "source": [
    "tup[1] = 5"
   ]
  },
  {
   "cell_type": "code",
   "execution_count": 117,
   "metadata": {
    "collapsed": false
   },
   "outputs": [
    {
     "name": "stdout",
     "output_type": "stream",
     "text": [
      "{(1, 3): '43'}\n"
     ]
    }
   ],
   "source": [
    "test_dict = { (1,3): \"43\"}\n",
    "print test_dict"
   ]
  },
  {
   "cell_type": "code",
   "execution_count": 118,
   "metadata": {
    "collapsed": false
   },
   "outputs": [
    {
     "name": "stdout",
     "output_type": "stream",
     "text": [
      "{'count': 3106, 'gender': 'male', 'name': 'ANTHONY', 'year': 2009}\n"
     ]
    }
   ],
   "source": [
    "print baby"
   ]
  },
  {
   "cell_type": "markdown",
   "metadata": {},
   "source": [
    "# Let's Combine Lists and Dictionaries!\n",
    "\n",
    "Make a list of the top 5 entries in the most popular baby names dataset. Each element of the list should be a dictionary where the keys are column name and the values are the value for that column for each row.\n",
    "\n",
    "For example:\n",
    "\n",
    "    first_baby_row = {\n",
    "    \"year\": 2009,\n",
    "    \"name\": \"DANIEL\",\n",
    "    \"gender\":\"male\",\n",
    "    \"count\": 3423\n",
    "    }"
   ]
  },
  {
   "cell_type": "code",
   "execution_count": 119,
   "metadata": {
    "collapsed": false,
    "scrolled": true
   },
   "outputs": [
    {
     "name": "stdout",
     "output_type": "stream",
     "text": [
      "YEAR,GENDER,NAME,COUNT\r\n",
      "2009,MALE,DANIEL,3423\r\n",
      "2009,MALE,ANTHONY,3106\r\n",
      "2009,MALE,ANGEL,3058\r\n",
      "2009,MALE,JACOB,2978\r\n",
      "2009,MALE,ALEXANDER,2905\r\n"
     ]
    }
   ],
   "source": [
    "!head -n 6 Most_Popular_Baby_Names__2009-2013.csv"
   ]
  },
  {
   "cell_type": "code",
   "execution_count": 123,
   "metadata": {
    "collapsed": false
   },
   "outputs": [
    {
     "name": "stdout",
     "output_type": "stream",
     "text": [
      "[{'count': 3423, 'gender': 'MALE', 'name': 'DANIEL', 'year': 2009}, {'count': 3106, 'gender': 'MALE', 'name': 'ANTHONY', 'year': 2009}, {'count': 3058, 'gender': 'MALE', 'name': 'ANGEL', 'year': 2009}, {'count': 2978, 'gender': 'MALE', 'name': 'JACOB', 'year': 2009}, {'count': 2905, 'gender': 'MALE', 'name': 'ALEXANDER', 'year': 2009}]\n"
     ]
    }
   ],
   "source": [
    "b0 = {\n",
    "      \"year\": 2009,\n",
    "    \"gender\": \"MALE\",\n",
    "      \"name\": \"DANIEL\",\n",
    "     \"count\": 3423\n",
    "}\n",
    "b1 = {\"year\": 2009, \"gender\": \"MALE\", \"name\": \"ANTHONY\", \"count\": 3106}\n",
    "b2 = {\"year\": 2009, \"gender\": \"MALE\", \"name\": \"ANGEL\", \"count\": 3058}\n",
    "b3 = {\"year\": 2009, \"gender\": \"MALE\", \"name\": \"JACOB\", \"count\": 2978}\n",
    "b4 = {\"year\": 2009, \"gender\": \"MALE\", \"name\": \"ALEXANDER\", \"count\": 2905}\n",
    "\n",
    "babies = [b0, b1, b2, b3, b4]\n",
    "print babies"
   ]
  },
  {
   "cell_type": "code",
   "execution_count": 124,
   "metadata": {
    "collapsed": false
   },
   "outputs": [
    {
     "name": "stdout",
     "output_type": "stream",
     "text": [
      "ANTHONY\n"
     ]
    }
   ],
   "source": [
    "print babies[1][\"name\"]"
   ]
  },
  {
   "cell_type": "markdown",
   "metadata": {},
   "source": [
    "# Looping and Iteration"
   ]
  },
  {
   "cell_type": "markdown",
   "metadata": {},
   "source": [
    "`for` lets you do something for each entry in a list, in order."
   ]
  },
  {
   "cell_type": "code",
   "execution_count": 126,
   "metadata": {
    "collapsed": false
   },
   "outputs": [
    {
     "name": "stdout",
     "output_type": "stream",
     "text": [
      "DANIEL\n",
      "ANTHONY\n",
      "ANGEL\n",
      "JACOB\n",
      "ALEXANDER\n"
     ]
    }
   ],
   "source": [
    "baby_names = [\"DANIEL\",\"ANTHONY\",\"ANGEL\",\"JACOB\",\"ALEXANDER\"]\n",
    "for name in baby_names:\n",
    "    print name"
   ]
  },
  {
   "cell_type": "markdown",
   "metadata": {},
   "source": [
    "You can also loop over dictionaries, but it works a little differently!"
   ]
  },
  {
   "cell_type": "code",
   "execution_count": 131,
   "metadata": {
    "collapsed": false
   },
   "outputs": [
    {
     "name": "stdout",
     "output_type": "stream",
     "text": [
      "count 3423\n",
      "gender MALE\n",
      "name DANIEL\n",
      "year 2009\n"
     ]
    }
   ],
   "source": [
    "baby_entry = {\"year\": 2009, \"gender\": \"MALE\", \"name\": \"DANIEL\", \"count\": 3423 }\n",
    "\n",
    "for item in baby_entry:\n",
    "    print item, baby_entry[item]"
   ]
  },
  {
   "cell_type": "code",
   "execution_count": 132,
   "metadata": {
    "collapsed": false
   },
   "outputs": [
    {
     "name": "stdout",
     "output_type": "stream",
     "text": [
      "1\n",
      "2\n",
      "3\n"
     ]
    }
   ],
   "source": [
    "# tuples, too!\n",
    "for blah in (1,2,3):\n",
    "    print blah"
   ]
  },
  {
   "cell_type": "code",
   "execution_count": 138,
   "metadata": {
    "collapsed": false
   },
   "outputs": [
    {
     "name": "stdout",
     "output_type": "stream",
     "text": [
      "15470\n"
     ]
    }
   ],
   "source": [
    "total_baby_numbers = 0\n",
    "for baby in babies:\n",
    "    baby_number = baby[\"count\"]\n",
    "    total_baby_numbers = total_baby_numbers + baby_number\n",
    "\n",
    "print total_baby_numbers"
   ]
  },
  {
   "cell_type": "code",
   "execution_count": 140,
   "metadata": {
    "collapsed": false
   },
   "outputs": [
    {
     "name": "stdout",
     "output_type": "stream",
     "text": [
      "t\n",
      "\n",
      "h\n",
      "\n",
      "i\n",
      "\n",
      "s\n",
      "\n",
      " \n",
      "\n",
      "i\n",
      "\n",
      "s\n",
      "\n",
      " \n",
      "\n",
      "a\n",
      "\n",
      " \n",
      "\n",
      "s\n",
      "\n",
      "t\n",
      "\n",
      "r\n",
      "\n",
      "i\n",
      "\n",
      "n\n",
      "\n",
      "g\n",
      "\n"
     ]
    }
   ],
   "source": [
    "# lots of things are iterable!\n",
    "for letter in \"this is a string\":\n",
    "    print letter"
   ]
  },
  {
   "cell_type": "code",
   "execution_count": 141,
   "metadata": {
    "collapsed": true
   },
   "outputs": [],
   "source": [
    "with open(\"Most_Popular_Baby_Names__2009-2013.csv\",\"r\") as f:\n",
    "    baby_data = f.readlines()"
   ]
  },
  {
   "cell_type": "code",
   "execution_count": 143,
   "metadata": {
    "collapsed": false
   },
   "outputs": [
    {
     "data": {
      "text/plain": [
       "list"
      ]
     },
     "execution_count": 143,
     "metadata": {},
     "output_type": "execute_result"
    }
   ],
   "source": [
    "type(baby_data)"
   ]
  },
  {
   "cell_type": "code",
   "execution_count": 144,
   "metadata": {
    "collapsed": false
   },
   "outputs": [
    {
     "data": {
      "text/plain": [
       "295193"
      ]
     },
     "execution_count": 144,
     "metadata": {},
     "output_type": "execute_result"
    }
   ],
   "source": [
    "len(baby_data)"
   ]
  },
  {
   "cell_type": "code",
   "execution_count": 145,
   "metadata": {
    "collapsed": false
   },
   "outputs": [
    {
     "name": "stdout",
     "output_type": "stream",
     "text": [
      "['YEAR,GENDER,NAME,COUNT\\n', '2009,MALE,DANIEL,3423\\n', '2009,MALE,ANTHONY,3106\\n', '2009,MALE,ANGEL,3058\\n', '2009,MALE,JACOB,2978\\n', '2009,MALE,ALEXANDER,2905\\n', '2009,MALE,ETHAN,2687\\n', '2009,MALE,DAVID,2648\\n', '2009,MALE,ANDREW,2605\\n', '2009,MALE,MATTHEW,2435\\n']\n"
     ]
    }
   ],
   "source": [
    "print baby_data[0:10]"
   ]
  },
  {
   "cell_type": "code",
   "execution_count": 147,
   "metadata": {
    "collapsed": false
   },
   "outputs": [
    {
     "name": "stdout",
     "output_type": "stream",
     "text": [
      "<type 'file'>\n"
     ]
    }
   ],
   "source": [
    "# how does this `with open` thing work?\n",
    "with open(\"Most_Popular_Baby_Names__2009-2013.csv\",\"r\") as f:\n",
    "    print type(f)\n",
    "    # f is a file"
   ]
  },
  {
   "cell_type": "code",
   "execution_count": 148,
   "metadata": {
    "collapsed": false
   },
   "outputs": [
    {
     "name": "stdout",
     "output_type": "stream",
     "text": [
      "['__class__', '__delattr__', '__doc__', '__enter__', '__exit__', '__format__', '__getattribute__', '__hash__', '__init__', '__iter__', '__new__', '__reduce__', '__reduce_ex__', '__repr__', '__setattr__', '__sizeof__', '__str__', '__subclasshook__', 'close', 'closed', 'encoding', 'errors', 'fileno', 'flush', 'isatty', 'mode', 'name', 'newlines', 'next', 'read', 'readinto', 'readline', 'readlines', 'seek', 'softspace', 'tell', 'truncate', 'write', 'writelines', 'xreadlines']\n"
     ]
    }
   ],
   "source": [
    "with open(\"Most_Popular_Baby_Names__2009-2013.csv\",\"r\") as f:\n",
    "    print dir(f)"
   ]
  },
  {
   "cell_type": "code",
   "execution_count": 151,
   "metadata": {
    "collapsed": false
   },
   "outputs": [
    {
     "name": "stdout",
     "output_type": "stream",
     "text": [
      "['YEAR,GENDER,NAME,COUNT', '2009,MALE,DANIEL,3423', '2009,MALE,ANTHONY,3106', '2009,MALE,ANGEL,3058', '2009,MALE,JACOB,2978', '2009,MALE,ALEXANDER,2905', '2009,MALE,ETHAN,2687', '2009,MALE,DAVID,2648', '2009,MALE,ANDREW,2605', '2009,MALE,MATTHEW,2435']\n"
     ]
    }
   ],
   "source": [
    "baby_data = []\n",
    "with open(\"Most_Popular_Baby_Names__2009-2013.csv\",\"r\") as f:\n",
    "    for line in f:\n",
    "        baby_data.append(line.strip())\n",
    "        \n",
    "print baby_data[:10]"
   ]
  },
  {
   "cell_type": "code",
   "execution_count": 153,
   "metadata": {
    "collapsed": false
   },
   "outputs": [
    {
     "data": {
      "text/plain": [
       "list"
      ]
     },
     "execution_count": 153,
     "metadata": {},
     "output_type": "execute_result"
    }
   ],
   "source": [
    "with open(\"Most_Popular_Baby_Names__2009-2013.csv\",\"r\") as f:\n",
    "    baby_str = f.read()\n",
    "\n",
    "baby_data = baby_str.split(\"\\n\")\n",
    "type(baby_data)"
   ]
  },
  {
   "cell_type": "code",
   "execution_count": 154,
   "metadata": {
    "collapsed": false
   },
   "outputs": [
    {
     "data": {
      "text/plain": [
       "295194"
      ]
     },
     "execution_count": 154,
     "metadata": {},
     "output_type": "execute_result"
    }
   ],
   "source": [
    "len(baby_data)"
   ]
  },
  {
   "cell_type": "code",
   "execution_count": 155,
   "metadata": {
    "collapsed": true
   },
   "outputs": [],
   "source": [
    "# Let's extract some data to a file!\n",
    "with open(\"2011_baby_data.csv\",\"w\") as f:\n",
    "    f.write(baby_data[0])"
   ]
  },
  {
   "cell_type": "code",
   "execution_count": 156,
   "metadata": {
    "collapsed": true
   },
   "outputs": [],
   "source": [
    "start_line = 120460\n",
    "end_line = 179044\n",
    "\n",
    "with open(\"2011_baby_data.csv\",\"w\") as f:\n",
    "    for line in baby_data[start_line:end_line]:\n",
    "        f.write(line + \"\\n\")"
   ]
  },
  {
   "cell_type": "code",
   "execution_count": 158,
   "metadata": {
    "collapsed": false
   },
   "outputs": [],
   "source": [
    "# don't like the line + \"\\n\" construction? we can do it differently.\n",
    "data_2011 = \"\\n\".join(baby_data[start_line:end_line])\n",
    "with open(\"2011_baby_data.csv\",\"w\") as f:\n",
    "    f.write(data_2011)"
   ]
  },
  {
   "cell_type": "code",
   "execution_count": 159,
   "metadata": {
    "collapsed": false
   },
   "outputs": [
    {
     "data": {
      "text/plain": [
       "295194"
      ]
     },
     "execution_count": 159,
     "metadata": {},
     "output_type": "execute_result"
    }
   ],
   "source": [
    "len(baby_data)"
   ]
  },
  {
   "cell_type": "code",
   "execution_count": 161,
   "metadata": {
    "collapsed": false
   },
   "outputs": [
    {
     "data": {
      "text/plain": [
       "4"
      ]
     },
     "execution_count": 161,
     "metadata": {},
     "output_type": "execute_result"
    }
   ],
   "source": [
    "len(\"five\")"
   ]
  },
  {
   "cell_type": "code",
   "execution_count": 165,
   "metadata": {
    "collapsed": false
   },
   "outputs": [
    {
     "name": "stdout",
     "output_type": "stream",
     "text": [
      "58585\n"
     ]
    }
   ],
   "source": [
    "babies_2011 = []\n",
    "\n",
    "for baby_datum in baby_data:\n",
    "    if baby_datum.startswith(\"2011\"):\n",
    "        babies_2011.append(baby_datum)\n",
    "\n",
    "print len(babies_2011)"
   ]
  },
  {
   "cell_type": "code",
   "execution_count": 163,
   "metadata": {
    "collapsed": false
   },
   "outputs": [
    {
     "name": "stdout",
     "output_type": "stream",
     "text": [
      "Help on built-in function startswith:\n",
      "\n",
      "startswith(...)\n",
      "    S.startswith(prefix[, start[, end]]) -> bool\n",
      "    \n",
      "    Return True if S starts with the specified prefix, False otherwise.\n",
      "    With optional start, test S beginning at that position.\n",
      "    With optional end, stop comparing S at that position.\n",
      "    prefix can also be a tuple of strings to try.\n",
      "\n"
     ]
    }
   ],
   "source": [
    "help(baby_datum.startswith)"
   ]
  },
  {
   "cell_type": "code",
   "execution_count": 164,
   "metadata": {
    "collapsed": false
   },
   "outputs": [
    {
     "name": "stdout",
     "output_type": "stream",
     "text": [
      "['2011,MALE,JACOB,3180', '2011,MALE,DANIEL,2936', '2011,MALE,JAYDEN,2773', '2011,MALE,ANTHONY,2716', '2011,MALE,ALEXANDER,2494', '2011,MALE,MATTHEW,2490', '2011,MALE,ETHAN,2408', '2011,MALE,DAVID,2324', '2011,MALE,ANDREW,2310', '2011,MALE,NATHAN,2261']\n"
     ]
    }
   ],
   "source": [
    "print(babies_2011[:10])"
   ]
  },
  {
   "cell_type": "code",
   "execution_count": 167,
   "metadata": {
    "collapsed": false
   },
   "outputs": [
    {
     "name": "stdout",
     "output_type": "stream",
     "text": [
      "babies_2011 58585\n",
      "babies_2012 58865\n"
     ]
    }
   ],
   "source": [
    "babies_2011 = []\n",
    "babies_2012 = []\n",
    "\n",
    "for baby_datum in baby_data:\n",
    "    if baby_datum.startswith(\"2011\"):\n",
    "        babies_2011.append(baby_datum)\n",
    "    elif baby_datum.startswith(\"2012\"):\n",
    "        babies_2012.append(baby_datum)\n",
    "        \n",
    "print \"babies_2011\", len(babies_2011)\n",
    "print \"babies_2012\", len(babies_2012)"
   ]
  },
  {
   "cell_type": "code",
   "execution_count": 175,
   "metadata": {
    "collapsed": false
   },
   "outputs": [
    {
     "name": "stdout",
     "output_type": "stream",
     "text": [
      "babies_2011 58585\n",
      "babies_2012 58865\n",
      "babies_other 177744\n",
      "total_lines 295194\n"
     ]
    }
   ],
   "source": [
    "babies_2011 = []\n",
    "babies_2012 = []\n",
    "babies_other = []\n",
    "total_lines = 0\n",
    "\n",
    "for baby_datum in baby_data:\n",
    "    if baby_datum.startswith(\"2011\"):\n",
    "        babies_2011.append(baby_datum)\n",
    "    elif baby_datum.startswith(\"2012\"):\n",
    "        babies_2012.append(baby_datum)\n",
    "    else:\n",
    "        babies_other.append(baby_datum)\n",
    "    total_lines += 1\n",
    "        \n",
    "        \n",
    "print \"babies_2011\", len(babies_2011)\n",
    "print \"babies_2012\", len(babies_2012)\n",
    "print \"babies_other\", len(babies_other)\n",
    "print \"total_lines\", total_lines"
   ]
  },
  {
   "cell_type": "code",
   "execution_count": 178,
   "metadata": {
    "collapsed": false
   },
   "outputs": [
    {
     "name": "stdout",
     "output_type": "stream",
     "text": [
      "2009,MALE,ANGEL,3058\n"
     ]
    }
   ],
   "source": [
    "baby_datum = baby_data[3]\n",
    "print baby_datum"
   ]
  },
  {
   "cell_type": "code",
   "execution_count": 180,
   "metadata": {
    "collapsed": false
   },
   "outputs": [
    {
     "data": {
      "text/plain": [
       "False"
      ]
     },
     "execution_count": 180,
     "metadata": {},
     "output_type": "execute_result"
    }
   ],
   "source": [
    "baby_datum.startswith(\"2011\")"
   ]
  },
  {
   "cell_type": "code",
   "execution_count": 181,
   "metadata": {
    "collapsed": false
   },
   "outputs": [
    {
     "data": {
      "text/plain": [
       "True"
      ]
     },
     "execution_count": 181,
     "metadata": {},
     "output_type": "execute_result"
    }
   ],
   "source": [
    "baby_datum.startswith(\"2009\")"
   ]
  },
  {
   "cell_type": "code",
   "execution_count": 182,
   "metadata": {
    "collapsed": false
   },
   "outputs": [
    {
     "data": {
      "text/plain": [
       "bool"
      ]
     },
     "execution_count": 182,
     "metadata": {},
     "output_type": "execute_result"
    }
   ],
   "source": [
    "type(True)"
   ]
  },
  {
   "cell_type": "code",
   "execution_count": 183,
   "metadata": {
    "collapsed": false
   },
   "outputs": [
    {
     "data": {
      "text/plain": [
       "True"
      ]
     },
     "execution_count": 183,
     "metadata": {},
     "output_type": "execute_result"
    }
   ],
   "source": [
    "True == True"
   ]
  },
  {
   "cell_type": "code",
   "execution_count": 184,
   "metadata": {
    "collapsed": false
   },
   "outputs": [
    {
     "data": {
      "text/plain": [
       "False"
      ]
     },
     "execution_count": 184,
     "metadata": {},
     "output_type": "execute_result"
    }
   ],
   "source": [
    "False == True"
   ]
  },
  {
   "cell_type": "code",
   "execution_count": 185,
   "metadata": {
    "collapsed": false
   },
   "outputs": [
    {
     "data": {
      "text/plain": [
       "True"
      ]
     },
     "execution_count": 185,
     "metadata": {},
     "output_type": "execute_result"
    }
   ],
   "source": [
    "False == False"
   ]
  },
  {
   "cell_type": "code",
   "execution_count": 186,
   "metadata": {
    "collapsed": false
   },
   "outputs": [
    {
     "ename": "NameError",
     "evalue": "name 'true' is not defined",
     "output_type": "error",
     "traceback": [
      "\u001b[0;31m---------------------------------------------------------------------------\u001b[0m",
      "\u001b[0;31mNameError\u001b[0m                                 Traceback (most recent call last)",
      "\u001b[0;32m<ipython-input-186-74d9a83219ca>\u001b[0m in \u001b[0;36m<module>\u001b[0;34m()\u001b[0m\n\u001b[0;32m----> 1\u001b[0;31m \u001b[0mtrue\u001b[0m\u001b[0;34m\u001b[0m\u001b[0m\n\u001b[0m",
      "\u001b[0;31mNameError\u001b[0m: name 'true' is not defined"
     ]
    }
   ],
   "source": [
    "true"
   ]
  },
  {
   "cell_type": "code",
   "execution_count": 187,
   "metadata": {
    "collapsed": false
   },
   "outputs": [
    {
     "data": {
      "text/plain": [
       "1"
      ]
     },
     "execution_count": 187,
     "metadata": {},
     "output_type": "execute_result"
    }
   ],
   "source": [
    "True * True"
   ]
  },
  {
   "cell_type": "code",
   "execution_count": 188,
   "metadata": {
    "collapsed": false
   },
   "outputs": [
    {
     "data": {
      "text/plain": [
       "0"
      ]
     },
     "execution_count": 188,
     "metadata": {},
     "output_type": "execute_result"
    }
   ],
   "source": [
    "True * False"
   ]
  },
  {
   "cell_type": "code",
   "execution_count": 189,
   "metadata": {
    "collapsed": false
   },
   "outputs": [
    {
     "data": {
      "text/plain": [
       "False"
      ]
     },
     "execution_count": 189,
     "metadata": {},
     "output_type": "execute_result"
    }
   ],
   "source": [
    "bool(0)"
   ]
  },
  {
   "cell_type": "code",
   "execution_count": 192,
   "metadata": {
    "collapsed": false
   },
   "outputs": [
    {
     "name": "stdout",
     "output_type": "stream",
     "text": [
      "boo\n"
     ]
    }
   ],
   "source": [
    "if (0):\n",
    "    print \"yay\"\n",
    "else:\n",
    "    print \"boo\""
   ]
  },
  {
   "cell_type": "code",
   "execution_count": 193,
   "metadata": {
    "collapsed": false
   },
   "outputs": [
    {
     "data": {
      "text/plain": [
       "True"
      ]
     },
     "execution_count": 193,
     "metadata": {},
     "output_type": "execute_result"
    }
   ],
   "source": [
    "bool(1)"
   ]
  },
  {
   "cell_type": "code",
   "execution_count": 194,
   "metadata": {
    "collapsed": false
   },
   "outputs": [
    {
     "name": "stdout",
     "output_type": "stream",
     "text": [
      "yay\n"
     ]
    }
   ],
   "source": [
    "if (1):\n",
    "    print \"yay\""
   ]
  },
  {
   "cell_type": "code",
   "execution_count": 196,
   "metadata": {
    "collapsed": false
   },
   "outputs": [
    {
     "data": {
      "text/plain": [
       "True"
      ]
     },
     "execution_count": 196,
     "metadata": {},
     "output_type": "execute_result"
    }
   ],
   "source": [
    "bool(1.2)"
   ]
  },
  {
   "cell_type": "code",
   "execution_count": 197,
   "metadata": {
    "collapsed": false
   },
   "outputs": [
    {
     "data": {
      "text/plain": [
       "False"
      ]
     },
     "execution_count": 197,
     "metadata": {},
     "output_type": "execute_result"
    }
   ],
   "source": [
    "bool(\"\")"
   ]
  },
  {
   "cell_type": "code",
   "execution_count": 198,
   "metadata": {
    "collapsed": false
   },
   "outputs": [
    {
     "data": {
      "text/plain": [
       "''"
      ]
     },
     "execution_count": 198,
     "metadata": {},
     "output_type": "execute_result"
    }
   ],
   "source": [
    "baby_data[-1]"
   ]
  },
  {
   "cell_type": "code",
   "execution_count": 206,
   "metadata": {
    "collapsed": false
   },
   "outputs": [
    {
     "name": "stdout",
     "output_type": "stream",
     "text": [
      "no data!\n"
     ]
    }
   ],
   "source": [
    "if (len(baby_data[-1]) > 0):\n",
    "    print \"there's data!\"\n",
    "else:\n",
    "    print \"no data!\""
   ]
  },
  {
   "cell_type": "code",
   "execution_count": 200,
   "metadata": {
    "collapsed": false
   },
   "outputs": [
    {
     "data": {
      "text/plain": [
       "True"
      ]
     },
     "execution_count": 200,
     "metadata": {},
     "output_type": "execute_result"
    }
   ],
   "source": [
    "bool(\"blah blah\")"
   ]
  },
  {
   "cell_type": "code",
   "execution_count": 201,
   "metadata": {
    "collapsed": false
   },
   "outputs": [
    {
     "data": {
      "text/plain": [
       "True"
      ]
     },
     "execution_count": 201,
     "metadata": {},
     "output_type": "execute_result"
    }
   ],
   "source": [
    "bool(\"0\")"
   ]
  },
  {
   "cell_type": "code",
   "execution_count": 202,
   "metadata": {
    "collapsed": false
   },
   "outputs": [
    {
     "data": {
      "text/plain": [
       "False"
      ]
     },
     "execution_count": 202,
     "metadata": {},
     "output_type": "execute_result"
    }
   ],
   "source": [
    "bool([])"
   ]
  },
  {
   "cell_type": "code",
   "execution_count": 203,
   "metadata": {
    "collapsed": false
   },
   "outputs": [
    {
     "data": {
      "text/plain": [
       "True"
      ]
     },
     "execution_count": 203,
     "metadata": {},
     "output_type": "execute_result"
    }
   ],
   "source": [
    "bool([False])"
   ]
  },
  {
   "cell_type": "code",
   "execution_count": 212,
   "metadata": {
    "collapsed": false
   },
   "outputs": [
    {
     "name": "stdout",
     "output_type": "stream",
     "text": [
      "1 is empty\n"
     ]
    }
   ],
   "source": [
    "for index,item in enumerate([[1],[],[3],[4]]):\n",
    "    if (not item):\n",
    "        print index, \"is empty\""
   ]
  },
  {
   "cell_type": "code",
   "execution_count": 213,
   "metadata": {
    "collapsed": false
   },
   "outputs": [
    {
     "name": "stdout",
     "output_type": "stream",
     "text": [
      "58585\n"
     ]
    }
   ],
   "source": [
    "def filter_year(baby_data, year):\n",
    "    \"\"\"\n",
    "    Return a list of baby data for a given year\n",
    "    \"\"\"\n",
    "    filtered_baby_data = []\n",
    "    \n",
    "    for baby_datum in baby_data:\n",
    "        if baby_datum.startswith(year):\n",
    "            filtered_baby_data.append(baby_datum)\n",
    "            \n",
    "    return filtered_baby_data\n",
    "\n",
    "babies_2011 = filter_year(baby_data, \"2011\")\n",
    "print len(babies_2011)"
   ]
  },
  {
   "cell_type": "code",
   "execution_count": 214,
   "metadata": {
    "collapsed": false
   },
   "outputs": [
    {
     "name": "stdout",
     "output_type": "stream",
     "text": [
      "Help on function filter_year in module __main__:\n",
      "\n",
      "filter_year(baby_data, year)\n",
      "    Return a list of baby data for a given year\n",
      "\n"
     ]
    }
   ],
   "source": [
    "help(filter_year)"
   ]
  },
  {
   "cell_type": "code",
   "execution_count": 216,
   "metadata": {
    "collapsed": false
   },
   "outputs": [
    {
     "name": "stdout",
     "output_type": "stream",
     "text": [
      "[]\n"
     ]
    }
   ],
   "source": [
    "print filter_year(baby_data, \"1911\")"
   ]
  },
  {
   "cell_type": "code",
   "execution_count": 217,
   "metadata": {
    "collapsed": false
   },
   "outputs": [
    {
     "name": "stdout",
     "output_type": "stream",
     "text": [
      "YEAR,GENDER,NAME,COUNT\r\n",
      "2009,MALE,DANIEL,3423\r\n",
      "2009,MALE,ANTHONY,3106\r\n",
      "2009,MALE,ANGEL,3058\r\n",
      "2009,MALE,JACOB,2978\r\n",
      "2009,MALE,ALEXANDER,2905\r\n",
      "2009,MALE,ETHAN,2687\r\n",
      "2009,MALE,DAVID,2648\r\n",
      "2009,MALE,ANDREW,2605\r\n",
      "2009,MALE,MATTHEW,2435\r\n"
     ]
    }
   ],
   "source": [
    "!head Most_Popular_Baby_Names__2009-2013.csv"
   ]
  },
  {
   "cell_type": "code",
   "execution_count": 225,
   "metadata": {
    "collapsed": false
   },
   "outputs": [
    {
     "data": {
      "text/plain": [
       "[]"
      ]
     },
     "execution_count": 225,
     "metadata": {},
     "output_type": "execute_result"
    }
   ],
   "source": [
    "def filter_babies(babies, key, value):\n",
    "    \"\"\"\n",
    "    Return baby where key matches the value\n",
    "    \"\"\"\n",
    "    filtered_babies = []\n",
    "    for baby in babies:\n",
    "        if baby[key] == value:\n",
    "            filtered_babies.append(baby)\n",
    "    return filtered_babies\n",
    "\n",
    "filter_babies(babies, \"year\", 2011)"
   ]
  },
  {
   "cell_type": "code",
   "execution_count": 226,
   "metadata": {
    "collapsed": false
   },
   "outputs": [
    {
     "data": {
      "text/plain": [
       "[{'count': 3423, 'gender': 'MALE', 'name': 'DANIEL', 'year': 2009},\n",
       " {'count': 3106, 'gender': 'MALE', 'name': 'ANTHONY', 'year': 2009},\n",
       " {'count': 3058, 'gender': 'MALE', 'name': 'ANGEL', 'year': 2009},\n",
       " {'count': 2978, 'gender': 'MALE', 'name': 'JACOB', 'year': 2009},\n",
       " {'count': 2905, 'gender': 'MALE', 'name': 'ALEXANDER', 'year': 2009}]"
      ]
     },
     "execution_count": 226,
     "metadata": {},
     "output_type": "execute_result"
    }
   ],
   "source": [
    "filter_babies(babies, \"year\", 2009)"
   ]
  },
  {
   "cell_type": "code",
   "execution_count": 227,
   "metadata": {
    "collapsed": false
   },
   "outputs": [
    {
     "data": {
      "text/plain": [
       "[{'count': 3106, 'gender': 'MALE', 'name': 'ANTHONY', 'year': 2009}]"
      ]
     },
     "execution_count": 227,
     "metadata": {},
     "output_type": "execute_result"
    }
   ],
   "source": [
    "filter_babies(babies, \"name\", \"ANTHONY\")"
   ]
  },
  {
   "cell_type": "code",
   "execution_count": 228,
   "metadata": {
    "collapsed": false
   },
   "outputs": [
    {
     "data": {
      "text/plain": [
       "False"
      ]
     },
     "execution_count": 228,
     "metadata": {},
     "output_type": "execute_result"
    }
   ],
   "source": [
    "\"ANTHONY\" == \"Anthony\""
   ]
  },
  {
   "cell_type": "code",
   "execution_count": 229,
   "metadata": {
    "collapsed": false
   },
   "outputs": [
    {
     "data": {
      "text/plain": [
       "True"
      ]
     },
     "execution_count": 229,
     "metadata": {},
     "output_type": "execute_result"
    }
   ],
   "source": [
    "\"ANTHONY\" == \"Anthony\".upper()"
   ]
  },
  {
   "cell_type": "code",
   "execution_count": 230,
   "metadata": {
    "collapsed": false
   },
   "outputs": [
    {
     "data": {
      "text/plain": [
       "True"
      ]
     },
     "execution_count": 230,
     "metadata": {},
     "output_type": "execute_result"
    }
   ],
   "source": [
    "\"anthony\".upper() == \"AnthonY\".upper()"
   ]
  },
  {
   "cell_type": "code",
   "execution_count": 231,
   "metadata": {
    "collapsed": false
   },
   "outputs": [
    {
     "data": {
      "text/plain": [
       "'ANTHONY'"
      ]
     },
     "execution_count": 231,
     "metadata": {},
     "output_type": "execute_result"
    }
   ],
   "source": [
    "\"anthony\".upper()"
   ]
  },
  {
   "cell_type": "code",
   "execution_count": 232,
   "metadata": {
    "collapsed": false
   },
   "outputs": [
    {
     "data": {
      "text/plain": [
       "['__add__',\n",
       " '__class__',\n",
       " '__contains__',\n",
       " '__delattr__',\n",
       " '__doc__',\n",
       " '__eq__',\n",
       " '__format__',\n",
       " '__ge__',\n",
       " '__getattribute__',\n",
       " '__getitem__',\n",
       " '__getnewargs__',\n",
       " '__getslice__',\n",
       " '__gt__',\n",
       " '__hash__',\n",
       " '__init__',\n",
       " '__le__',\n",
       " '__len__',\n",
       " '__lt__',\n",
       " '__mod__',\n",
       " '__mul__',\n",
       " '__ne__',\n",
       " '__new__',\n",
       " '__reduce__',\n",
       " '__reduce_ex__',\n",
       " '__repr__',\n",
       " '__rmod__',\n",
       " '__rmul__',\n",
       " '__setattr__',\n",
       " '__sizeof__',\n",
       " '__str__',\n",
       " '__subclasshook__',\n",
       " '_formatter_field_name_split',\n",
       " '_formatter_parser',\n",
       " 'capitalize',\n",
       " 'center',\n",
       " 'count',\n",
       " 'decode',\n",
       " 'encode',\n",
       " 'endswith',\n",
       " 'expandtabs',\n",
       " 'find',\n",
       " 'format',\n",
       " 'index',\n",
       " 'isalnum',\n",
       " 'isalpha',\n",
       " 'isdigit',\n",
       " 'islower',\n",
       " 'isspace',\n",
       " 'istitle',\n",
       " 'isupper',\n",
       " 'join',\n",
       " 'ljust',\n",
       " 'lower',\n",
       " 'lstrip',\n",
       " 'partition',\n",
       " 'replace',\n",
       " 'rfind',\n",
       " 'rindex',\n",
       " 'rjust',\n",
       " 'rpartition',\n",
       " 'rsplit',\n",
       " 'rstrip',\n",
       " 'split',\n",
       " 'splitlines',\n",
       " 'startswith',\n",
       " 'strip',\n",
       " 'swapcase',\n",
       " 'title',\n",
       " 'translate',\n",
       " 'upper',\n",
       " 'zfill']"
      ]
     },
     "execution_count": 232,
     "metadata": {},
     "output_type": "execute_result"
    }
   ],
   "source": [
    "dir(\"foo\")"
   ]
  },
  {
   "cell_type": "code",
   "execution_count": 234,
   "metadata": {
    "collapsed": false
   },
   "outputs": [
    {
     "data": {
      "text/plain": [
       "'Blah blah blah. hahaha.'"
      ]
     },
     "execution_count": 234,
     "metadata": {},
     "output_type": "execute_result"
    }
   ],
   "source": [
    "\"blah blah blah. hahaha.\".capitalize()"
   ]
  },
  {
   "cell_type": "code",
   "execution_count": 235,
   "metadata": {
    "collapsed": false
   },
   "outputs": [
    {
     "data": {
      "text/plain": [
       "'Blah Blah Blah. Hahaha.'"
      ]
     },
     "execution_count": 235,
     "metadata": {},
     "output_type": "execute_result"
    }
   ],
   "source": [
    "\"blah blah blah. hahaha.\".title()"
   ]
  },
  {
   "cell_type": "code",
   "execution_count": 236,
   "metadata": {
    "collapsed": false
   },
   "outputs": [
    {
     "name": "stdout",
     "output_type": "stream",
     "text": [
      "YEAR,GENDER,NAME,COUNT\r\n",
      "2009,MALE,DANIEL,3423\r\n",
      "2009,MALE,ANTHONY,3106\r\n",
      "2009,MALE,ANGEL,3058\r\n",
      "2009,MALE,JACOB,2978\r\n",
      "2009,MALE,ALEXANDER,2905\r\n",
      "2009,MALE,ETHAN,2687\r\n",
      "2009,MALE,DAVID,2648\r\n",
      "2009,MALE,ANDREW,2605\r\n",
      "2009,MALE,MATTHEW,2435\r\n"
     ]
    }
   ],
   "source": [
    "!head Most_Popular_Baby_Names__2009-2013.csv"
   ]
  },
  {
   "cell_type": "code",
   "execution_count": 251,
   "metadata": {
    "collapsed": false
   },
   "outputs": [
    {
     "name": "stdout",
     "output_type": "stream",
     "text": [
      "Number of baby name entries: 295192\n",
      "{'count': 3423, 'gender': 'MALE', 'name': 'DANIEL', 'year': 2009}\n"
     ]
    }
   ],
   "source": [
    "filename = \"Most_Popular_Baby_Names__2009-2013.csv\"\n",
    "\n",
    "def baby_dictionary_from_line(line):\n",
    "    \"\"\"\n",
    "    Given a line of the form 'YEAR,GENDER,NAME,COUNT\\n',\n",
    "    Returns a dictionary of key/value pairs for this line.\n",
    "    Also handles anomalous lines with commas in names. E.g.\n",
    "    '2011,MALE,THOMAS, JR.,1234'\n",
    "    \"\"\"\n",
    "    values = line.strip().split(\",\")\n",
    "    if (len(values) > 4):\n",
    "        name = values[2] + \",\" + values[3]\n",
    "        baby = {\n",
    "            \"year\": int(values[0]),\n",
    "            \"gender\": values[1],\n",
    "            \"name\": name,\n",
    "            \"count\": int(values[-1])\n",
    "        }\n",
    "    else:\n",
    "        baby = {\n",
    "            \"year\": int(values[0]),\n",
    "            \"gender\": values[1],\n",
    "            \"name\": values[2],\n",
    "            \"count\": int(values[3])\n",
    "        }\n",
    "    return baby\n",
    "    \n",
    "def sum_baby_counts(babies):\n",
    "    count = 0\n",
    "    for baby in babies:\n",
    "        count += baby[\"count\"]\n",
    "    return count\n",
    "    \n",
    "with open(filename, \"r\") as f:\n",
    "    # Read the first line because we know it's just column names\n",
    "    columns = f.readline().strip().split(\",\")\n",
    "    \n",
    "    baby_entries = []\n",
    "    for line in f.readlines():\n",
    "        baby_dictionary = baby_dictionary_from_line(line)\n",
    "        baby_entries.append(baby_dictionary)\n",
    "        \n",
    "print \"Number of baby name entries:\", len(baby_entries)\n",
    "print baby_entries[0]"
   ]
  },
  {
   "cell_type": "code",
   "execution_count": 255,
   "metadata": {
    "collapsed": false
   },
   "outputs": [
    {
     "name": "stdout",
     "output_type": "stream",
     "text": [
      "Number of babies in 2011: 508291\n"
     ]
    }
   ],
   "source": [
    "print \"Number of babies in 2011:\", sum_baby_counts(filter_babies(baby_entries,\"year\",2011))"
   ]
  },
  {
   "cell_type": "code",
   "execution_count": 256,
   "metadata": {
    "collapsed": false
   },
   "outputs": [
    {
     "name": "stdout",
     "output_type": "stream",
     "text": [
      "Number of female babies in 2011: 247962\n"
     ]
    }
   ],
   "source": [
    "babies_2011 = filter_babies(baby_entries,\"year\",2011)\n",
    "print \"Number of female babies in 2011:\", sum_baby_counts(\n",
    "        filter_babies(\n",
    "            babies_2011,\n",
    "            \"gender\",\n",
    "            \"FEMALE\"\n",
    "        )\n",
    ")"
   ]
  },
  {
   "cell_type": "code",
   "execution_count": 260,
   "metadata": {
    "collapsed": false
   },
   "outputs": [
    {
     "name": "stdout",
     "output_type": "stream",
     "text": [
      "Number of female babies beginning with 'L': 73858\n"
     ]
    }
   ],
   "source": [
    "female_babies = filter_babies(baby_entries, \"gender\", \"FEMALE\")\n",
    "l_female_babies = []\n",
    "for baby in female_babies:\n",
    "    if baby[\"name\"].startswith(\"L\"):\n",
    "        l_female_babies.append(baby)\n",
    "\n",
    "print \"Number of female babies beginning with 'L':\", sum_baby_counts(l_female_babies)"
   ]
  },
  {
   "cell_type": "code",
   "execution_count": 258,
   "metadata": {
    "collapsed": false
   },
   "outputs": [
    {
     "name": "stdout",
     "output_type": "stream",
     "text": [
      "Total number of babies: 2567982\n"
     ]
    }
   ],
   "source": [
    "print \"Total number of babies:\", sum_baby_counts(baby_entries)"
   ]
  },
  {
   "cell_type": "code",
   "execution_count": 262,
   "metadata": {
    "collapsed": false
   },
   "outputs": [
    {
     "name": "stdout",
     "output_type": "stream",
     "text": [
      "Number of Xenas: 36\n"
     ]
    }
   ],
   "source": [
    "print 'Number of Xenas:', sum_baby_counts(filter_babies(baby_entries, \"name\", \"XENA\"))"
   ]
  },
  {
   "cell_type": "code",
   "execution_count": 241,
   "metadata": {
    "collapsed": false
   },
   "outputs": [
    {
     "data": {
      "text/plain": [
       "[{'count': 3423, 'gender': 'MALE', 'name': 'DANIEL', 'year': 2009}]"
      ]
     },
     "execution_count": 241,
     "metadata": {},
     "output_type": "execute_result"
    }
   ],
   "source": [
    "filter_babies(babies, \"name\",\"DANIEL\")"
   ]
  },
  {
   "cell_type": "code",
   "execution_count": 245,
   "metadata": {
    "collapsed": false
   },
   "outputs": [
    {
     "data": {
      "text/plain": [
       "[{'count': 3368, 'gender': 'MALE', 'name': 'JACOB', 'year': 2010},\n",
       " {'count': 3175, 'gender': 'MALE', 'name': 'DANIEL', 'year': 2010},\n",
       " {'count': 2882, 'gender': 'MALE', 'name': 'ANTHONY', 'year': 2010},\n",
       " {'count': 2619, 'gender': 'MALE', 'name': 'ALEXANDER', 'year': 2010},\n",
       " {'count': 2581, 'gender': 'MALE', 'name': 'ANGEL', 'year': 2010},\n",
       " {'count': 2497, 'gender': 'MALE', 'name': 'ETHAN', 'year': 2010},\n",
       " {'count': 2460, 'gender': 'MALE', 'name': 'JAYDEN', 'year': 2010},\n",
       " {'count': 2442, 'gender': 'MALE', 'name': 'DAVID', 'year': 2010},\n",
       " {'count': 2391, 'gender': 'MALE', 'name': 'ANDREW', 'year': 2010},\n",
       " {'count': 2286, 'gender': 'MALE', 'name': 'NATHAN', 'year': 2010},\n",
       " {'count': 2246, 'gender': 'MALE', 'name': 'MATTHEW', 'year': 2010},\n",
       " {'count': 2154, 'gender': 'MALE', 'name': 'JOSHUA', 'year': 2010},\n",
       " {'count': 2143, 'gender': 'MALE', 'name': 'NOAH', 'year': 2010},\n",
       " {'count': 2122, 'gender': 'MALE', 'name': 'MICHAEL', 'year': 2010},\n",
       " {'count': 2054, 'gender': 'MALE', 'name': 'CHRISTOPHER', 'year': 2010},\n",
       " {'count': 2013, 'gender': 'MALE', 'name': 'JONATHAN', 'year': 2010},\n",
       " {'count': 1985, 'gender': 'MALE', 'name': 'ADRIAN', 'year': 2010},\n",
       " {'count': 1966, 'gender': 'MALE', 'name': 'JOSE', 'year': 2010},\n",
       " {'count': 1953, 'gender': 'MALE', 'name': 'AIDEN', 'year': 2010},\n",
       " {'count': 1922, 'gender': 'MALE', 'name': 'JULIAN', 'year': 2010},\n",
       " {'count': 1870, 'gender': 'MALE', 'name': 'JOSEPH', 'year': 2010},\n",
       " {'count': 1788, 'gender': 'MALE', 'name': 'ISAAC', 'year': 2010},\n",
       " {'count': 1657, 'gender': 'MALE', 'name': 'GABRIEL', 'year': 2010},\n",
       " {'count': 1614, 'gender': 'MALE', 'name': 'CHRISTIAN', 'year': 2010},\n",
       " {'count': 1580, 'gender': 'MALE', 'name': 'BRANDON', 'year': 2010},\n",
       " {'count': 1559, 'gender': 'MALE', 'name': 'WILLIAM', 'year': 2010},\n",
       " {'count': 1553, 'gender': 'MALE', 'name': 'DIEGO', 'year': 2010},\n",
       " {'count': 1533, 'gender': 'MALE', 'name': 'RYAN', 'year': 2010},\n",
       " {'count': 1516, 'gender': 'MALE', 'name': 'DYLAN', 'year': 2010},\n",
       " {'count': 1490, 'gender': 'MALE', 'name': 'BENJAMIN', 'year': 2010},\n",
       " {'count': 1482, 'gender': 'MALE', 'name': 'ELIJAH', 'year': 2010},\n",
       " {'count': 1464, 'gender': 'MALE', 'name': 'LOGAN', 'year': 2010},\n",
       " {'count': 1452, 'gender': 'MALE', 'name': 'SEBASTIAN', 'year': 2010},\n",
       " {'count': 1451, 'gender': 'MALE', 'name': 'AARON', 'year': 2010},\n",
       " {'count': 1401, 'gender': 'MALE', 'name': 'JESUS', 'year': 2010},\n",
       " {'count': 1372, 'gender': 'MALE', 'name': 'KEVIN', 'year': 2010},\n",
       " {'count': 1365, 'gender': 'MALE', 'name': 'ISAIAH', 'year': 2010},\n",
       " {'count': 1327, 'gender': 'MALE', 'name': 'MASON', 'year': 2010},\n",
       " {'count': 1322, 'gender': 'MALE', 'name': 'SAMUEL', 'year': 2010},\n",
       " {'count': 1318, 'gender': 'MALE', 'name': 'JUAN', 'year': 2010},\n",
       " {'count': 1310, 'gender': 'MALE', 'name': 'JAMES', 'year': 2010},\n",
       " {'count': 1274, 'gender': 'MALE', 'name': 'LUIS', 'year': 2010},\n",
       " {'count': 1221, 'gender': 'MALE', 'name': 'NICHOLAS', 'year': 2010},\n",
       " {'count': 1182, 'gender': 'MALE', 'name': 'EVAN', 'year': 2010},\n",
       " {'count': 1144, 'gender': 'MALE', 'name': 'CARLOS', 'year': 2010},\n",
       " {'count': 1122, 'gender': 'MALE', 'name': 'LUCAS', 'year': 2010},\n",
       " {'count': 1080, 'gender': 'MALE', 'name': 'DAMIAN', 'year': 2010},\n",
       " {'count': 1038, 'gender': 'MALE', 'name': 'JUSTIN', 'year': 2010},\n",
       " {'count': 1028, 'gender': 'MALE', 'name': 'LIAM', 'year': 2010},\n",
       " {'count': 999, 'gender': 'MALE', 'name': 'CALEB', 'year': 2010},\n",
       " {'count': 988, 'gender': 'MALE', 'name': 'JASON', 'year': 2010},\n",
       " {'count': 981, 'gender': 'MALE', 'name': 'ALEJANDRO', 'year': 2010},\n",
       " {'count': 976, 'gender': 'MALE', 'name': 'TYLER', 'year': 2010},\n",
       " {'count': 972, 'gender': 'MALE', 'name': 'JOHN', 'year': 2010},\n",
       " {'count': 954, 'gender': 'MALE', 'name': 'MIGUEL', 'year': 2010},\n",
       " {'count': 947, 'gender': 'MALE', 'name': 'JORDAN', 'year': 2010},\n",
       " {'count': 906, 'gender': 'MALE', 'name': 'LUKE', 'year': 2010},\n",
       " {'count': 897, 'gender': 'MALE', 'name': 'JACK', 'year': 2010},\n",
       " {'count': 890, 'gender': 'MALE', 'name': 'GAVIN', 'year': 2010},\n",
       " {'count': 877, 'gender': 'MALE', 'name': 'GIOVANNI', 'year': 2010},\n",
       " {'count': 852, 'gender': 'MALE', 'name': 'ROBERT', 'year': 2010},\n",
       " {'count': 847, 'gender': 'MALE', 'name': 'JACKSON', 'year': 2010},\n",
       " {'count': 842, 'gender': 'MALE', 'name': 'BRYAN', 'year': 2010},\n",
       " {'count': 833, 'gender': 'MALE', 'name': 'XAVIER', 'year': 2010},\n",
       " {'count': 824, 'gender': 'MALE', 'name': 'SANTIAGO', 'year': 2010},\n",
       " {'count': 795, 'gender': 'MALE', 'name': 'IVAN', 'year': 2010},\n",
       " {'count': 783, 'gender': 'MALE', 'name': 'JEREMIAH', 'year': 2010},\n",
       " {'count': 770, 'gender': 'MALE', 'name': 'IAN', 'year': 2010},\n",
       " {'count': 763, 'gender': 'MALE', 'name': 'ADAM', 'year': 2010},\n",
       " {'count': 756, 'gender': 'MALE', 'name': 'NATHANIEL', 'year': 2010},\n",
       " {'count': 753, 'gender': 'MALE', 'name': 'ALEX', 'year': 2010},\n",
       " {'count': 751, 'gender': 'MALE', 'name': 'DOMINIC', 'year': 2010},\n",
       " {'count': 736, 'gender': 'MALE', 'name': 'LANDON', 'year': 2010},\n",
       " {'count': 735, 'gender': 'MALE', 'name': 'EDUARDO', 'year': 2010},\n",
       " {'count': 726, 'gender': 'MALE', 'name': 'JOSIAH', 'year': 2010},\n",
       " {'count': 707, 'gender': 'MALE', 'name': 'LEONARDO', 'year': 2010},\n",
       " {'count': 702, 'gender': 'MALE', 'name': 'VICTOR', 'year': 2010},\n",
       " {'count': 696, 'gender': 'MALE', 'name': 'BRIAN', 'year': 2010},\n",
       " {'count': 678, 'gender': 'MALE', 'name': 'CONNOR', 'year': 2010},\n",
       " {'count': 673, 'gender': 'MALE', 'name': 'JESSE', 'year': 2010},\n",
       " {'count': 673, 'gender': 'MALE', 'name': 'OSCAR', 'year': 2010},\n",
       " {'count': 667, 'gender': 'MALE', 'name': 'JORGE', 'year': 2010},\n",
       " {'count': 663, 'gender': 'MALE', 'name': 'OLIVER', 'year': 2010},\n",
       " {'count': 663, 'gender': 'MALE', 'name': 'ERIC', 'year': 2010},\n",
       " {'count': 662, 'gender': 'MALE', 'name': 'AUSTIN', 'year': 2010},\n",
       " {'count': 654, 'gender': 'MALE', 'name': 'ANDRES', 'year': 2010},\n",
       " {'count': 649, 'gender': 'MALE', 'name': 'WYATT', 'year': 2010},\n",
       " {'count': 648, 'gender': 'MALE', 'name': 'ZACHARY', 'year': 2010},\n",
       " {'count': 648, 'gender': 'MALE', 'name': 'JADEN', 'year': 2010},\n",
       " {'count': 642, 'gender': 'MALE', 'name': 'ELI', 'year': 2010},\n",
       " {'count': 628, 'gender': 'MALE', 'name': 'OWEN', 'year': 2010},\n",
       " {'count': 624, 'gender': 'MALE', 'name': 'FRANCISCO', 'year': 2010},\n",
       " {'count': 623, 'gender': 'MALE', 'name': 'THOMAS', 'year': 2010},\n",
       " {'count': 605, 'gender': 'MALE', 'name': 'ELIAS', 'year': 2010},\n",
       " {'count': 601, 'gender': 'MALE', 'name': 'HENRY', 'year': 2010},\n",
       " {'count': 599, 'gender': 'MALE', 'name': 'FERNANDO', 'year': 2010},\n",
       " {'count': 590, 'gender': 'MALE', 'name': 'ALAN', 'year': 2010},\n",
       " {'count': 583, 'gender': 'MALE', 'name': 'VINCENT', 'year': 2010},\n",
       " {'count': 583, 'gender': 'MALE', 'name': 'STEVEN', 'year': 2010},\n",
       " {'count': 568, 'gender': 'MALE', 'name': 'EMMANUEL', 'year': 2010},\n",
       " {'count': 556, 'gender': 'MALE', 'name': 'CESAR', 'year': 2010},\n",
       " {'count': 550, 'gender': 'MALE', 'name': 'MANUEL', 'year': 2010},\n",
       " {'count': 548, 'gender': 'MALE', 'name': 'RICARDO', 'year': 2010},\n",
       " {'count': 541, 'gender': 'MALE', 'name': 'LEVI', 'year': 2010},\n",
       " {'count': 538, 'gender': 'MALE', 'name': 'AIDAN', 'year': 2010},\n",
       " {'count': 533, 'gender': 'MALE', 'name': 'ANTONIO', 'year': 2010},\n",
       " {'count': 529, 'gender': 'MALE', 'name': 'CHARLES', 'year': 2010},\n",
       " {'count': 528, 'gender': 'MALE', 'name': 'BRAYDEN', 'year': 2010},\n",
       " {'count': 528, 'gender': 'MALE', 'name': 'OMAR', 'year': 2010},\n",
       " {'count': 525, 'gender': 'MALE', 'name': 'AYDEN', 'year': 2010},\n",
       " {'count': 521, 'gender': 'MALE', 'name': 'RICHARD', 'year': 2010},\n",
       " {'count': 514, 'gender': 'MALE', 'name': 'NICOLAS', 'year': 2010},\n",
       " {'count': 509, 'gender': 'MALE', 'name': 'MAX', 'year': 2010},\n",
       " {'count': 499, 'gender': 'MALE', 'name': 'JOSUE', 'year': 2010},\n",
       " {'count': 496, 'gender': 'MALE', 'name': 'JAKE', 'year': 2010},\n",
       " {'count': 496, 'gender': 'MALE', 'name': 'ERICK', 'year': 2010},\n",
       " {'count': 493, 'gender': 'MALE', 'name': 'JOEL', 'year': 2010},\n",
       " {'count': 492, 'gender': 'MALE', 'name': 'EMILIANO', 'year': 2010},\n",
       " {'count': 485, 'gender': 'MALE', 'name': 'EDGAR', 'year': 2010},\n",
       " {'count': 483, 'gender': 'MALE', 'name': 'ABRAHAM', 'year': 2010},\n",
       " {'count': 479, 'gender': 'MALE', 'name': 'JAVIER', 'year': 2010},\n",
       " {'count': 473, 'gender': 'MALE', 'name': 'MATEO', 'year': 2010},\n",
       " {'count': 469, 'gender': 'MALE', 'name': 'TRISTAN', 'year': 2010},\n",
       " {'count': 463, 'gender': 'MALE', 'name': 'CHASE', 'year': 2010},\n",
       " {'count': 463, 'gender': 'MALE', 'name': 'CAMERON', 'year': 2010},\n",
       " {'count': 461, 'gender': 'MALE', 'name': 'HUNTER', 'year': 2010},\n",
       " {'count': 458, 'gender': 'MALE', 'name': 'SEAN', 'year': 2010},\n",
       " {'count': 447, 'gender': 'MALE', 'name': 'RYDER', 'year': 2010},\n",
       " {'count': 446, 'gender': 'MALE', 'name': 'CRISTIAN', 'year': 2010},\n",
       " {'count': 443, 'gender': 'MALE', 'name': 'EDWARD', 'year': 2010},\n",
       " {'count': 430, 'gender': 'MALE', 'name': 'SERGIO', 'year': 2010},\n",
       " {'count': 427, 'gender': 'MALE', 'name': 'KYLE', 'year': 2010},\n",
       " {'count': 423, 'gender': 'MALE', 'name': 'JEREMY', 'year': 2010},\n",
       " {'count': 420, 'gender': 'MALE', 'name': 'AXEL', 'year': 2010},\n",
       " {'count': 420, 'gender': 'MALE', 'name': 'CARTER', 'year': 2010},\n",
       " {'count': 415, 'gender': 'MALE', 'name': 'MARIO', 'year': 2010},\n",
       " {'count': 412, 'gender': 'MALE', 'name': 'ROMAN', 'year': 2010},\n",
       " {'count': 406, 'gender': 'MALE', 'name': 'BLAKE', 'year': 2010},\n",
       " {'count': 404, 'gender': 'MALE', 'name': 'ANDY', 'year': 2010},\n",
       " {'count': 403, 'gender': 'MALE', 'name': 'HECTOR', 'year': 2010},\n",
       " {'count': 394, 'gender': 'MALE', 'name': 'DEREK', 'year': 2010},\n",
       " {'count': 389, 'gender': 'MALE', 'name': 'KAI', 'year': 2010},\n",
       " {'count': 388, 'gender': 'MALE', 'name': 'BRODY', 'year': 2010},\n",
       " {'count': 387, 'gender': 'MALE', 'name': 'COLE', 'year': 2010},\n",
       " {'count': 379, 'gender': 'MALE', 'name': 'ALEXIS', 'year': 2010},\n",
       " {'count': 374, 'gender': 'MALE', 'name': 'DEVIN', 'year': 2010},\n",
       " {'count': 370, 'gender': 'MALE', 'name': 'MARCUS', 'year': 2010},\n",
       " {'count': 364, 'gender': 'MALE', 'name': 'RAFAEL', 'year': 2010},\n",
       " {'count': 360, 'gender': 'MALE', 'name': 'MICAH', 'year': 2010},\n",
       " {'count': 355, 'gender': 'MALE', 'name': 'RUBEN', 'year': 2010},\n",
       " {'count': 352, 'gender': 'MALE', 'name': 'ROBERTO', 'year': 2010},\n",
       " {'count': 344, 'gender': 'MALE', 'name': 'EZEKIEL', 'year': 2010},\n",
       " {'count': 339, 'gender': 'MALE', 'name': 'ISRAEL', 'year': 2010},\n",
       " {'count': 335, 'gender': 'MALE', 'name': 'RAYMOND', 'year': 2010},\n",
       " {'count': 333, 'gender': 'MALE', 'name': 'RILEY', 'year': 2010},\n",
       " {'count': 332, 'gender': 'MALE', 'name': 'PARKER', 'year': 2010},\n",
       " {'count': 327, 'gender': 'MALE', 'name': 'JOHNNY', 'year': 2010},\n",
       " {'count': 326, 'gender': 'MALE', 'name': 'TIMOTHY', 'year': 2010},\n",
       " {'count': 322, 'gender': 'MALE', 'name': 'NOLAN', 'year': 2010},\n",
       " {'count': 320, 'gender': 'MALE', 'name': 'EDWIN', 'year': 2010},\n",
       " {'count': 315, 'gender': 'MALE', 'name': 'DAMIEN', 'year': 2010},\n",
       " {'count': 314, 'gender': 'MALE', 'name': 'JOAQUIN', 'year': 2010},\n",
       " {'count': 313, 'gender': 'MALE', 'name': 'MILES', 'year': 2010},\n",
       " {'count': 313, 'gender': 'MALE', 'name': 'ARMANDO', 'year': 2010},\n",
       " {'count': 312, 'gender': 'MALE', 'name': 'FABIAN', 'year': 2010},\n",
       " {'count': 310, 'gender': 'MALE', 'name': 'ERIK', 'year': 2010},\n",
       " {'count': 310, 'gender': 'MALE', 'name': 'MARCO', 'year': 2010},\n",
       " {'count': 308, 'gender': 'MALE', 'name': 'MARK', 'year': 2010},\n",
       " {'count': 308, 'gender': 'MALE', 'name': 'MARTIN', 'year': 2010},\n",
       " {'count': 307, 'gender': 'MALE', 'name': 'JONAH', 'year': 2010},\n",
       " {'count': 306, 'gender': 'MALE', 'name': 'COLTON', 'year': 2010},\n",
       " {'count': 306, 'gender': 'MALE', 'name': 'COOPER', 'year': 2010},\n",
       " {'count': 301, 'gender': 'MALE', 'name': 'MAXWELL', 'year': 2010},\n",
       " {'count': 300, 'gender': 'MALE', 'name': 'EMILIO', 'year': 2010},\n",
       " {'count': 299, 'gender': 'MALE', 'name': 'PEDRO', 'year': 2010},\n",
       " {'count': 298, 'gender': 'MALE', 'name': 'LEO', 'year': 2010},\n",
       " {'count': 298, 'gender': 'MALE', 'name': 'CARSON', 'year': 2010},\n",
       " {'count': 296, 'gender': 'MALE', 'name': 'ANDRE', 'year': 2010},\n",
       " {'count': 293, 'gender': 'MALE', 'name': 'ABEL', 'year': 2010},\n",
       " {'count': 293, 'gender': 'MALE', 'name': 'GEORGE', 'year': 2010},\n",
       " {'count': 293, 'gender': 'MALE', 'name': 'TRAVIS', 'year': 2010},\n",
       " {'count': 290, 'gender': 'MALE', 'name': 'ADAN', 'year': 2010},\n",
       " {'count': 285, 'gender': 'MALE', 'name': 'KENNETH', 'year': 2010},\n",
       " {'count': 283, 'gender': 'MALE', 'name': 'GERARDO', 'year': 2010},\n",
       " {'count': 281, 'gender': 'MALE', 'name': 'CODY', 'year': 2010},\n",
       " {'count': 281, 'gender': 'MALE', 'name': 'KADEN', 'year': 2010},\n",
       " {'count': 278, 'gender': 'MALE', 'name': 'PRESTON', 'year': 2010},\n",
       " {'count': 277, 'gender': 'MALE', 'name': 'PATRICK', 'year': 2010},\n",
       " {'count': 276, 'gender': 'MALE', 'name': 'COLIN', 'year': 2010},\n",
       " {'count': 273, 'gender': 'MALE', 'name': 'BRYCE', 'year': 2010},\n",
       " {'count': 272, 'gender': 'MALE', 'name': 'PAUL', 'year': 2010},\n",
       " {'count': 266, 'gender': 'MALE', 'name': 'CADEN', 'year': 2010},\n",
       " {'count': 263, 'gender': 'MALE', 'name': 'ASHER', 'year': 2010},\n",
       " {'count': 255, 'gender': 'MALE', 'name': 'HUDSON', 'year': 2010},\n",
       " {'count': 255, 'gender': 'MALE', 'name': 'KALEB', 'year': 2010},\n",
       " {'count': 255, 'gender': 'MALE', 'name': 'SETH', 'year': 2010},\n",
       " {'count': 254, 'gender': 'MALE', 'name': 'RAUL', 'year': 2010},\n",
       " {'count': 254, 'gender': 'MALE', 'name': 'HAYDEN', 'year': 2010},\n",
       " {'count': 251, 'gender': 'MALE', 'name': 'EMANUEL', 'year': 2010},\n",
       " {'count': 251, 'gender': 'MALE', 'name': 'ISMAEL', 'year': 2010},\n",
       " {'count': 249, 'gender': 'MALE', 'name': 'MARCOS', 'year': 2010},\n",
       " {'count': 248, 'gender': 'MALE', 'name': 'JAXON', 'year': 2010},\n",
       " {'count': 247, 'gender': 'MALE', 'name': 'JARED', 'year': 2010},\n",
       " {'count': 246, 'gender': 'MALE', 'name': 'ANGELO', 'year': 2010},\n",
       " {'count': 244, 'gender': 'MALE', 'name': 'DONOVAN', 'year': 2010},\n",
       " {'count': 243, 'gender': 'MALE', 'name': 'KAYDEN', 'year': 2010},\n",
       " {'count': 242, 'gender': 'MALE', 'name': 'JULIO', 'year': 2010},\n",
       " {'count': 242, 'gender': 'MALE', 'name': 'ESTEBAN', 'year': 2010},\n",
       " {'count': 240, 'gender': 'MALE', 'name': 'MAXIMUS', 'year': 2010},\n",
       " {'count': 233, 'gender': 'MALE', 'name': 'JUDE', 'year': 2010},\n",
       " {'count': 232, 'gender': 'MALE', 'name': 'JAIME', 'year': 2010},\n",
       " {'count': 232, 'gender': 'MALE', 'name': 'ENRIQUE', 'year': 2010},\n",
       " {'count': 231, 'gender': 'MALE', 'name': 'PABLO', 'year': 2010},\n",
       " {'count': 228, 'gender': 'MALE', 'name': 'JAIDEN', 'year': 2010},\n",
       " {'count': 227, 'gender': 'MALE', 'name': 'SALVADOR', 'year': 2010},\n",
       " {'count': 226, 'gender': 'MALE', 'name': 'SAUL', 'year': 2010},\n",
       " {'count': 226, 'gender': 'MALE', 'name': 'BRADY', 'year': 2010},\n",
       " {'count': 225, 'gender': 'MALE', 'name': 'EZRA', 'year': 2010},\n",
       " {'count': 225, 'gender': 'MALE', 'name': 'TREVOR', 'year': 2010},\n",
       " {'count': 220, 'gender': 'MALE', 'name': 'ASHTON', 'year': 2010},\n",
       " {'count': 220, 'gender': 'MALE', 'name': 'PETER', 'year': 2010},\n",
       " {'count': 219, 'gender': 'MALE', 'name': 'SHANE', 'year': 2010},\n",
       " {'count': 218, 'gender': 'MALE', 'name': 'BRADLEY', 'year': 2010},\n",
       " {'count': 218, 'gender': 'MALE', 'name': 'GUSTAVO', 'year': 2010},\n",
       " {'count': 217, 'gender': 'MALE', 'name': 'ARTURO', 'year': 2010},\n",
       " {'count': 217, 'gender': 'MALE', 'name': 'DANNY', 'year': 2010},\n",
       " {'count': 213, 'gender': 'MALE', 'name': 'MOISES', 'year': 2010},\n",
       " {'count': 212, 'gender': 'MALE', 'name': 'CASH', 'year': 2010},\n",
       " {'count': 211, 'gender': 'MALE', 'name': 'GRANT', 'year': 2010},\n",
       " {'count': 211, 'gender': 'MALE', 'name': 'RODRIGO', 'year': 2010},\n",
       " {'count': 208, 'gender': 'MALE', 'name': 'FRANK', 'year': 2010},\n",
       " {'count': 204, 'gender': 'MALE', 'name': 'CHARLIE', 'year': 2010},\n",
       " {'count': 201, 'gender': 'MALE', 'name': 'KINGSTON', 'year': 2010},\n",
       " {'count': 200, 'gender': 'MALE', 'name': 'ALBERTO', 'year': 2010},\n",
       " {'count': 191, 'gender': 'MALE', 'name': 'CRUZ', 'year': 2010},\n",
       " {'count': 191, 'gender': 'MALE', 'name': 'JACE', 'year': 2010},\n",
       " {'count': 190, 'gender': 'MALE', 'name': 'ERNESTO', 'year': 2010},\n",
       " {'count': 189, 'gender': 'MALE', 'name': 'CONNER', 'year': 2010},\n",
       " {'count': 189, 'gender': 'MALE', 'name': 'JEFFREY', 'year': 2010},\n",
       " {'count': 187, 'gender': 'MALE', 'name': 'MAXIMILIANO', 'year': 2010},\n",
       " {'count': 185, 'gender': 'MALE', 'name': 'DEAN', 'year': 2010},\n",
       " {'count': 184, 'gender': 'MALE', 'name': 'DRAKE', 'year': 2010},\n",
       " {'count': 184, 'gender': 'MALE', 'name': 'LORENZO', 'year': 2010},\n",
       " {'count': 184, 'gender': 'MALE', 'name': 'JOHNATHAN', 'year': 2010},\n",
       " {'count': 183, 'gender': 'MALE', 'name': 'ALFREDO', 'year': 2010},\n",
       " {'count': 182, 'gender': 'MALE', 'name': 'GAEL', 'year': 2010},\n",
       " {'count': 181, 'gender': 'MALE', 'name': 'COLLIN', 'year': 2010},\n",
       " {'count': 181, 'gender': 'MALE', 'name': 'GRAYSON', 'year': 2010},\n",
       " {'count': 180, 'gender': 'MALE', 'name': 'HUGO', 'year': 2010},\n",
       " {'count': 180, 'gender': 'MALE', 'name': 'LUCA', 'year': 2010},\n",
       " {'count': 178, 'gender': 'MALE', 'name': 'MATTEO', 'year': 2010},\n",
       " {'count': 177, 'gender': 'MALE', 'name': 'FELIX', 'year': 2010},\n",
       " {'count': 177, 'gender': 'MALE', 'name': 'WESLEY', 'year': 2010},\n",
       " {'count': 174, 'gender': 'MALE', 'name': 'MADDOX', 'year': 2010},\n",
       " {'count': 173, 'gender': 'MALE', 'name': 'DOMINICK', 'year': 2010},\n",
       " {'count': 171, 'gender': 'MALE', 'name': 'TROY', 'year': 2010},\n",
       " {'count': 167, 'gender': 'MALE', 'name': 'ADEN', 'year': 2010},\n",
       " {'count': 166, 'gender': 'MALE', 'name': 'ALLEN', 'year': 2010},\n",
       " {'count': 166, 'gender': 'MALE', 'name': 'DANTE', 'year': 2010},\n",
       " {'count': 165, 'gender': 'MALE', 'name': 'JIMMY', 'year': 2010},\n",
       " {'count': 163, 'gender': 'MALE', 'name': 'GAGE', 'year': 2010},\n",
       " {'count': 163, 'gender': 'MALE', 'name': 'ISSAC', 'year': 2010},\n",
       " {'count': 161, 'gender': 'MALE', 'name': 'LEONEL', 'year': 2010},\n",
       " {'count': 160, 'gender': 'MALE', 'name': 'LINCOLN', 'year': 2010},\n",
       " {'count': 159, 'gender': 'MALE', 'name': 'MALACHI', 'year': 2010},\n",
       " {'count': 158, 'gender': 'MALE', 'name': 'LUKAS', 'year': 2010},\n",
       " {'count': 158, 'gender': 'MALE', 'name': 'SAWYER', 'year': 2010},\n",
       " {'count': 156, 'gender': 'MALE', 'name': 'THEODORE', 'year': 2010},\n",
       " {'count': 155, 'gender': 'MALE', 'name': 'ROMEO', 'year': 2010},\n",
       " {'count': 155, 'gender': 'MALE', 'name': 'MATHEW', 'year': 2010},\n",
       " {'count': 154, 'gender': 'MALE', 'name': 'NOE', 'year': 2010},\n",
       " {'count': 153, 'gender': 'MALE', 'name': 'ARTHUR', 'year': 2010},\n",
       " {'count': 153, 'gender': 'MALE', 'name': 'BRYSON', 'year': 2010},\n",
       " {'count': 153, 'gender': 'MALE', 'name': 'TANNER', 'year': 2010},\n",
       " {'count': 152, 'gender': 'MALE', 'name': 'STEPHEN', 'year': 2010},\n",
       " {'count': 151, 'gender': 'MALE', 'name': 'BENTLEY', 'year': 2010},\n",
       " {'count': 150, 'gender': 'MALE', 'name': 'ISAIAS', 'year': 2010},\n",
       " {'count': 148, 'gender': 'MALE', 'name': 'RAMON', 'year': 2010},\n",
       " {'count': 147, 'gender': 'MALE', 'name': 'ULISES', 'year': 2010},\n",
       " {'count': 146, 'gender': 'MALE', 'name': 'JAKOB', 'year': 2010},\n",
       " {'count': 146, 'gender': 'MALE', 'name': 'BRAYAN', 'year': 2010},\n",
       " {'count': 146, 'gender': 'MALE', 'name': 'CALVIN', 'year': 2010},\n",
       " {'count': 145, 'gender': 'MALE', 'name': 'JAXSON', 'year': 2010},\n",
       " {'count': 145, 'gender': 'MALE', 'name': 'URIEL', 'year': 2010},\n",
       " {'count': 144, 'gender': 'MALE', 'name': 'MAURICIO', 'year': 2010},\n",
       " {'count': 143, 'gender': 'MALE', 'name': 'CAYDEN', 'year': 2010},\n",
       " {'count': 143, 'gender': 'MALE', 'name': 'SHAWN', 'year': 2010},\n",
       " {'count': 142, 'gender': 'MALE', 'name': 'SILAS', 'year': 2010},\n",
       " {'count': 140, 'gender': 'MALE', 'name': 'RANDY', 'year': 2010},\n",
       " {'count': 138, 'gender': 'MALE', 'name': 'SIMON', 'year': 2010},\n",
       " {'count': 138, 'gender': 'MALE', 'name': 'RYLAN', 'year': 2010},\n",
       " {'count': 136, 'gender': 'MALE', 'name': 'ALBERT', 'year': 2010},\n",
       " {'count': 136, 'gender': 'MALE', 'name': 'BRENDAN', 'year': 2010},\n",
       " {'count': 136, 'gender': 'MALE', 'name': 'ELLIOT', 'year': 2010},\n",
       " {'count': 135, 'gender': 'MALE', 'name': 'BRADEN', 'year': 2010},\n",
       " {'count': 135, 'gender': 'MALE', 'name': 'JASPER', 'year': 2010},\n",
       " {'count': 133, 'gender': 'MALE', 'name': 'ALONSO', 'year': 2010},\n",
       " {'count': 133, 'gender': 'MALE', 'name': 'IZAIAH', 'year': 2010},\n",
       " {'count': 133, 'gender': 'MALE', 'name': 'ZANE', 'year': 2010},\n",
       " {'count': 132, 'gender': 'MALE', 'name': 'SKYLER', 'year': 2010},\n",
       " {'count': 132, 'gender': 'MALE', 'name': 'ENZO', 'year': 2010},\n",
       " {'count': 132, 'gender': 'MALE', 'name': 'DECLAN', 'year': 2010},\n",
       " {'count': 131, 'gender': 'MALE', 'name': 'KAIDEN', 'year': 2010},\n",
       " {'count': 130, 'gender': 'MALE', 'name': 'SPENCER', 'year': 2010},\n",
       " {'count': 129, 'gender': 'MALE', 'name': 'YAHIR', 'year': 2010},\n",
       " {'count': 128, 'gender': 'MALE', 'name': 'JAYSON', 'year': 2010},\n",
       " {'count': 128, 'gender': 'MALE', 'name': 'PEYTON', 'year': 2010},\n",
       " {'count': 128, 'gender': 'MALE', 'name': 'JAYLEN', 'year': 2010},\n",
       " {'count': 128, 'gender': 'MALE', 'name': 'NOEL', 'year': 2010},\n",
       " {'count': 128, 'gender': 'MALE', 'name': 'EVERETT', 'year': 2010},\n",
       " {'count': 127, 'gender': 'MALE', 'name': 'DARREN', 'year': 2010},\n",
       " {'count': 127, 'gender': 'MALE', 'name': 'JUDAH', 'year': 2010},\n",
       " {'count': 127, 'gender': 'MALE', 'name': 'TYSON', 'year': 2010},\n",
       " {'count': 123, 'gender': 'MALE', 'name': 'ZION', 'year': 2010},\n",
       " {'count': 123, 'gender': 'MALE', 'name': 'MYLES', 'year': 2010},\n",
       " {'count': 123, 'gender': 'MALE', 'name': 'ALDO', 'year': 2010},\n",
       " {'count': 123, 'gender': 'MALE', 'name': 'EDDIE', 'year': 2010},\n",
       " {'count': 123, 'gender': 'MALE', 'name': 'FINN', 'year': 2010},\n",
       " {'count': 121, 'gender': 'MALE', 'name': 'GUILLERMO', 'year': 2010},\n",
       " {'count': 120, 'gender': 'MALE', 'name': 'GIOVANI', 'year': 2010},\n",
       " {'count': 119, 'gender': 'MALE', 'name': 'PHILLIP', 'year': 2010},\n",
       " {'count': 118, 'gender': 'MALE', 'name': 'JAMESON', 'year': 2010},\n",
       " {'count': 118, 'gender': 'MALE', 'name': 'DESMOND', 'year': 2010},\n",
       " {'count': 117, 'gender': 'MALE', 'name': 'AMIR', 'year': 2010},\n",
       " {'count': 117, 'gender': 'MALE', 'name': 'JERRY', 'year': 2010},\n",
       " {'count': 117, 'gender': 'MALE', 'name': 'NEHEMIAH', 'year': 2010},\n",
       " {'count': 116, 'gender': 'MALE', 'name': 'ORLANDO', 'year': 2010},\n",
       " {'count': 115, 'gender': 'MALE', 'name': 'QUINN', 'year': 2010},\n",
       " {'count': 115, 'gender': 'MALE', 'name': 'GARRETT', 'year': 2010},\n",
       " {'count': 115, 'gender': 'MALE', 'name': 'ALVIN', 'year': 2010},\n",
       " {'count': 115, 'gender': 'MALE', 'name': 'WESTON', 'year': 2010},\n",
       " {'count': 115, 'gender': 'MALE', 'name': 'XANDER', 'year': 2010},\n",
       " {'count': 114, 'gender': 'MALE', 'name': 'GIOVANNY', 'year': 2010},\n",
       " {'count': 114, 'gender': 'MALE', 'name': 'LARRY', 'year': 2010},\n",
       " {'count': 114, 'gender': 'MALE', 'name': 'LEON', 'year': 2010},\n",
       " {'count': 114, 'gender': 'MALE', 'name': 'JOHAN', 'year': 2010},\n",
       " {'count': 113, 'gender': 'MALE', 'name': 'JAY', 'year': 2010},\n",
       " {'count': 113, 'gender': 'MALE', 'name': 'BRYANT', 'year': 2010},\n",
       " {'count': 113, 'gender': 'MALE', 'name': 'CHRIS', 'year': 2010},\n",
       " {'count': 111, 'gender': 'MALE', 'name': 'DREW', 'year': 2010},\n",
       " {'count': 111, 'gender': 'MALE', 'name': 'JULIUS', 'year': 2010},\n",
       " {'count': 110, 'gender': 'MALE', 'name': 'JAX', 'year': 2010},\n",
       " {'count': 110, 'gender': 'MALE', 'name': 'LOUIS', 'year': 2010},\n",
       " {'count': 110, 'gender': 'MALE', 'name': 'GREGORY', 'year': 2010},\n",
       " {'count': 110, 'gender': 'MALE', 'name': 'ADRIEL', 'year': 2010},\n",
       " {'count': 109, 'gender': 'MALE', 'name': 'DUSTIN', 'year': 2010},\n",
       " {'count': 108, 'gender': 'MALE', 'name': 'ELLIOTT', 'year': 2010},\n",
       " {'count': 108, 'gender': 'MALE', 'name': 'MARVIN', 'year': 2010},\n",
       " {'count': 107, 'gender': 'MALE', 'name': 'MAXIMILIAN', 'year': 2010},\n",
       " {'count': 106, 'gender': 'MALE', 'name': 'HARRISON', 'year': 2010},\n",
       " {'count': 105, 'gender': 'MALE', 'name': 'ALFONSO', 'year': 2010},\n",
       " {'count': 105, 'gender': 'MALE', 'name': 'GRIFFIN', 'year': 2010},\n",
       " {'count': 105, 'gender': 'MALE', 'name': 'EMMETT', 'year': 2010},\n",
       " {'count': 105, 'gender': 'MALE', 'name': 'DILLON', 'year': 2010},\n",
       " {'count': 105, 'gender': 'MALE', 'name': 'CRISTOPHER', 'year': 2010},\n",
       " {'count': 105, 'gender': 'MALE', 'name': 'TONY', 'year': 2010},\n",
       " {'count': 104, 'gender': 'MALE', 'name': 'RUDY', 'year': 2010},\n",
       " {'count': 103, 'gender': 'MALE', 'name': 'CYRUS', 'year': 2010},\n",
       " {'count': 103, 'gender': 'MALE', 'name': 'NIKOLAS', 'year': 2010},\n",
       " {'count': 102, 'gender': 'MALE', 'name': 'JOEY', 'year': 2010},\n",
       " {'count': 102, 'gender': 'MALE', 'name': 'MILO', 'year': 2010},\n",
       " {'count': 102, 'gender': 'MALE', 'name': 'RICKY', 'year': 2010},\n",
       " {'count': 101, 'gender': 'MALE', 'name': 'PHOENIX', 'year': 2010},\n",
       " {'count': 101, 'gender': 'MALE', 'name': 'JAIRO', 'year': 2010},\n",
       " {'count': 101, 'gender': 'MALE', 'name': 'EASTON', 'year': 2010},\n",
       " {'count': 101, 'gender': 'MALE', 'name': 'ROWAN', 'year': 2010},\n",
       " {'count': 99, 'gender': 'MALE', 'name': 'EZEQUIEL', 'year': 2010},\n",
       " {'count': 99, 'gender': 'MALE', 'name': 'ALONZO', 'year': 2010},\n",
       " {'count': 98, 'gender': 'MALE', 'name': 'DEVON', 'year': 2010},\n",
       " {'count': 98, 'gender': 'MALE', 'name': 'ROCCO', 'year': 2010},\n",
       " {'count': 98, 'gender': 'MALE', 'name': 'TY', 'year': 2010},\n",
       " {'count': 97, 'gender': 'MALE', 'name': 'ROHAN', 'year': 2010},\n",
       " {'count': 97, 'gender': 'MALE', 'name': 'JOE', 'year': 2010},\n",
       " {'count': 96, 'gender': 'MALE', 'name': 'JETT', 'year': 2010},\n",
       " {'count': 96, 'gender': 'MALE', 'name': 'JESSIE', 'year': 2010},\n",
       " {'count': 96, 'gender': 'MALE', 'name': 'RENE', 'year': 2010},\n",
       " {'count': 96, 'gender': 'MALE', 'name': 'AVERY', 'year': 2010},\n",
       " {'count': 95, 'gender': 'MALE', 'name': 'RONALD', 'year': 2010},\n",
       " {'count': 94, 'gender': 'MALE', 'name': 'SANTINO', 'year': 2010},\n",
       " {'count': 94, 'gender': 'MALE', 'name': 'BENNETT', 'year': 2010},\n",
       " {'count': 93, 'gender': 'MALE', 'name': 'FELIPE', 'year': 2010},\n",
       " {'count': 93, 'gender': 'MALE', 'name': 'VICENTE', 'year': 2010},\n",
       " {'count': 93, 'gender': 'MALE', 'name': 'ROGELIO', 'year': 2010},\n",
       " {'count': 92, 'gender': 'MALE', 'name': 'CHANCE', 'year': 2010},\n",
       " {'count': 92, 'gender': 'MALE', 'name': 'ALLAN', 'year': 2010},\n",
       " {'count': 91, 'gender': 'MALE', 'name': 'ANDERSON', 'year': 2010},\n",
       " {'count': 91, 'gender': 'MALE', 'name': 'CLAYTON', 'year': 2010},\n",
       " {'count': 91, 'gender': 'MALE', 'name': 'ALI', 'year': 2010},\n",
       " {'count': 91, 'gender': 'MALE', 'name': 'LANDEN', 'year': 2010},\n",
       " {'count': 90, 'gender': 'MALE', 'name': 'REID', 'year': 2010},\n",
       " {'count': 90, 'gender': 'MALE', 'name': 'OSVALDO', 'year': 2010},\n",
       " {'count': 90, 'gender': 'MALE', 'name': 'GILBERT', 'year': 2010},\n",
       " {'count': 90, 'gender': 'MALE', 'name': 'TAYLOR', 'year': 2010},\n",
       " {'count': 90, 'gender': 'MALE', 'name': 'WALTER', 'year': 2010},\n",
       " {'count': 88, 'gender': 'MALE', 'name': 'GREYSON', 'year': 2010},\n",
       " {'count': 88, 'gender': 'MALE', 'name': 'ORION', 'year': 2010},\n",
       " {'count': 87, 'gender': 'MALE', 'name': 'IKER', 'year': 2010},\n",
       " {'count': 87, 'gender': 'MALE', 'name': 'RUSSELL', 'year': 2010},\n",
       " {'count': 87, 'gender': 'MALE', 'name': 'SCOTT', 'year': 2010},\n",
       " {'count': 86, 'gender': 'MALE', 'name': 'RODOLFO', 'year': 2010},\n",
       " {'count': 86, 'gender': 'MALE', 'name': 'PHILIP', 'year': 2010},\n",
       " {'count': 84, 'gender': 'MALE', 'name': 'KOBE', 'year': 2010},\n",
       " {'count': 84, 'gender': 'MALE', 'name': 'MOSES', 'year': 2010},\n",
       " {'count': 84, 'gender': 'MALE', 'name': 'ALEC', 'year': 2010},\n",
       " {'count': 84, 'gender': 'MALE', 'name': 'EFRAIN', 'year': 2010},\n",
       " {'count': 84, 'gender': 'MALE', 'name': 'TRENT', 'year': 2010},\n",
       " {'count': 84, 'gender': 'MALE', 'name': 'ZACKARY', 'year': 2010},\n",
       " {'count': 83, 'gender': 'MALE', 'name': 'AARAV', 'year': 2010},\n",
       " {'count': 83, 'gender': 'MALE', 'name': 'ALVARO', 'year': 2010},\n",
       " {'count': 83, 'gender': 'MALE', 'name': 'LAWRENCE', 'year': 2010},\n",
       " {'count': 82, 'gender': 'MALE', 'name': 'NICKOLAS', 'year': 2010},\n",
       " {'count': 82, 'gender': 'MALE', 'name': 'RAMIRO', 'year': 2010},\n",
       " {'count': 82, 'gender': 'MALE', 'name': 'DARIUS', 'year': 2010},\n",
       " {'count': 82, 'gender': 'MALE', 'name': 'DANE', 'year': 2010},\n",
       " {'count': 81, 'gender': 'MALE', 'name': 'DERRICK', 'year': 2010},\n",
       " {'count': 81, 'gender': 'MALE', 'name': 'ARJUN', 'year': 2010},\n",
       " {'count': 81, 'gender': 'MALE', 'name': 'DALLAS', 'year': 2010},\n",
       " {'count': 81, 'gender': 'MALE', 'name': 'STEVE', 'year': 2010},\n",
       " {'count': 81, 'gender': 'MALE', 'name': 'ZANDER', 'year': 2010},\n",
       " {'count': 80, 'gender': 'MALE', 'name': 'TRENTON', 'year': 2010},\n",
       " {'count': 80, 'gender': 'MALE', 'name': 'ROGER', 'year': 2010},\n",
       " {'count': 77, 'gender': 'MALE', 'name': 'SAM', 'year': 2010},\n",
       " {'count': 77, 'gender': 'MALE', 'name': 'KEITH', 'year': 2010},\n",
       " {'count': 77, 'gender': 'MALE', 'name': 'NICO', 'year': 2010},\n",
       " {'count': 76, 'gender': 'MALE', 'name': 'KING', 'year': 2010},\n",
       " {'count': 76, 'gender': 'MALE', 'name': 'BYRON', 'year': 2010},\n",
       " {'count': 76, 'gender': 'MALE', 'name': 'BECKETT', 'year': 2010},\n",
       " {'count': 76, 'gender': 'MALE', 'name': 'TUCKER', 'year': 2010},\n",
       " {'count': 75, 'gender': 'MALE', 'name': 'XAVI', 'year': 2010},\n",
       " {'count': 75, 'gender': 'MALE', 'name': 'COLBY', 'year': 2010},\n",
       " {'count': 75, 'gender': 'MALE', 'name': 'CADE', 'year': 2010},\n",
       " {'count': 75, 'gender': 'MALE', 'name': 'MALIK', 'year': 2010},\n",
       " {'count': 75, 'gender': 'MALE', 'name': 'JULIEN', 'year': 2010},\n",
       " {'count': 74, 'gender': 'MALE', 'name': 'KYLER', 'year': 2010},\n",
       " {'count': 74, 'gender': 'MALE', 'name': 'FRANKIE', 'year': 2010},\n",
       " {'count': 74, 'gender': 'MALE', 'name': 'VALENTINO', 'year': 2010},\n",
       " {'count': 73, 'gender': 'MALE', 'name': 'COREY', 'year': 2010},\n",
       " {'count': 73, 'gender': 'MALE', 'name': 'FREDDY', 'year': 2010},\n",
       " {'count': 72, 'gender': 'MALE', 'name': 'AGUSTIN', 'year': 2010},\n",
       " {'count': 72, 'gender': 'MALE', 'name': 'ALESSANDRO', 'year': 2010},\n",
       " {'count': 72, 'gender': 'MALE', 'name': 'DEXTER', 'year': 2010},\n",
       " {'count': 72, 'gender': 'MALE', 'name': 'BRANDEN', 'year': 2010},\n",
       " {'count': 72, 'gender': 'MALE', 'name': 'RIVER', 'year': 2010},\n",
       " {'count': 72, 'gender': 'MALE', 'name': 'TOMAS', 'year': 2010},\n",
       " {'count': 72, 'gender': 'MALE', 'name': 'RONAN', 'year': 2010},\n",
       " {'count': 71, 'gender': 'MALE', 'name': 'CAIDEN', 'year': 2010},\n",
       " {'count': 70, 'gender': 'MALE', 'name': 'AUGUST', 'year': 2010},\n",
       " {'count': 70, 'gender': 'MALE', 'name': 'PAXTON', 'year': 2010},\n",
       " {'count': 70, 'gender': 'MALE', 'name': 'KIAN', 'year': 2010},\n",
       " {'count': 70, 'gender': 'MALE', 'name': 'MISAEL', 'year': 2010},\n",
       " {'count': 70, 'gender': 'MALE', 'name': 'VALENTIN', 'year': 2010},\n",
       " {'count': 69, 'gender': 'MALE', 'name': 'ZAYDEN', 'year': 2010},\n",
       " {'count': 69, 'gender': 'MALE', 'name': 'GIANCARLO', 'year': 2010},\n",
       " {'count': 69, 'gender': 'MALE', 'name': 'DAMON', 'year': 2010},\n",
       " {'count': 68, 'gender': 'MALE', 'name': 'CASEY', 'year': 2010},\n",
       " {'count': 68, 'gender': 'MALE', 'name': 'ROY', 'year': 2010},\n",
       " {'count': 67, 'gender': 'MALE', 'name': 'EMERSON', 'year': 2010},\n",
       " {'count': 67, 'gender': 'MALE', 'name': 'BRUNO', 'year': 2010},\n",
       " {'count': 67, 'gender': 'MALE', 'name': 'GILBERTO', 'year': 2010},\n",
       " {'count': 67, 'gender': 'MALE', 'name': 'BRAXTON', 'year': 2010},\n",
       " {'count': 67, 'gender': 'MALE', 'name': 'MATIAS', 'year': 2010},\n",
       " {'count': 67, 'gender': 'MALE', 'name': 'NATHANAEL', 'year': 2010},\n",
       " {'count': 67, 'gender': 'MALE', 'name': 'KAMERON', 'year': 2010},\n",
       " {'count': 67, 'gender': 'MALE', 'name': 'JOVANNI', 'year': 2010},\n",
       " {'count': 67, 'gender': 'MALE', 'name': 'KENNY', 'year': 2010},\n",
       " {'count': 66, 'gender': 'MALE', 'name': 'MARC', 'year': 2010},\n",
       " {'count': 66, 'gender': 'MALE', 'name': 'BRENDEN', 'year': 2010},\n",
       " {'count': 65, 'gender': 'MALE', 'name': 'BRUCE', 'year': 2010},\n",
       " {'count': 65, 'gender': 'MALE', 'name': 'ATTICUS', 'year': 2010},\n",
       " {'count': 65, 'gender': 'MALE', 'name': 'MAXIMO', 'year': 2010},\n",
       " {'count': 65, 'gender': 'MALE', 'name': 'RIGOBERTO', 'year': 2010},\n",
       " {'count': 65, 'gender': 'MALE', 'name': 'NIKO', 'year': 2010},\n",
       " {'count': 65, 'gender': 'MALE', 'name': 'LUCIANO', 'year': 2010},\n",
       " {'count': 65, 'gender': 'MALE', 'name': 'MALAKAI', 'year': 2010},\n",
       " {'count': 64, 'gender': 'MALE', 'name': 'KEEGAN', 'year': 2010},\n",
       " {'count': 64, 'gender': 'MALE', 'name': 'CORBIN', 'year': 2010},\n",
       " {'count': 64, 'gender': 'MALE', 'name': 'ARON', 'year': 2010},\n",
       " {'count': 64, 'gender': 'MALE', 'name': 'GIANNI', 'year': 2010},\n",
       " {'count': 64, 'gender': 'MALE', 'name': 'IGNACIO', 'year': 2010},\n",
       " {'count': 64, 'gender': 'MALE', 'name': 'XZAVIER', 'year': 2010},\n",
       " {'count': 64, 'gender': 'MALE', 'name': 'TOMMY', 'year': 2010},\n",
       " {'count': 63, 'gender': 'MALE', 'name': 'TITUS', 'year': 2010},\n",
       " {'count': 63, 'gender': 'MALE', 'name': 'SONNY', 'year': 2010},\n",
       " {'count': 63, 'gender': 'MALE', 'name': 'GUNNER', 'year': 2010},\n",
       " {'count': 63, 'gender': 'MALE', 'name': 'GRAHAM', 'year': 2010},\n",
       " {'count': 63, 'gender': 'MALE', 'name': 'DARIO', 'year': 2010},\n",
       " {'count': 63, 'gender': 'MALE', 'name': 'BOBBY', 'year': 2010},\n",
       " {'count': 63, 'gender': 'MALE', 'name': 'HUMBERTO', 'year': 2010},\n",
       " {'count': 63, 'gender': 'MALE', 'name': 'KELLAN', 'year': 2010},\n",
       " {'count': 63, 'gender': 'MALE', 'name': 'RHYS', 'year': 2010},\n",
       " {'count': 63, 'gender': 'MALE', 'name': 'OCTAVIO', 'year': 2010},\n",
       " {'count': 63, 'gender': 'MALE', 'name': 'MAVERICK', 'year': 2010},\n",
       " {'count': 63, 'gender': 'MALE', 'name': 'REED', 'year': 2010},\n",
       " {'count': 62, 'gender': 'MALE', 'name': 'LELAND', 'year': 2010},\n",
       " {'count': 62, 'gender': 'MALE', 'name': 'LIONEL', 'year': 2010},\n",
       " {'count': 62, 'gender': 'MALE', 'name': 'JONAS', 'year': 2010},\n",
       " {'count': 62, 'gender': 'MALE', 'name': 'JAYCOB', 'year': 2010},\n",
       " {'count': 62, 'gender': 'MALE', 'name': 'AADEN', 'year': 2010},\n",
       " {'count': 62, 'gender': 'MALE', 'name': 'FRANKLIN', 'year': 2010},\n",
       " {'count': 62, 'gender': 'MALE', 'name': 'DENNIS', 'year': 2010},\n",
       " {'count': 62, 'gender': 'MALE', 'name': 'TRISTEN', 'year': 2010},\n",
       " {'count': 61, 'gender': 'MALE', 'name': 'DONALD', 'year': 2010},\n",
       " {'count': 61, 'gender': 'MALE', 'name': 'CAMDEN', 'year': 2010},\n",
       " {'count': 61, 'gender': 'MALE', 'name': 'JAYCE', 'year': 2010},\n",
       " {'count': 61, 'gender': 'MALE', 'name': 'KRISTIAN', 'year': 2010},\n",
       " {'count': 60, 'gender': 'MALE', 'name': 'MARLON', 'year': 2010},\n",
       " {'count': 60, 'gender': 'MALE', 'name': 'JOVANY', 'year': 2010},\n",
       " {'count': 60, 'gender': 'MALE', 'name': 'NEIL', 'year': 2010},\n",
       " {'count': 60, 'gender': 'MALE', 'name': 'QUENTIN', 'year': 2010},\n",
       " {'count': 60, 'gender': 'MALE', 'name': 'ACE', 'year': 2010},\n",
       " {'count': 60, 'gender': 'MALE', 'name': 'BRENNAN', 'year': 2010},\n",
       " {'count': 60, 'gender': 'MALE', 'name': 'ABRAM', 'year': 2010},\n",
       " {'count': 60, 'gender': 'MALE', 'name': 'DOUGLAS', 'year': 2010},\n",
       " {'count': 60, 'gender': 'MALE', 'name': 'TOBIAS', 'year': 2010},\n",
       " {'count': 59, 'gender': 'MALE', 'name': 'HOLDEN', 'year': 2010},\n",
       " {'count': 59, 'gender': 'MALE', 'name': 'PIERCE', 'year': 2010},\n",
       " {'count': 59, 'gender': 'MALE', 'name': 'RAY', 'year': 2010},\n",
       " {'count': 59, 'gender': 'MALE', 'name': 'LONDON', 'year': 2010},\n",
       " {'count': 58, 'gender': 'MALE', 'name': 'KIERAN', 'year': 2010},\n",
       " {'count': 58, 'gender': 'MALE', 'name': 'KELLEN', 'year': 2010},\n",
       " {'count': 58, 'gender': 'MALE', 'name': 'JOVANI', 'year': 2010},\n",
       " {'count': 58, 'gender': 'MALE', 'name': 'ARI', 'year': 2010},\n",
       " {'count': 58, 'gender': 'MALE', 'name': 'ESTEVAN', 'year': 2010},\n",
       " {'count': 58, 'gender': 'MALE', 'name': 'CRISTIANO', 'year': 2010},\n",
       " {'count': 58, 'gender': 'MALE', 'name': 'ROLANDO', 'year': 2010},\n",
       " {'count': 57, 'gender': 'MALE', 'name': 'DORIAN', 'year': 2010},\n",
       " {'count': 57, 'gender': 'MALE', 'name': 'JALEN', 'year': 2010},\n",
       " {'count': 57, 'gender': 'MALE', 'name': 'MUHAMMAD', 'year': 2010},\n",
       " {'count': 57, 'gender': 'MALE', 'name': 'LEANDRO', 'year': 2010},\n",
       " {'count': 57, 'gender': 'MALE', 'name': 'JEFFERSON', 'year': 2010},\n",
       " {'count': 56, 'gender': 'MALE', 'name': 'NESTOR', 'year': 2010},\n",
       " {'count': 56, 'gender': 'MALE', 'name': 'MIKE', 'year': 2010},\n",
       " {'count': 56, 'gender': 'MALE', 'name': 'COLT', 'year': 2010},\n",
       " {'count': 56, 'gender': 'MALE', 'name': 'ARIEL', 'year': 2010},\n",
       " {'count': 56, 'gender': 'MALE', 'name': 'URIJAH', 'year': 2010},\n",
       " {'count': 56, 'gender': 'MALE', 'name': 'ROYCE', 'year': 2010},\n",
       " {'count': 55, 'gender': 'MALE', 'name': 'SHAUN', 'year': 2010},\n",
       " {'count': 55, 'gender': 'MALE', 'name': 'YAEL', 'year': 2010},\n",
       " {'count': 55, 'gender': 'MALE', 'name': 'YANDEL', 'year': 2010},\n",
       " {'count': 55, 'gender': 'MALE', 'name': 'ISAI', 'year': 2010},\n",
       " {'count': 55, 'gender': 'MALE', 'name': 'BRETT', 'year': 2010},\n",
       " {'count': 55, 'gender': 'MALE', 'name': 'RAPHAEL', 'year': 2010},\n",
       " {'count': 55, 'gender': 'MALE', 'name': 'KRISTOPHER', 'year': 2010},\n",
       " {'count': 54, 'gender': 'MALE', 'name': 'NELSON', 'year': 2010},\n",
       " {'count': 54, 'gender': 'MALE', 'name': 'FRANCO', 'year': 2010},\n",
       " {'count': 54, 'gender': 'MALE', 'name': 'DILAN', 'year': 2010},\n",
       " {'count': 53, 'gender': 'MALE', 'name': 'BEAU', 'year': 2010},\n",
       " {'count': 53, 'gender': 'MALE', 'name': 'DOMINIK', 'year': 2010},\n",
       " {'count': 53, 'gender': 'MALE', 'name': 'BODHI', 'year': 2010},\n",
       " {'count': 53, 'gender': 'MALE', 'name': 'REY', 'year': 2010},\n",
       " {'count': 53, 'gender': 'MALE', 'name': 'JOHANN', 'year': 2010},\n",
       " {'count': 53, 'gender': 'MALE', 'name': 'RONNIE', 'year': 2010},\n",
       " {'count': 53, 'gender': 'MALE', 'name': 'RONALDO', 'year': 2010},\n",
       " {'count': 53, 'gender': 'MALE', 'name': 'RYKER', 'year': 2010},\n",
       " {'count': 52, 'gender': 'MALE', 'name': 'ULYSSES', 'year': 2010},\n",
       " {'count': 52, 'gender': 'MALE', 'name': 'ZACHARIAH', 'year': 2010},\n",
       " {'count': 52, 'gender': 'MALE', 'name': 'SOLOMON', 'year': 2010},\n",
       " {'count': 52, 'gender': 'MALE', 'name': 'YUSUF', 'year': 2010},\n",
       " {'count': 52, 'gender': 'MALE', 'name': 'THEO', 'year': 2010},\n",
       " {'count': 52, 'gender': 'MALE', 'name': 'REX', 'year': 2010},\n",
       " {'count': 52, 'gender': 'MALE', 'name': 'EDEN', 'year': 2010},\n",
       " {'count': 52, 'gender': 'MALE', 'name': 'IBRAHIM', 'year': 2010},\n",
       " {'count': 52, 'gender': 'MALE', 'name': 'GERMAN', 'year': 2010},\n",
       " {'count': 52, 'gender': 'MALE', 'name': 'IRVIN', 'year': 2010},\n",
       " {'count': 51, 'gender': 'MALE', 'name': 'DAVIS', 'year': 2010},\n",
       " {'count': 51, 'gender': 'MALE', 'name': 'GEOVANNI', 'year': 2010},\n",
       " {'count': 51, 'gender': 'MALE', 'name': 'AMARI', 'year': 2010},\n",
       " {'count': 51, 'gender': 'MALE', 'name': 'CURTIS', 'year': 2010},\n",
       " {'count': 51, 'gender': 'MALE', 'name': 'ADITYA', 'year': 2010},\n",
       " {'count': 51, 'gender': 'MALE', 'name': 'MARCELO', 'year': 2010},\n",
       " {'count': 51, 'gender': 'MALE', 'name': 'JUNIOR', 'year': 2010},\n",
       " {'count': 50, 'gender': 'MALE', 'name': 'KANE', 'year': 2010},\n",
       " {'count': 50, 'gender': 'MALE', 'name': 'JUSTICE', 'year': 2010},\n",
       " {'count': 50, 'gender': 'MALE', 'name': 'MORGAN', 'year': 2010},\n",
       " {'count': 50, 'gender': 'MALE', 'name': 'LUKA', 'year': 2010},\n",
       " {'count': 50, 'gender': 'MALE', 'name': 'REECE', 'year': 2010},\n",
       " {'count': 50, 'gender': 'MALE', 'name': 'JAIR', 'year': 2010},\n",
       " {'count': 50, 'gender': 'MALE', 'name': 'MALCOLM', 'year': 2010},\n",
       " {'count': 50, 'gender': 'MALE', 'name': 'ARYAN', 'year': 2010},\n",
       " {'count': 50, 'gender': 'MALE', 'name': 'ARMAN', 'year': 2010},\n",
       " {'count': 50, 'gender': 'MALE', 'name': 'DERICK', 'year': 2010},\n",
       " {'count': 49, 'gender': 'MALE', 'name': 'DAVIAN', 'year': 2010},\n",
       " {'count': 49, 'gender': 'MALE', 'name': 'DARIAN', 'year': 2010},\n",
       " {'count': 49, 'gender': 'MALE', 'name': 'CONOR', 'year': 2010},\n",
       " {'count': 49, 'gender': 'MALE', 'name': 'ISHAAN', 'year': 2010},\n",
       " {'count': 49, 'gender': 'MALE', 'name': 'ADOLFO', 'year': 2010},\n",
       " {'count': 49, 'gender': 'MALE', 'name': 'LOUIE', 'year': 2010},\n",
       " {'count': 49, 'gender': 'MALE', 'name': 'TREY', 'year': 2010},\n",
       " {'count': 49, 'gender': 'MALE', 'name': 'URIAH', 'year': 2010},\n",
       " {'count': 48, 'gender': 'MALE', 'name': 'WARREN', 'year': 2010},\n",
       " {'count': 48, 'gender': 'MALE', 'name': 'RYLAND', 'year': 2010},\n",
       " {'count': 48, 'gender': 'MALE', 'name': 'MARCEL', 'year': 2010},\n",
       " {'count': 48, 'gender': 'MALE', 'name': 'LANCE', 'year': 2010},\n",
       " {'count': 48, 'gender': 'MALE', 'name': 'KADE', 'year': 2010},\n",
       " {'count': 48, 'gender': 'MALE', 'name': 'KEVEN', 'year': 2010},\n",
       " {'count': 48, 'gender': 'MALE', 'name': 'LEONARD', 'year': 2010},\n",
       " {'count': 48, 'gender': 'MALE', 'name': 'MARSHALL', 'year': 2010},\n",
       " {'count': 48, 'gender': 'MALE', 'name': 'JOVANNY', 'year': 2010},\n",
       " {'count': 48, 'gender': 'MALE', 'name': 'ISAAK', 'year': 2010},\n",
       " {'count': 48, 'gender': 'MALE', 'name': 'ALFRED', 'year': 2010},\n",
       " {'count': 48, 'gender': 'MALE', 'name': 'BRAYDON', 'year': 2010},\n",
       " {'count': 47, 'gender': 'MALE', 'name': 'ADRIEN', 'year': 2010},\n",
       " {'count': 47, 'gender': 'MALE', 'name': 'ARMAAN', 'year': 2010},\n",
       " {'count': 47, 'gender': 'MALE', 'name': 'BRAEDEN', 'year': 2010},\n",
       " {'count': 47, 'gender': 'MALE', 'name': 'MITCHELL', 'year': 2010},\n",
       " {'count': 47, 'gender': 'MALE', 'name': 'LUCCA', 'year': 2010},\n",
       " {'count': 47, 'gender': 'MALE', 'name': 'NIKOLAI', 'year': 2010},\n",
       " {'count': 47, 'gender': 'MALE', 'name': 'MAXIMILLIAN', 'year': 2010},\n",
       " {'count': 47, 'gender': 'MALE', 'name': 'RAIDEN', 'year': 2010},\n",
       " {'count': 47, 'gender': 'MALE', 'name': 'RONIN', 'year': 2010},\n",
       " {'count': 46, 'gender': 'MALE', 'name': 'MADDEN', 'year': 2010},\n",
       " {'count': 46, 'gender': 'MALE', 'name': 'MELVIN', 'year': 2010},\n",
       " {'count': 46, 'gender': 'MALE', 'name': 'AYDAN', 'year': 2010},\n",
       " {'count': 46, 'gender': 'MALE', 'name': 'ABDIEL', 'year': 2010},\n",
       " {'count': 46, 'gender': 'MALE', 'name': 'GONZALO', 'year': 2010},\n",
       " {'count': 46, 'gender': 'MALE', 'name': 'ARMANI', 'year': 2010},\n",
       " {'count': 45, 'gender': 'MALE', 'name': 'ARCHER', 'year': 2010},\n",
       " {'count': 45, 'gender': 'MALE', 'name': 'BENICIO', 'year': 2010},\n",
       " {'count': 45, 'gender': 'MALE', 'name': 'DAKOTA', 'year': 2010},\n",
       " {'count': 45, 'gender': 'MALE', 'name': 'COHEN', 'year': 2010},\n",
       " {'count': 45, 'gender': 'MALE', 'name': 'LANE', 'year': 2010},\n",
       " {'count': 45, 'gender': 'MALE', 'name': 'MAURICE', 'year': 2010},\n",
       " {'count': 45, 'gender': 'MALE', 'name': 'LUCIAN', 'year': 2010},\n",
       " {'count': 45, 'gender': 'MALE', 'name': 'SANTOS', 'year': 2010},\n",
       " {'count': 44, 'gender': 'MALE', 'name': 'TATE', 'year': 2010},\n",
       " {'count': 44, 'gender': 'MALE', 'name': 'TAJ', 'year': 2010},\n",
       " {'count': 44, 'gender': 'MALE', 'name': 'GRADY', 'year': 2010},\n",
       " {'count': 44, 'gender': 'MALE', 'name': 'ELIAN', 'year': 2010},\n",
       " {'count': 44, 'gender': 'MALE', 'name': 'DAVIN', 'year': 2010},\n",
       " {'count': 43, 'gender': 'MALE', 'name': 'DARWIN', 'year': 2010},\n",
       " {'count': 43, 'gender': 'MALE', 'name': 'BRODIE', 'year': 2010},\n",
       " {'count': 43, 'gender': 'MALE', 'name': 'FIDEL', 'year': 2010},\n",
       " {'count': 43, 'gender': 'MALE', 'name': 'GARY', 'year': 2010},\n",
       " {'count': 43, 'gender': 'MALE', 'name': 'ALIJAH', 'year': 2010},\n",
       " {'count': 43, 'gender': 'MALE', 'name': 'MATHIAS', 'year': 2010},\n",
       " {'count': 43, 'gender': 'MALE', 'name': 'PRINCE', 'year': 2010},\n",
       " {'count': 43, 'gender': 'MALE', 'name': 'JAMISON', 'year': 2010},\n",
       " {'count': 43, 'gender': 'MALE', 'name': 'STANLEY', 'year': 2010},\n",
       " {'count': 43, 'gender': 'MALE', 'name': 'YAIR', 'year': 2010},\n",
       " {'count': 42, 'gender': 'MALE', 'name': 'WAYLON', 'year': 2010},\n",
       " {'count': 42, 'gender': 'MALE', 'name': 'TERRY', 'year': 2010},\n",
       " {'count': 42, 'gender': 'MALE', 'name': 'ZAIN', 'year': 2010},\n",
       " {'count': 42, 'gender': 'MALE', 'name': 'TALON', 'year': 2010},\n",
       " {'count': 42, 'gender': 'MALE', 'name': 'PRANAV', 'year': 2010},\n",
       " {'count': 42, 'gender': 'MALE', 'name': 'CAMILO', 'year': 2010},\n",
       " {'count': 42, 'gender': 'MALE', 'name': 'FREDERICK', 'year': 2010},\n",
       " {'count': 42, 'gender': 'MALE', 'name': 'BARRETT', 'year': 2010},\n",
       " {'count': 42, 'gender': 'MALE', 'name': 'BERNARDO', 'year': 2010},\n",
       " {'count': 42, 'gender': 'MALE', 'name': 'ELVIS', 'year': 2010},\n",
       " {'count': 41, 'gender': 'MALE', 'name': 'BROOKS', 'year': 2010},\n",
       " {'count': 41, 'gender': 'MALE', 'name': 'BRAULIO', 'year': 2010},\n",
       " {'count': 41, 'gender': 'MALE', 'name': 'CRISTOFER', 'year': 2010},\n",
       " {'count': 41, 'gender': 'MALE', 'name': 'ALEXANDRO', 'year': 2010},\n",
       " {'count': 41, 'gender': 'MALE', 'name': 'FINNEGAN', 'year': 2010},\n",
       " {'count': 41, 'gender': 'MALE', 'name': 'QUINCY', 'year': 2010},\n",
       " {'count': 41, 'gender': 'MALE', 'name': 'RIO', 'year': 2010},\n",
       " {'count': 41, 'gender': 'MALE', 'name': 'MAXIM', 'year': 2010},\n",
       " {'count': 41, 'gender': 'MALE', 'name': 'JONATHON', 'year': 2010},\n",
       " {'count': 41, 'gender': 'MALE', 'name': 'KELVIN', 'year': 2010},\n",
       " {'count': 41, 'gender': 'MALE', 'name': 'SKYLAR', 'year': 2010},\n",
       " {'count': 40, 'gender': 'MALE', 'name': 'WINSTON', 'year': 2010},\n",
       " {'count': 40, 'gender': 'MALE', 'name': 'WILSON', 'year': 2010},\n",
       " {'count': 40, 'gender': 'MALE', 'name': 'MAKAI', 'year': 2010},\n",
       " {'count': 40, 'gender': 'MALE', 'name': 'KASH', 'year': 2010},\n",
       " {'count': 40, 'gender': 'MALE', 'name': 'CRISTOBAL', 'year': 2010},\n",
       " {'count': 40, 'gender': 'MALE', 'name': 'DEVEN', 'year': 2010},\n",
       " {'count': 40, 'gender': 'MALE', 'name': 'FRANCIS', 'year': 2010},\n",
       " {'count': 40, 'gender': 'MALE', 'name': 'HARRY', 'year': 2010},\n",
       " {'count': 40, 'gender': 'MALE', 'name': 'DALTON', 'year': 2010},\n",
       " {'count': 39, 'gender': 'MALE', 'name': 'GUNNAR', 'year': 2010},\n",
       " {'count': 39, 'gender': 'MALE', 'name': 'CARLO', 'year': 2010},\n",
       " {'count': 39, 'gender': 'MALE', 'name': 'CHAD', 'year': 2010},\n",
       " {'count': 39, 'gender': 'MALE', 'name': 'GIDEON', 'year': 2010},\n",
       " {'count': 39, 'gender': 'MALE', 'name': 'BROCK', 'year': 2010},\n",
       " {'count': 39, 'gender': 'MALE', 'name': 'AYAAN', 'year': 2010},\n",
       " {'count': 39, 'gender': 'MALE', 'name': 'BRYCEN', 'year': 2010},\n",
       " {'count': 39, 'gender': 'MALE', 'name': 'ARNAV', 'year': 2010},\n",
       " {'count': 39, 'gender': 'MALE', 'name': 'NATHEN', 'year': 2010},\n",
       " {'count': 39, 'gender': 'MALE', 'name': 'KAEDEN', 'year': 2010},\n",
       " {'count': 39, 'gender': 'MALE', 'name': 'TERRANCE', 'year': 2010},\n",
       " {'count': 39, 'gender': 'MALE', 'name': 'ZAID', 'year': 2010},\n",
       " {'count': 39, 'gender': 'MALE', 'name': 'TIGER', 'year': 2010},\n",
       " {'count': 38, 'gender': 'MALE', 'name': 'SIDDHARTH', 'year': 2010},\n",
       " {'count': 38, 'gender': 'MALE', 'name': 'MOHAMED', 'year': 2010},\n",
       " {'count': 38, 'gender': 'MALE', 'name': 'KEANU', 'year': 2010},\n",
       " {'count': 38, 'gender': 'MALE', 'name': 'JON', 'year': 2010},\n",
       " {'count': 38, 'gender': 'MALE', 'name': 'KODY', 'year': 2010},\n",
       " {'count': 38, 'gender': 'MALE', 'name': 'ODIN', 'year': 2010},\n",
       " {'count': 38, 'gender': 'MALE', 'name': 'MARKUS', 'year': 2010},\n",
       " {'count': 38, 'gender': 'MALE', 'name': 'CORY', 'year': 2010},\n",
       " {'count': 38, 'gender': 'MALE', 'name': 'BRAYLON', 'year': 2010},\n",
       " {'count': 38, 'gender': 'MALE', 'name': 'BILLY', 'year': 2010},\n",
       " {'count': 38, 'gender': 'MALE', 'name': 'ALEXZANDER', 'year': 2010},\n",
       " {'count': 38, 'gender': 'MALE', 'name': 'DAVION', 'year': 2010},\n",
       " {'count': 38, 'gender': 'MALE', 'name': 'AARUSH', 'year': 2010},\n",
       " {'count': 37, 'gender': 'MALE', 'name': 'DHRUV', 'year': 2010},\n",
       " {'count': 37, 'gender': 'MALE', 'name': 'AHMAD', 'year': 2010},\n",
       " {'count': 37, 'gender': 'MALE', 'name': 'AYDIN', 'year': 2010},\n",
       " {'count': 37, 'gender': 'MALE', 'name': 'DEEGAN', 'year': 2010},\n",
       " {'count': 37, 'gender': 'MALE', 'name': 'GEOVANNY', 'year': 2010},\n",
       " {'count': 37, 'gender': 'MALE', 'name': 'JEDIDIAH', 'year': 2010},\n",
       " {'count': 37, 'gender': 'MALE', 'name': 'MOHAMMED', 'year': 2010},\n",
       " {'count': 37, 'gender': 'MALE', 'name': 'JADON', 'year': 2010},\n",
       " {'count': 37, 'gender': 'MALE', 'name': 'PAYTON', 'year': 2010},\n",
       " {'count': 37, 'gender': 'MALE', 'name': 'REMY', 'year': 2010},\n",
       " {'count': 37, 'gender': 'MALE', 'name': 'KRISH', 'year': 2010},\n",
       " {'count': 37, 'gender': 'MALE', 'name': 'KENJI', 'year': 2010},\n",
       " {'count': 37, 'gender': 'MALE', 'name': 'JAYDON', 'year': 2010},\n",
       " {'count': 37, 'gender': 'MALE', 'name': 'TOBY', 'year': 2010},\n",
       " {'count': 36, 'gender': 'MALE', 'name': 'VLADIMIR', 'year': 2010},\n",
       " {'count': 36, 'gender': 'MALE', 'name': 'MARLEY', 'year': 2010},\n",
       " {'count': 36, 'gender': 'MALE', 'name': 'JAEDEN', 'year': 2010},\n",
       " {'count': 36, 'gender': 'MALE', 'name': 'KINGSLEY', 'year': 2010},\n",
       " {'count': 36, 'gender': 'MALE', 'name': 'HAROLD', 'year': 2010},\n",
       " {'count': 36, 'gender': 'MALE', 'name': 'ANISH', 'year': 2010},\n",
       " {'count': 36, 'gender': 'MALE', 'name': 'EUGENE', 'year': 2010},\n",
       " {'count': 36, 'gender': 'MALE', 'name': 'ISIAH', 'year': 2010},\n",
       " {'count': 36, 'gender': 'MALE', 'name': 'DAWSON', 'year': 2010},\n",
       " {'count': 35, 'gender': 'MALE', 'name': 'IRVING', 'year': 2010},\n",
       " {'count': 35, 'gender': 'MALE', 'name': 'CONRAD', 'year': 2010},\n",
       " {'count': 35, 'gender': 'MALE', 'name': 'BRENT', 'year': 2010},\n",
       " {'count': 35, 'gender': 'MALE', 'name': 'FINLEY', 'year': 2010},\n",
       " {'count': 35, 'gender': 'MALE', 'name': 'ELISEO', 'year': 2010},\n",
       " {'count': 35, 'gender': 'MALE', 'name': 'BODIE', 'year': 2010},\n",
       " {'count': 35, 'gender': 'MALE', 'name': 'CARL', 'year': 2010},\n",
       " {'count': 35, 'gender': 'MALE', 'name': 'ADONIS', 'year': 2010},\n",
       " {'count': 35, 'gender': 'MALE', 'name': 'MATTHIAS', 'year': 2010},\n",
       " {'count': 35, 'gender': 'MALE', 'name': 'KENDRICK', 'year': 2010},\n",
       " {'count': 35, 'gender': 'MALE', 'name': 'KAREEM', 'year': 2010},\n",
       " {'count': 35, 'gender': 'MALE', 'name': 'MOHAMMAD', 'year': 2010},\n",
       " {'count': 35, 'gender': 'MALE', 'name': 'JORDEN', 'year': 2010},\n",
       " {'count': 35, 'gender': 'MALE', 'name': 'THIAGO', 'year': 2010},\n",
       " {'count': 35, 'gender': 'MALE', 'name': 'VINCE', 'year': 2010},\n",
       " {'count': 34, 'gender': 'MALE', 'name': 'WILLIE', 'year': 2010},\n",
       " {'count': 34, 'gender': 'MALE', 'name': 'VAN', 'year': 2010},\n",
       " {'count': 34, 'gender': 'MALE', 'name': 'ZECHARIAH', 'year': 2010},\n",
       " {'count': 34, 'gender': 'MALE', 'name': 'SAGE', 'year': 2010},\n",
       " {'count': 34, 'gender': 'MALE', 'name': 'SAID', 'year': 2010},\n",
       " {'count': 34, 'gender': 'MALE', 'name': 'STERLING', 'year': 2010},\n",
       " {'count': 34, 'gender': 'MALE', 'name': 'NIKKO', 'year': 2010},\n",
       " {'count': 34, 'gender': 'MALE', 'name': 'KEATON', 'year': 2010},\n",
       " {'count': 34, 'gender': 'MALE', 'name': 'OSWALDO', 'year': 2010},\n",
       " {'count': 34, 'gender': 'MALE', 'name': 'KARSON', 'year': 2010},\n",
       " {'count': 34, 'gender': 'MALE', 'name': 'CHACE', 'year': 2010},\n",
       " {'count': 34, 'gender': 'MALE', 'name': 'AUGUSTINE', 'year': 2010},\n",
       " {'count': 33, 'gender': 'MALE', 'name': 'DASHIELL', 'year': 2010},\n",
       " {'count': 33, 'gender': 'MALE', 'name': 'EFREN', 'year': 2010},\n",
       " {'count': 33, 'gender': 'MALE', 'name': 'EAN', 'year': 2010},\n",
       " {'count': 33, 'gender': 'MALE', 'name': 'BRAIDEN', 'year': 2010},\n",
       " {'count': 33, 'gender': 'MALE', 'name': 'BEN', 'year': 2010},\n",
       " {'count': 33, 'gender': 'MALE', 'name': 'ELMER', 'year': 2010},\n",
       " {'count': 33, 'gender': 'MALE', 'name': 'JERAMIAH', 'year': 2010},\n",
       " {'count': 33, 'gender': 'MALE', 'name': 'KNOX', 'year': 2010},\n",
       " {'count': 33, 'gender': 'MALE', 'name': 'RAYMUNDO', 'year': 2010},\n",
       " {'count': 33, 'gender': 'MALE', 'name': 'NIXON', 'year': 2010},\n",
       " {'count': 33, 'gender': 'MALE', 'name': 'REESE', 'year': 2010},\n",
       " {'count': 33, 'gender': 'MALE', 'name': 'QUINTON', 'year': 2010},\n",
       " {'count': 33, 'gender': 'MALE', 'name': 'MARIANO', 'year': 2010},\n",
       " {'count': 33, 'gender': 'MALE', 'name': 'LEONIDAS', 'year': 2010},\n",
       " {'count': 32, 'gender': 'MALE', 'name': 'LEWIS', 'year': 2010},\n",
       " {'count': 32, 'gender': 'MALE', 'name': 'NEEL', 'year': 2010},\n",
       " {'count': 32, 'gender': 'MALE', 'name': 'JAGGER', 'year': 2010},\n",
       " {'count': 32, 'gender': 'MALE', 'name': 'JAMIE', 'year': 2010},\n",
       " {'count': 32, 'gender': 'MALE', 'name': 'JAYLIN', 'year': 2010},\n",
       " {'count': 32, 'gender': 'MALE', 'name': 'JERIMIAH', 'year': 2010},\n",
       " {'count': 32, 'gender': 'MALE', 'name': 'CARMELO', 'year': 2010},\n",
       " {'count': 32, 'gender': 'MALE', 'name': \"D''ANGELO\", 'year': 2010},\n",
       " {'count': 32, 'gender': 'MALE', 'name': 'CLARK', 'year': 2010},\n",
       " {'count': 32, 'gender': 'MALE', 'name': 'HARLEY', 'year': 2010},\n",
       " {'count': 32, 'gender': 'MALE', 'name': 'GAUGE', 'year': 2010},\n",
       " {'count': 32, 'gender': 'MALE', 'name': 'IZAAC', 'year': 2010},\n",
       " {'count': 32, 'gender': 'MALE', 'name': 'VANCE', 'year': 2010},\n",
       " {'count': 32, 'gender': 'MALE', 'name': 'ZACK', 'year': 2010},\n",
       " {'count': 32, 'gender': 'MALE', 'name': 'WALKER', 'year': 2010},\n",
       " {'count': 31, 'gender': 'MALE', 'name': 'WADE', 'year': 2010},\n",
       " {'count': 31, 'gender': 'MALE', 'name': 'ROCKY', 'year': 2010},\n",
       " {'count': 31, 'gender': 'MALE', 'name': 'WAYNE', 'year': 2010},\n",
       " {'count': 31, 'gender': 'MALE', 'name': 'VIHAAN', 'year': 2010},\n",
       " {'count': 31, 'gender': 'MALE', 'name': 'ABDULLAH', 'year': 2010},\n",
       " {'count': 31, 'gender': 'MALE', 'name': 'CASSIUS', 'year': 2010},\n",
       " {'count': 31, 'gender': 'MALE', 'name': 'IZAYAH', 'year': 2010},\n",
       " {'count': 31, 'gender': 'MALE', 'name': 'DEANDRE', 'year': 2010},\n",
       " {'count': 31, 'gender': 'MALE', 'name': 'CAIN', 'year': 2010},\n",
       " {'count': 31, 'gender': 'MALE', 'name': 'GERALD', 'year': 2010},\n",
       " {'count': 31, 'gender': 'MALE', 'name': 'EMERY', 'year': 2010},\n",
       " {'count': 31, 'gender': 'MALE', 'name': 'DAX', 'year': 2010},\n",
       " {'count': 31, 'gender': 'MALE', 'name': 'ISAC', 'year': 2010},\n",
       " {'count': 31, 'gender': 'MALE', 'name': 'DEVAN', 'year': 2010},\n",
       " {'count': 31, 'gender': 'MALE', 'name': 'JACOBY', 'year': 2010},\n",
       " {'count': 31, 'gender': 'MALE', 'name': 'NICK', 'year': 2010},\n",
       " {'count': 31, 'gender': 'MALE', 'name': 'KOLE', 'year': 2010},\n",
       " {'count': 31, 'gender': 'MALE', 'name': 'JEAN', 'year': 2010},\n",
       " {'count': 30, 'gender': 'MALE', 'name': 'KILLIAN', 'year': 2010},\n",
       " {'count': 30, 'gender': 'MALE', 'name': 'JOSH', 'year': 2010},\n",
       " {'count': 30, 'gender': 'MALE', 'name': 'MIGUEL ANGEL', 'year': 2010},\n",
       " {'count': 30, 'gender': 'MALE', 'name': 'MEMPHIS', 'year': 2010},\n",
       " {'count': 30, 'gender': 'MALE', 'name': 'KARTER', 'year': 2010},\n",
       " {'count': 30, 'gender': 'MALE', 'name': 'OTTO', 'year': 2010},\n",
       " {'count': 30, 'gender': 'MALE', 'name': 'PRESLEY', 'year': 2010},\n",
       " {'count': 30, 'gender': 'MALE', 'name': 'JEFFERY', 'year': 2010},\n",
       " {'count': 30, 'gender': 'MALE', 'name': 'NIKHIL', 'year': 2010},\n",
       " {'count': 30, 'gender': 'MALE', 'name': 'JENSEN', 'year': 2010},\n",
       " {'count': 30, 'gender': 'MALE', 'name': 'JEREMIAS', 'year': 2010},\n",
       " {'count': 30, 'gender': 'MALE', 'name': 'KHALIL', 'year': 2010},\n",
       " {'count': 30, 'gender': 'MALE', 'name': 'DARIEN', 'year': 2010},\n",
       " {'count': 30, 'gender': 'MALE', 'name': 'FAVIAN', 'year': 2010},\n",
       " {'count': 30, 'gender': 'MALE', 'name': 'AYUSH', 'year': 2010},\n",
       " {'count': 30, 'gender': 'MALE', 'name': 'ELIOT', 'year': 2010},\n",
       " {'count': 30, 'gender': 'MALE', 'name': 'ARLO', 'year': 2010},\n",
       " {'count': 30, 'gender': 'MALE', 'name': 'TRISTON', 'year': 2010},\n",
       " {'count': 30, 'gender': 'MALE', 'name': 'VINCENZO', 'year': 2010},\n",
       " {'count': 29, 'gender': 'MALE', 'name': 'SIDNEY', 'year': 2010},\n",
       " {'count': 29, 'gender': 'MALE', 'name': 'STEPHAN', 'year': 2010},\n",
       " {'count': 29, 'gender': 'MALE', 'name': 'RODNEY', 'year': 2010},\n",
       " {'count': 29, 'gender': 'MALE', 'name': 'EVERARDO', 'year': 2010},\n",
       " {'count': 29, 'gender': 'MALE', 'name': 'CEDRIC', 'year': 2010},\n",
       " {'count': 29, 'gender': 'MALE', 'name': 'ETHEN', 'year': 2010},\n",
       " {'count': 29, 'gender': 'MALE', 'name': 'BRENDON', 'year': 2010},\n",
       " {'count': 29, 'gender': 'MALE', 'name': 'ARIAN', 'year': 2010},\n",
       " {'count': 29, 'gender': 'MALE', 'name': 'DERECK', 'year': 2010},\n",
       " {'count': 29, 'gender': 'MALE', 'name': 'GIOVANY', 'year': 2010},\n",
       " {'count': 29, 'gender': 'MALE', 'name': 'AHMED', 'year': 2010},\n",
       " {'count': 29, 'gender': 'MALE', 'name': 'HANK', 'year': 2010},\n",
       " {'count': 29, 'gender': 'MALE', 'name': 'JAHIR', 'year': 2010},\n",
       " {'count': 29, 'gender': 'MALE', 'name': 'JASIAH', 'year': 2010},\n",
       " {'count': 29, 'gender': 'MALE', 'name': 'JOVAN', 'year': 2010},\n",
       " {'count': 29, 'gender': 'MALE', 'name': 'OSMAR', 'year': 2010},\n",
       " {'count': 29, 'gender': 'MALE', 'name': 'RAYAN', 'year': 2010},\n",
       " {'count': 29, 'gender': 'MALE', 'name': 'RAMSES', 'year': 2010},\n",
       " {'count': 28, 'gender': 'MALE', 'name': 'MICHEAL', 'year': 2010},\n",
       " {'count': 28, 'gender': 'MALE', 'name': 'PORTER', 'year': 2010},\n",
       " {'count': 28, 'gender': 'MALE', 'name': 'JAMARI', 'year': 2010},\n",
       " {'count': 28, 'gender': 'MALE', 'name': 'JET', 'year': 2010},\n",
       " {'count': 28, 'gender': 'MALE', 'name': 'MAXX', 'year': 2010},\n",
       " {'count': 28, 'gender': 'MALE', 'name': 'MESSIAH', 'year': 2010},\n",
       " {'count': 28, 'gender': 'MALE', 'name': 'MARCELLO', 'year': 2010},\n",
       " {'count': 28, 'gender': 'MALE', 'name': 'ALDEN', 'year': 2010},\n",
       " {'count': 28, 'gender': 'MALE', 'name': 'AIDYN', 'year': 2010},\n",
       " {'count': 28, 'gender': 'MALE', 'name': 'ISAEL', 'year': 2010},\n",
       " {'count': 28, 'gender': 'MALE', 'name': 'GUADALUPE', 'year': 2010},\n",
       " {'count': 28, 'gender': 'MALE', 'name': 'BRENNEN', 'year': 2010},\n",
       " {'count': 28, 'gender': 'MALE', 'name': 'ZAIDEN', 'year': 2010},\n",
       " {'count': 28, 'gender': 'MALE', 'name': 'TRISTIN', 'year': 2010},\n",
       " {'count': 28, 'gender': 'MALE', 'name': 'SAMSON', 'year': 2010},\n",
       " {'count': 28, 'gender': 'MALE', 'name': 'WILL', 'year': 2010},\n",
       " {'count': 28, 'gender': 'MALE', 'name': 'YOUSEF', 'year': 2010},\n",
       " {'count': 27, 'gender': 'MALE', 'name': 'ZEUS', 'year': 2010},\n",
       " {'count': 27, 'gender': 'MALE', 'name': 'TIAGO', 'year': 2010},\n",
       " {'count': 27, 'gender': 'MALE', 'name': 'BENTLY', 'year': 2010},\n",
       " {'count': 27, 'gender': 'MALE', 'name': 'DUNCAN', 'year': 2010},\n",
       " {'count': 27, 'gender': 'MALE', 'name': 'ELLIS', 'year': 2010},\n",
       " {'count': 27, 'gender': 'MALE', 'name': 'DEVYN', 'year': 2010},\n",
       " {'count': 27, 'gender': 'MALE', 'name': 'ANDREAS', 'year': 2010},\n",
       " {'count': 27, 'gender': 'MALE', 'name': 'MAGNUS', 'year': 2010},\n",
       " {'count': 27, 'gender': 'MALE', 'name': 'RALPH', 'year': 2010},\n",
       " {'count': 27, 'gender': 'MALE', 'name': 'KAMARI', 'year': 2010},\n",
       " {'count': 27, 'gender': 'MALE', 'name': 'NASH', 'year': 2010},\n",
       " {'count': 27, 'gender': 'MALE', 'name': 'LANDYN', 'year': 2010},\n",
       " {'count': 27, 'gender': 'MALE', 'name': 'LUC', 'year': 2010},\n",
       " {'count': 27, 'gender': 'MALE', 'name': 'LEGEND', 'year': 2010},\n",
       " {'count': 27, 'gender': 'MALE', 'name': 'JOZIAH', 'year': 2010},\n",
       " {'count': 27, 'gender': 'MALE', 'name': 'LENNON', 'year': 2010},\n",
       " {'count': 27, 'gender': 'MALE', 'name': 'KOA', 'year': 2010},\n",
       " {'count': 26, 'gender': 'MALE', 'name': 'MEKHI', 'year': 2010},\n",
       " {'count': 26, 'gender': 'MALE', 'name': 'MILAN', 'year': 2010},\n",
       " {'count': 26, 'gender': 'MALE', 'name': 'REYNALDO', 'year': 2010},\n",
       " {'count': 26, 'gender': 'MALE', 'name': 'KASON', 'year': 2010},\n",
       " {'count': 26, 'gender': 'MALE', 'name': 'GORDON', 'year': 2010},\n",
       " {'count': 26, 'gender': 'MALE', 'name': 'AMEER', 'year': 2010},\n",
       " {'count': 26, 'gender': 'MALE', 'name': 'ALEK', 'year': 2010},\n",
       " {'count': 26, 'gender': 'MALE', 'name': 'DEANGELO', 'year': 2010},\n",
       " {'count': 26, 'gender': 'MALE', 'name': 'HERNAN', 'year': 2010},\n",
       " {'count': 26, 'gender': 'MALE', 'name': 'BOSTON', 'year': 2010},\n",
       " {'count': 26, 'gender': 'MALE', 'name': 'ELISHA', 'year': 2010},\n",
       " {'count': 26, 'gender': 'MALE', 'name': 'ALEXANDRE', 'year': 2010},\n",
       " {'count': 26, 'gender': 'MALE', 'name': 'FRANKY', 'year': 2010},\n",
       " {'count': 26, 'gender': 'MALE', 'name': 'ANTONY', 'year': 2010},\n",
       " {'count': 26, 'gender': 'MALE', 'name': 'SAHIL', 'year': 2010},\n",
       " {'count': 26, 'gender': 'MALE', 'name': 'SOREN', 'year': 2010},\n",
       " {'count': 25, 'gender': 'MALE', 'name': 'RYU', 'year': 2010},\n",
       " {'count': 25, 'gender': 'MALE', 'name': 'SYLAS', 'year': 2010},\n",
       " {'count': 25, 'gender': 'MALE', 'name': 'SKY', 'year': 2010},\n",
       " {'count': 25, 'gender': 'MALE', 'name': 'ZAVIER', 'year': 2010},\n",
       " {'count': 25, 'gender': 'MALE', 'name': 'STEFAN', 'year': 2010},\n",
       " {'count': 25, 'gender': 'MALE', 'name': 'EDER', 'year': 2010},\n",
       " {'count': 25, 'gender': 'MALE', 'name': 'ANTON', 'year': 2010},\n",
       " {'count': 25, 'gender': 'MALE', 'name': 'ENOCH', 'year': 2010},\n",
       " {'count': 25, 'gender': 'MALE', 'name': 'APOLLO', 'year': 2010},\n",
       " {'count': 25, 'gender': 'MALE', 'name': 'DENZEL', 'year': 2010},\n",
       " {'count': 25, 'gender': 'MALE', 'name': 'DWAYNE', 'year': 2010},\n",
       " {'count': 25, 'gender': 'MALE', 'name': 'ARYA', 'year': 2010},\n",
       " {'count': 25, 'gender': 'MALE', 'name': 'BENSON', 'year': 2010},\n",
       " {'count': 25, 'gender': 'MALE', 'name': 'EDSON', 'year': 2010},\n",
       " {'count': 25, 'gender': 'MALE', 'name': 'FLETCHER', 'year': 2010},\n",
       " {'count': 25, 'gender': 'MALE', 'name': 'COLTEN', 'year': 2010},\n",
       " {'count': 25, 'gender': 'MALE', 'name': 'MAURO', 'year': 2010},\n",
       " {'count': 25, 'gender': 'MALE', 'name': 'LENNY', 'year': 2010},\n",
       " {'count': 25, 'gender': 'MALE', 'name': 'RHETT', 'year': 2010},\n",
       " {'count': 25, 'gender': 'MALE', 'name': 'MAKSIM', 'year': 2010},\n",
       " {'count': 25, 'gender': 'MALE', 'name': 'MILTON', 'year': 2010},\n",
       " {'count': 25, 'gender': 'MALE', 'name': 'KASEN', 'year': 2010},\n",
       " {'count': 25, 'gender': 'MALE', 'name': 'KEENAN', 'year': 2010},\n",
       " {'count': 25, 'gender': 'MALE', 'name': 'KENZO', 'year': 2010},\n",
       " {'count': 25, 'gender': 'MALE', 'name': 'JULLIAN', 'year': 2010},\n",
       " {'count': 25, 'gender': 'MALE', 'name': 'PATRICIO', 'year': 2010},\n",
       " {'count': 24, 'gender': 'MALE', 'name': 'NASIR', 'year': 2010},\n",
       " {'count': 24, 'gender': 'MALE', 'name': 'NIGEL', 'year': 2010},\n",
       " {'count': 24, 'gender': 'MALE', 'name': 'JAMAL', 'year': 2010},\n",
       " {'count': 24, 'gender': 'MALE', 'name': 'RAYDEN', 'year': 2010},\n",
       " {'count': 24, 'gender': 'MALE', 'name': 'RISHI', 'year': 2010},\n",
       " {'count': 24, 'gender': 'MALE', 'name': 'JAYDAN', 'year': 2010},\n",
       " {'count': 24, 'gender': 'MALE', 'name': 'JAMIR', 'year': 2010},\n",
       " {'count': 24, 'gender': 'MALE', 'name': 'PRINCETON', 'year': 2010},\n",
       " {'count': 24, 'gender': 'MALE', 'name': 'LINO', 'year': 2010},\n",
       " {'count': 24, 'gender': 'MALE', 'name': 'PAOLO', 'year': 2010},\n",
       " {'count': 24, 'gender': 'MALE', 'name': 'JENCARLOS', 'year': 2010},\n",
       " {'count': 24, 'gender': 'MALE', 'name': 'JAXEN', 'year': 2010},\n",
       " {'count': 24, 'gender': 'MALE', 'name': 'GEOVANY', 'year': 2010},\n",
       " {'count': 24, 'gender': 'MALE', 'name': 'GREGORIO', 'year': 2010},\n",
       " {'count': 24, 'gender': 'MALE', 'name': 'CANNON', 'year': 2010},\n",
       " {'count': 24, 'gender': 'MALE', 'name': 'HARVEY', 'year': 2010},\n",
       " {'count': 24, 'gender': 'MALE', 'name': 'AEDAN', 'year': 2010},\n",
       " {'count': 24, 'gender': 'MALE', 'name': 'DAMION', 'year': 2010},\n",
       " {'count': 24, 'gender': 'MALE', 'name': 'CHANDLER', 'year': 2010},\n",
       " {'count': 24, 'gender': 'MALE', 'name': 'ANDERS', 'year': 2010},\n",
       " {'count': 24, 'gender': 'MALE', 'name': 'DESHAWN', 'year': 2010},\n",
       " {'count': 24, 'gender': 'MALE', 'name': 'ABNER', 'year': 2010},\n",
       " {'count': 24, 'gender': 'MALE', 'name': 'GIAN', 'year': 2010},\n",
       " {'count': 24, 'gender': 'MALE', 'name': 'DRAVEN', 'year': 2010},\n",
       " {'count': 24, 'gender': 'MALE', 'name': 'SEMAJ', 'year': 2010},\n",
       " {'count': 24, 'gender': 'MALE', 'name': 'SANTANA', 'year': 2010},\n",
       " {'count': 24, 'gender': 'MALE', 'name': 'VAUGHN', 'year': 2010},\n",
       " {'count': 23, 'gender': 'MALE', 'name': 'TERRELL', 'year': 2010},\n",
       " {'count': 23, 'gender': 'MALE', 'name': 'SEAMUS', 'year': 2010},\n",
       " {'count': 23, 'gender': 'MALE', 'name': 'YESHUA', 'year': 2010},\n",
       " {'count': 23, 'gender': 'MALE', 'name': 'SAMI', 'year': 2010},\n",
       " {'count': 23, 'gender': 'MALE', 'name': 'SAMMY', 'year': 2010},\n",
       " {'count': 23, 'gender': 'MALE', 'name': 'TATUM', 'year': 2010},\n",
       " {'count': 23, 'gender': 'MALE', 'name': 'ISHAN', 'year': 2010},\n",
       " {'count': 23, 'gender': 'MALE', 'name': 'ARES', 'year': 2010},\n",
       " {'count': 23, 'gender': 'MALE', 'name': 'CULLEN', 'year': 2010},\n",
       " {'count': 23, 'gender': 'MALE', 'name': 'HEZEKIAH', 'year': 2010},\n",
       " {'count': 23, 'gender': 'MALE', 'name': 'ELIGH', 'year': 2010},\n",
       " {'count': 23, 'gender': 'MALE', 'name': 'ANSON', 'year': 2010},\n",
       " {'count': 23, 'gender': 'MALE', 'name': 'IZAAK', 'year': 2010},\n",
       " {'count': 23, 'gender': 'MALE', 'name': 'AUGUSTUS', 'year': 2010},\n",
       " {'count': 23, 'gender': 'MALE', 'name': 'CALLUM', 'year': 2010},\n",
       " {'count': 23, 'gender': 'MALE', 'name': 'ELAN', 'year': 2010},\n",
       " {'count': 23, 'gender': 'MALE', 'name': 'JERMAINE', 'year': 2010},\n",
       " {'count': 23, 'gender': 'MALE', 'name': 'KAINOA', 'year': 2010},\n",
       " {'count': 23, 'gender': 'MALE', 'name': 'KEAGAN', 'year': 2010},\n",
       " {'count': 23, 'gender': 'MALE', 'name': 'RENATO', 'year': 2010},\n",
       " {'count': 23, 'gender': 'MALE', 'name': 'JUAN CARLOS', 'year': 2010},\n",
       " {'count': 23, 'gender': 'MALE', 'name': 'JESHUA', 'year': 2010},\n",
       " {'count': 22, 'gender': 'MALE', 'name': 'NERY', 'year': 2010},\n",
       " {'count': 22, 'gender': 'MALE', 'name': 'REGINALD', 'year': 2010},\n",
       " {'count': 22, 'gender': 'MALE', 'name': 'PAULO', 'year': 2010},\n",
       " {'count': 22, 'gender': 'MALE', 'name': 'LINUS', 'year': 2010},\n",
       " {'count': 22, 'gender': 'MALE', 'name': 'JOAN', 'year': 2010},\n",
       " {'count': 22, 'gender': 'MALE', 'name': 'JESIAH', 'year': 2010},\n",
       " {'count': 22, 'gender': 'MALE', 'name': 'NATHANIAL', 'year': 2010},\n",
       " {'count': 22, 'gender': 'MALE', 'name': 'MAYSON', 'year': 2010},\n",
       " {'count': 22, 'gender': 'MALE', 'name': 'LEIF', 'year': 2010},\n",
       " {'count': 22, 'gender': 'MALE', 'name': 'OM', 'year': 2010},\n",
       " {'count': 22, 'gender': 'MALE', 'name': 'LAMAR', 'year': 2010},\n",
       " {'count': 22, 'gender': 'MALE', 'name': 'NAREK', 'year': 2010},\n",
       " {'count': 22, 'gender': 'MALE', 'name': 'OMARI', 'year': 2010},\n",
       " {'count': 22, 'gender': 'MALE', 'name': 'JORDYN', 'year': 2010},\n",
       " {'count': 22, 'gender': 'MALE', 'name': 'FORREST', 'year': 2010},\n",
       " {'count': 22, 'gender': 'MALE', 'name': 'ANDREI', 'year': 2010},\n",
       " {'count': 22, 'gender': 'MALE', 'name': 'BRAYLEN', 'year': 2010},\n",
       " {'count': 22, 'gender': 'MALE', 'name': 'AJAY', 'year': 2010},\n",
       " {'count': 22, 'gender': 'MALE', 'name': 'AVI', 'year': 2010},\n",
       " {'count': 22, 'gender': 'MALE', 'name': 'ASA', 'year': 2010},\n",
       " {'count': 22, 'gender': 'MALE', 'name': 'BRODERICK', 'year': 2010},\n",
       " {'count': 22, 'gender': 'MALE', 'name': 'CASON', 'year': 2010},\n",
       " {'count': 22, 'gender': 'MALE', 'name': 'CEASAR', 'year': 2010},\n",
       " {'count': 22, 'gender': 'MALE', 'name': 'ERNEST', 'year': 2010},\n",
       " {'count': 22, 'gender': 'MALE', 'name': 'ATHAN', 'year': 2010},\n",
       " {'count': 22, 'gender': 'MALE', 'name': 'CAEL', 'year': 2010},\n",
       " {'count': 22, 'gender': 'MALE', 'name': 'CALLEN', 'year': 2010},\n",
       " {'count': 22, 'gender': 'MALE', 'name': 'BENITO', 'year': 2010},\n",
       " {'count': 22, 'gender': 'MALE', 'name': 'DEMETRIUS', 'year': 2010},\n",
       " {'count': 22, 'gender': 'MALE', 'name': 'DOMINIQUE', 'year': 2010},\n",
       " {'count': 22, 'gender': 'MALE', 'name': 'EDDY', 'year': 2010},\n",
       " {'count': 22, 'gender': 'MALE', 'name': 'DARRYL', 'year': 2010},\n",
       " {'count': 22, 'gender': 'MALE', 'name': 'ABHINAV', 'year': 2010},\n",
       " {'count': 22, 'gender': 'MALE', 'name': 'TERRENCE', 'year': 2010},\n",
       " {'count': 22, 'gender': 'MALE', 'name': 'SANJAY', 'year': 2010},\n",
       " {'count': 22, 'gender': 'MALE', 'name': 'SEBASTIEN', 'year': 2010},\n",
       " {'count': 22, 'gender': 'MALE', 'name': 'ZACHERY', 'year': 2010},\n",
       " {'count': 21, 'gender': 'MALE', 'name': 'VARUN', 'year': 2010},\n",
       " {'count': 21, 'gender': 'MALE', 'name': 'ROLAND', 'year': 2010},\n",
       " {'count': 21, 'gender': 'MALE', 'name': 'RORY', 'year': 2010},\n",
       " {'count': 21, 'gender': 'MALE', 'name': 'RYDEN', 'year': 2010},\n",
       " {'count': 21, 'gender': 'MALE', 'name': 'TRACE', 'year': 2010},\n",
       " {'count': 21, 'gender': 'MALE', 'name': 'ZAIRE', 'year': 2010},\n",
       " {'count': 21, 'gender': 'MALE', 'name': 'TAYDEN', 'year': 2010},\n",
       " {'count': 21, 'gender': 'MALE', 'name': 'GENARO', 'year': 2010},\n",
       " {'count': 21, 'gender': 'MALE', 'name': 'HOWARD', 'year': 2010},\n",
       " ...]"
      ]
     },
     "execution_count": 245,
     "metadata": {},
     "output_type": "execute_result"
    }
   ],
   "source": [
    "filter_babies(baby_entries, \"year\", 2010)"
   ]
  },
  {
   "cell_type": "code",
   "execution_count": 263,
   "metadata": {
    "collapsed": false
   },
   "outputs": [
    {
     "data": {
      "text/plain": [
       "list"
      ]
     },
     "execution_count": 263,
     "metadata": {},
     "output_type": "execute_result"
    }
   ],
   "source": [
    "import csv\n",
    "\n",
    "with open (filename, \"r\") as f:\n",
    "    # Create a 'DictReader' object pointing to the CSV file\n",
    "    reader = csv.DictReader(f)\n",
    "    \n",
    "    babies_from_csv = []\n",
    "    \n",
    "    for row in reader:\n",
    "        babies_from_csv.append(row)\n",
    "        \n",
    "type(babies_from_csv)"
   ]
  },
  {
   "cell_type": "code",
   "execution_count": 264,
   "metadata": {
    "collapsed": false
   },
   "outputs": [
    {
     "data": {
      "text/plain": [
       "295192"
      ]
     },
     "execution_count": 264,
     "metadata": {},
     "output_type": "execute_result"
    }
   ],
   "source": [
    "len(babies_from_csv)"
   ]
  },
  {
   "cell_type": "code",
   "execution_count": 265,
   "metadata": {
    "collapsed": false
   },
   "outputs": [
    {
     "data": {
      "text/plain": [
       "{'COUNT': '3423', 'GENDER': 'MALE', 'NAME': 'DANIEL', 'YEAR': '2009'}"
      ]
     },
     "execution_count": 265,
     "metadata": {},
     "output_type": "execute_result"
    }
   ],
   "source": [
    "babies_from_csv[0]"
   ]
  },
  {
   "cell_type": "code",
   "execution_count": 266,
   "metadata": {
    "collapsed": false
   },
   "outputs": [
    {
     "data": {
      "text/plain": [
       "[{'COUNT': '2', 'GENDER': 'FEMALE', 'NAME': 'XENA', 'YEAR': '2009'},\n",
       " {'COUNT': '6', 'GENDER': 'FEMALE', 'NAME': 'XENA', 'YEAR': '2010'},\n",
       " {'COUNT': '7', 'GENDER': 'FEMALE', 'NAME': 'XENA', 'YEAR': '2011'},\n",
       " {'COUNT': '11', 'GENDER': 'FEMALE', 'NAME': 'XENA', 'YEAR': '2012'},\n",
       " {'COUNT': '10', 'GENDER': 'FEMALE', 'NAME': 'XENA', 'YEAR': '2013'}]"
      ]
     },
     "execution_count": 266,
     "metadata": {},
     "output_type": "execute_result"
    }
   ],
   "source": [
    "filter_babies(babies_from_csv, 'NAME', \"XENA\")"
   ]
  },
  {
   "cell_type": "code",
   "execution_count": 267,
   "metadata": {
    "collapsed": true
   },
   "outputs": [],
   "source": [
    "%matplotlib inline"
   ]
  },
  {
   "cell_type": "code",
   "execution_count": 271,
   "metadata": {
    "collapsed": true
   },
   "outputs": [],
   "source": [
    "babies_per_year = []\n",
    "\n",
    "# The following list is short, so we'll key it in by hand.\n",
    "years = [2009, 2010, 2011, 2012, 2013]\n",
    "\n",
    "for year in years:\n",
    "    babies_for_year = filter_babies(baby_entries, \"year\", year)\n",
    "\n",
    "    num_babies = 0\n",
    "    for baby in babies_for_year:\n",
    "        num_babies = num_babies + baby[\"count\"]\n",
    "\n",
    "    babies_per_year.append(num_babies)"
   ]
  },
  {
   "cell_type": "code",
   "execution_count": 269,
   "metadata": {
    "collapsed": true
   },
   "outputs": [],
   "source": [
    "import matplotlib"
   ]
  },
  {
   "cell_type": "code",
   "execution_count": 272,
   "metadata": {
    "collapsed": false
   },
   "outputs": [
    {
     "data": {
      "text/plain": [
       "[<matplotlib.lines.Line2D at 0x119fec250>]"
      ]
     },
     "execution_count": 272,
     "metadata": {},
     "output_type": "execute_result"
    },
    {
     "data": {
      "image/png": "[encoded data removed]",
      "text/plain": [
       "<matplotlib.figure.Figure at 0x119ecf250>"
      ]
     },
     "metadata": {},
     "output_type": "display_data"
    }
   ],
   "source": [
    "matplotlib.pyplot.plot(years, babies_per_year)"
   ]
  },
  {
   "cell_type": "code",
   "execution_count": null,
   "metadata": {
    "collapsed": true
   },
   "outputs": [],
   "source": []
  }
 ],
 "metadata": {
  "kernelspec": {
   "display_name": "Python 2",
   "language": "python",
   "name": "python2"
  },
  "language_info": {
   "codemirror_mode": {
    "name": "ipython",
    "version": 2
   },
   "file_extension": ".py",
   "mimetype": "text/x-python",
   "name": "python",
   "nbconvert_exporter": "python",
   "pygments_lexer": "ipython2",
   "version": "2.7.11"
  }
 },
 "nbformat": 4,
 "nbformat_minor": 0
}
